{
 "cells": [
  {
   "cell_type": "code",
   "execution_count": 1,
   "metadata": {
    "collapsed": true
   },
   "outputs": [],
   "source": [
    "import numpy as np\n",
    "import graphlab as gl\n",
    "import re"
   ]
  },
  {
   "cell_type": "markdown",
   "metadata": {},
   "source": [
    "## Test reformatting of untidy GMB data file"
   ]
  },
  {
   "cell_type": "code",
   "execution_count": 2,
   "metadata": {
    "collapsed": true
   },
   "outputs": [],
   "source": [
    "def manual_parsing(filename,delim,dtype):\n",
    "    out = list()\n",
    "    with open(filename,'r') as ins:\n",
    "        for line in ins:\n",
    "            l = line.split(delim)\n",
    "            out.extend(l)\n",
    "    return np.array(out,dtype=dtype)"
   ]
  },
  {
   "cell_type": "code",
   "execution_count": 3,
   "metadata": {
    "collapsed": true
   },
   "outputs": [],
   "source": [
    "test = manual_parsing('GMB insights (Discovery Report) - Heidi Guenther - 2017-9-4 - 2017-9-10.csv',\n",
    "                      delim = '\\r', dtype=None)"
   ]
  },
  {
   "cell_type": "code",
   "execution_count": 4,
   "metadata": {
    "collapsed": false
   },
   "outputs": [
    {
     "data": {
      "text/plain": [
       "array([ '\"Store code\",\"Business name\",\"Address\",\"Labels\",\"Total searches\",\"Direct searches\",\"Discovery searches\",\"Total views\",\"Search views\",\"Maps views\",\"Total actions\",\"Website actions\",\"Directions actions\",\"Phone call actions\"',\n",
       "       ',,,,\"Number of times customers found this listing by searching on Google Search or Maps\",\"Number of times customers found this listing by searching for the business name or address on Google Search or Maps\",\"Number of times customers found this listing by searching for the category, product or service on Google Search or Maps\",\"Number of times this listing has been viewed on Google Search or Maps\",\"Number of times this listing has been viewed on Google Search\",\"Number of times this listing has been viewed on Google Maps\",\"Number of times customers have taken action on this listing on Google Search or Maps\",\"Number of times customers have visited the website from this listing\",\"Number of times customers have requested directions from this listing\",\"Number of times customers have called the business from this listing\"',\n",
       "       ',\"Birdcall\",\"800 East 26th Avenue, Denver, CO, US\",,2268,1213,1055,5276,2278,2998,606,365,218,23',\n",
       "       ',\"Park Burger Pearl\",\"1890 South Pearl Street, Denver, CO, US\",,10165,658,9507,24451,9490,14961,680,120,445,115',\n",
       "       ',\"Park Burger Highlands\",\"2643 West 32nd Avenue, Denver, Colorado, US\",,9073,269,8804,18198,8535,9663,395,100,229,66',\n",
       "       ',\"Homegrown Tap & Dough\",\"5601 Olde Wadsworth Blvd., Arvada, CO, US\",,6223,564,5659,17136,6567,10569,573,170,327,76',\n",
       "       ',\"Homegrown Tap & Dough - Wash Park\",\"1001 S Gaylord St, Denver, Colorado, US\",,3792,914,2878,15561,4692,10869,631,189,335,107',\n",
       "       ',\"Park Burger Hilltop\",\"211 S Holly St, Denver, CO, US\",,7035,332,6703,15863,6495,9368,454,106,259,89',\n",
       "       ',\"Park Burger RiNo\",\"2615 Walnut St, Denver, CO, US\",,10856,741,10115,33012,9884,23128,733,132,507,94'], \n",
       "      dtype='|S827')"
      ]
     },
     "execution_count": 4,
     "metadata": {},
     "output_type": "execute_result"
    }
   ],
   "source": [
    "test"
   ]
  },
  {
   "cell_type": "markdown",
   "metadata": {},
   "source": [
    "### look at one line of data"
   ]
  },
  {
   "cell_type": "code",
   "execution_count": 5,
   "metadata": {
    "collapsed": false
   },
   "outputs": [
    {
     "data": {
      "text/plain": [
       "'\"Store code\",\"Business name\",\"Address\",\"Labels\",\"Total searches\",\"Direct searches\",\"Discovery searches\",\"Total views\",\"Search views\",\"Maps views\",\"Total actions\",\"Website actions\",\"Directions actions\",\"Phone call actions\"'"
      ]
     },
     "execution_count": 5,
     "metadata": {},
     "output_type": "execute_result"
    }
   ],
   "source": [
    "#line_8_array = test[:,8]\n",
    "#string = line_8_array[0]\n",
    "#string\n",
    "test[0]"
   ]
  },
  {
   "cell_type": "markdown",
   "metadata": {},
   "source": [
    "### Remove quotes around each entry"
   ]
  },
  {
   "cell_type": "code",
   "execution_count": 6,
   "metadata": {
    "collapsed": false
   },
   "outputs": [
    {
     "name": "stdout",
     "output_type": "stream",
     "text": [
      "Store code,Business name,Address,Labels,Total searches,Direct searches,Discovery searches,Total views,Search views,Maps views,Total actions,Website actions,Directions actions,Phone call actions\n"
     ]
    }
   ],
   "source": [
    "expr = r\"[\\\"]\"\n",
    "q = re.sub(expr, '', test[0])\n",
    "print q"
   ]
  },
  {
   "cell_type": "markdown",
   "metadata": {},
   "source": [
    "### Turn row into tuple"
   ]
  },
  {
   "cell_type": "code",
   "execution_count": 7,
   "metadata": {
    "collapsed": false
   },
   "outputs": [
    {
     "data": {
      "text/plain": [
       "['Store code',\n",
       " 'Business name',\n",
       " 'Address',\n",
       " 'Labels',\n",
       " 'Total searches',\n",
       " 'Direct searches',\n",
       " 'Discovery searches',\n",
       " 'Total views',\n",
       " 'Search views',\n",
       " 'Maps views',\n",
       " 'Total actions',\n",
       " 'Website actions',\n",
       " 'Directions actions',\n",
       " 'Phone call actions']"
      ]
     },
     "execution_count": 7,
     "metadata": {},
     "output_type": "execute_result"
    }
   ],
   "source": [
    "element_of_list = q.split(',')\n",
    "element_of_list"
   ]
  },
  {
   "cell_type": "markdown",
   "metadata": {},
   "source": [
    "### Append multiple lines into rows of tuples"
   ]
  },
  {
   "cell_type": "code",
   "execution_count": 8,
   "metadata": {
    "collapsed": false
   },
   "outputs": [
    {
     "name": "stdout",
     "output_type": "stream",
     "text": [
      "[['', 'Birdcall', '800 East 26th Avenue', ' Denver', ' CO', ' US', '', '2268', '1213', '1055', '5276', '2278', '2998', '606', '365', '218', '23'], ['', 'Park Burger Pearl', '1890 South Pearl Street', ' Denver', ' CO', ' US', '', '10165', '658', '9507', '24451', '9490', '14961', '680', '120', '445', '115'], ['', 'Park Burger Highlands', '2643 West 32nd Avenue', ' Denver', ' Colorado', ' US', '', '9073', '269', '8804', '18198', '8535', '9663', '395', '100', '229', '66'], ['', 'Homegrown Tap & Dough', '5601 Olde Wadsworth Blvd.', ' Arvada', ' CO', ' US', '', '6223', '564', '5659', '17136', '6567', '10569', '573', '170', '327', '76'], ['', 'Homegrown Tap & Dough - Wash Park', '1001 S Gaylord St', ' Denver', ' Colorado', ' US', '', '3792', '914', '2878', '15561', '4692', '10869', '631', '189', '335', '107'], ['', 'Park Burger Hilltop', '211 S Holly St', ' Denver', ' CO', ' US', '', '7035', '332', '6703', '15863', '6495', '9368', '454', '106', '259', '89'], ['', 'Park Burger RiNo', '2615 Walnut St', ' Denver', ' CO', ' US', '', '10856', '741', '10115', '33012', '9884', '23128', '733', '132', '507', '94']]\n"
     ]
    }
   ],
   "source": [
    "rows = list()\n",
    "\n",
    "#make following rows into lists\n",
    "for i in range(2,9):\n",
    "    expr = r\"[\\\"]\"\n",
    "    remove_quotes = re.sub(expr, '', test[i])\n",
    "    make_a_list = remove_quotes.split(',')\n",
    "    rows.append(make_a_list)\n",
    "    \n",
    "print rows"
   ]
  },
  {
   "cell_type": "code",
   "execution_count": 9,
   "metadata": {
    "collapsed": false
   },
   "outputs": [
    {
     "data": {
      "text/plain": [
       "7"
      ]
     },
     "execution_count": 9,
     "metadata": {},
     "output_type": "execute_result"
    }
   ],
   "source": [
    "len(rows)"
   ]
  },
  {
   "cell_type": "markdown",
   "metadata": {},
   "source": [
    "## Make column names from first line"
   ]
  },
  {
   "cell_type": "code",
   "execution_count": 10,
   "metadata": {
    "collapsed": true
   },
   "outputs": [],
   "source": [
    "#names = ['blank','location', 'address', 'city','state', 'country', 'labels', 'total searches', 'direct searches', 'discovery searches', 'total views', \n",
    "#                'search views', 'map views', 'total actions', 'website actions', 'direciton actions', 'phone call actions']"
   ]
  },
  {
   "cell_type": "code",
   "execution_count": 11,
   "metadata": {
    "collapsed": true
   },
   "outputs": [],
   "source": [
    "#make header into list from str\n",
    "expr = r\"[\\\"]\"\n",
    "n = re.sub(expr, '', test[0])\n",
    "names = n.split(',')\n",
    "names.insert(3, 'City')\n",
    "names.insert(4, 'State')\n",
    "names.insert(5, 'Country')"
   ]
  },
  {
   "cell_type": "markdown",
   "metadata": {},
   "source": [
    "## Create matrix out of column names and rows"
   ]
  },
  {
   "cell_type": "code",
   "execution_count": 12,
   "metadata": {
    "collapsed": false
   },
   "outputs": [],
   "source": [
    "transverse = np.array(rows).T\n",
    "matrix = dict(zip(names, transverse))"
   ]
  },
  {
   "cell_type": "code",
   "execution_count": 13,
   "metadata": {
    "collapsed": false
   },
   "outputs": [
    {
     "name": "stdout",
     "output_type": "stream",
     "text": [
      "('', 'Birdcall', '800 East 26th Avenue', ' Denver', ' CO', ' US', '', '2268', '1213', '1055', '5276', '2278', '2998', '606', '365', '218', '23')\n"
     ]
    }
   ],
   "source": [
    "print tuple(rows[0])"
   ]
  },
  {
   "cell_type": "code",
   "execution_count": 14,
   "metadata": {
    "collapsed": false
   },
   "outputs": [
    {
     "name": "stderr",
     "output_type": "stream",
     "text": [
      "[INFO] graphlab.cython.cy_server: GraphLab Create v2.1 started. Logging: C:\\Users\\Heidi\\AppData\\Local\\Temp\\graphlab_server_1532458611.log.0\n"
     ]
    },
    {
     "name": "stdout",
     "output_type": "stream",
     "text": [
      "This non-commercial license of GraphLab Create for academic use is assigned to heidijoyguenther@gmail.com and will expire on May 31, 2019.\n"
     ]
    },
    {
     "data": {
      "text/html": [
       "<div style=\"max-height:1000px;max-width:1500px;overflow:auto;\"><table frame=\"box\" rules=\"cols\">\n",
       "    <tr>\n",
       "        <th style=\"padding-left: 1em; padding-right: 1em; text-align: center\">Address</th>\n",
       "        <th style=\"padding-left: 1em; padding-right: 1em; text-align: center\">Business name</th>\n",
       "        <th style=\"padding-left: 1em; padding-right: 1em; text-align: center\">City</th>\n",
       "        <th style=\"padding-left: 1em; padding-right: 1em; text-align: center\">Country</th>\n",
       "        <th style=\"padding-left: 1em; padding-right: 1em; text-align: center\">Direct searches</th>\n",
       "        <th style=\"padding-left: 1em; padding-right: 1em; text-align: center\">Directions actions</th>\n",
       "        <th style=\"padding-left: 1em; padding-right: 1em; text-align: center\">Discovery searches</th>\n",
       "    </tr>\n",
       "    <tr>\n",
       "        <td style=\"padding-left: 1em; padding-right: 1em; text-align: center; vertical-align: top\">800 East 26th Avenue</td>\n",
       "        <td style=\"padding-left: 1em; padding-right: 1em; text-align: center; vertical-align: top\">Birdcall</td>\n",
       "        <td style=\"padding-left: 1em; padding-right: 1em; text-align: center; vertical-align: top\"> Denver</td>\n",
       "        <td style=\"padding-left: 1em; padding-right: 1em; text-align: center; vertical-align: top\"> US</td>\n",
       "        <td style=\"padding-left: 1em; padding-right: 1em; text-align: center; vertical-align: top\">1213</td>\n",
       "        <td style=\"padding-left: 1em; padding-right: 1em; text-align: center; vertical-align: top\">218</td>\n",
       "        <td style=\"padding-left: 1em; padding-right: 1em; text-align: center; vertical-align: top\">1055</td>\n",
       "    </tr>\n",
       "    <tr>\n",
       "        <td style=\"padding-left: 1em; padding-right: 1em; text-align: center; vertical-align: top\">1890 South Pearl Street</td>\n",
       "        <td style=\"padding-left: 1em; padding-right: 1em; text-align: center; vertical-align: top\">Park Burger Pearl</td>\n",
       "        <td style=\"padding-left: 1em; padding-right: 1em; text-align: center; vertical-align: top\"> Denver</td>\n",
       "        <td style=\"padding-left: 1em; padding-right: 1em; text-align: center; vertical-align: top\"> US</td>\n",
       "        <td style=\"padding-left: 1em; padding-right: 1em; text-align: center; vertical-align: top\">658</td>\n",
       "        <td style=\"padding-left: 1em; padding-right: 1em; text-align: center; vertical-align: top\">445</td>\n",
       "        <td style=\"padding-left: 1em; padding-right: 1em; text-align: center; vertical-align: top\">9507</td>\n",
       "    </tr>\n",
       "    <tr>\n",
       "        <td style=\"padding-left: 1em; padding-right: 1em; text-align: center; vertical-align: top\">2643 West 32nd Avenue</td>\n",
       "        <td style=\"padding-left: 1em; padding-right: 1em; text-align: center; vertical-align: top\">Park Burger Highlands</td>\n",
       "        <td style=\"padding-left: 1em; padding-right: 1em; text-align: center; vertical-align: top\"> Denver</td>\n",
       "        <td style=\"padding-left: 1em; padding-right: 1em; text-align: center; vertical-align: top\"> US</td>\n",
       "        <td style=\"padding-left: 1em; padding-right: 1em; text-align: center; vertical-align: top\">269</td>\n",
       "        <td style=\"padding-left: 1em; padding-right: 1em; text-align: center; vertical-align: top\">229</td>\n",
       "        <td style=\"padding-left: 1em; padding-right: 1em; text-align: center; vertical-align: top\">8804</td>\n",
       "    </tr>\n",
       "    <tr>\n",
       "        <td style=\"padding-left: 1em; padding-right: 1em; text-align: center; vertical-align: top\">5601 Olde Wadsworth Blvd.</td>\n",
       "        <td style=\"padding-left: 1em; padding-right: 1em; text-align: center; vertical-align: top\">Homegrown Tap &amp; Dough</td>\n",
       "        <td style=\"padding-left: 1em; padding-right: 1em; text-align: center; vertical-align: top\"> Arvada</td>\n",
       "        <td style=\"padding-left: 1em; padding-right: 1em; text-align: center; vertical-align: top\"> US</td>\n",
       "        <td style=\"padding-left: 1em; padding-right: 1em; text-align: center; vertical-align: top\">564</td>\n",
       "        <td style=\"padding-left: 1em; padding-right: 1em; text-align: center; vertical-align: top\">327</td>\n",
       "        <td style=\"padding-left: 1em; padding-right: 1em; text-align: center; vertical-align: top\">5659</td>\n",
       "    </tr>\n",
       "    <tr>\n",
       "        <td style=\"padding-left: 1em; padding-right: 1em; text-align: center; vertical-align: top\">1001 S Gaylord St</td>\n",
       "        <td style=\"padding-left: 1em; padding-right: 1em; text-align: center; vertical-align: top\">Homegrown Tap &amp; Dough -<br>Wash Park ...</td>\n",
       "        <td style=\"padding-left: 1em; padding-right: 1em; text-align: center; vertical-align: top\"> Denver</td>\n",
       "        <td style=\"padding-left: 1em; padding-right: 1em; text-align: center; vertical-align: top\"> US</td>\n",
       "        <td style=\"padding-left: 1em; padding-right: 1em; text-align: center; vertical-align: top\">914</td>\n",
       "        <td style=\"padding-left: 1em; padding-right: 1em; text-align: center; vertical-align: top\">335</td>\n",
       "        <td style=\"padding-left: 1em; padding-right: 1em; text-align: center; vertical-align: top\">2878</td>\n",
       "    </tr>\n",
       "    <tr>\n",
       "        <td style=\"padding-left: 1em; padding-right: 1em; text-align: center; vertical-align: top\">211 S Holly St</td>\n",
       "        <td style=\"padding-left: 1em; padding-right: 1em; text-align: center; vertical-align: top\">Park Burger Hilltop</td>\n",
       "        <td style=\"padding-left: 1em; padding-right: 1em; text-align: center; vertical-align: top\"> Denver</td>\n",
       "        <td style=\"padding-left: 1em; padding-right: 1em; text-align: center; vertical-align: top\"> US</td>\n",
       "        <td style=\"padding-left: 1em; padding-right: 1em; text-align: center; vertical-align: top\">332</td>\n",
       "        <td style=\"padding-left: 1em; padding-right: 1em; text-align: center; vertical-align: top\">259</td>\n",
       "        <td style=\"padding-left: 1em; padding-right: 1em; text-align: center; vertical-align: top\">6703</td>\n",
       "    </tr>\n",
       "    <tr>\n",
       "        <td style=\"padding-left: 1em; padding-right: 1em; text-align: center; vertical-align: top\">2615 Walnut St</td>\n",
       "        <td style=\"padding-left: 1em; padding-right: 1em; text-align: center; vertical-align: top\">Park Burger RiNo</td>\n",
       "        <td style=\"padding-left: 1em; padding-right: 1em; text-align: center; vertical-align: top\"> Denver</td>\n",
       "        <td style=\"padding-left: 1em; padding-right: 1em; text-align: center; vertical-align: top\"> US</td>\n",
       "        <td style=\"padding-left: 1em; padding-right: 1em; text-align: center; vertical-align: top\">741</td>\n",
       "        <td style=\"padding-left: 1em; padding-right: 1em; text-align: center; vertical-align: top\">507</td>\n",
       "        <td style=\"padding-left: 1em; padding-right: 1em; text-align: center; vertical-align: top\">10115</td>\n",
       "    </tr>\n",
       "</table>\n",
       "<table frame=\"box\" rules=\"cols\">\n",
       "    <tr>\n",
       "        <th style=\"padding-left: 1em; padding-right: 1em; text-align: center\">Labels</th>\n",
       "        <th style=\"padding-left: 1em; padding-right: 1em; text-align: center\">Maps views</th>\n",
       "        <th style=\"padding-left: 1em; padding-right: 1em; text-align: center\">Phone call actions</th>\n",
       "        <th style=\"padding-left: 1em; padding-right: 1em; text-align: center\">Search views</th>\n",
       "        <th style=\"padding-left: 1em; padding-right: 1em; text-align: center\">State</th>\n",
       "        <th style=\"padding-left: 1em; padding-right: 1em; text-align: center\">Store code</th>\n",
       "        <th style=\"padding-left: 1em; padding-right: 1em; text-align: center\">Total actions</th>\n",
       "        <th style=\"padding-left: 1em; padding-right: 1em; text-align: center\">Total searches</th>\n",
       "    </tr>\n",
       "    <tr>\n",
       "        <td style=\"padding-left: 1em; padding-right: 1em; text-align: center; vertical-align: top\"></td>\n",
       "        <td style=\"padding-left: 1em; padding-right: 1em; text-align: center; vertical-align: top\">2998</td>\n",
       "        <td style=\"padding-left: 1em; padding-right: 1em; text-align: center; vertical-align: top\">23</td>\n",
       "        <td style=\"padding-left: 1em; padding-right: 1em; text-align: center; vertical-align: top\">2278</td>\n",
       "        <td style=\"padding-left: 1em; padding-right: 1em; text-align: center; vertical-align: top\"> CO</td>\n",
       "        <td style=\"padding-left: 1em; padding-right: 1em; text-align: center; vertical-align: top\"></td>\n",
       "        <td style=\"padding-left: 1em; padding-right: 1em; text-align: center; vertical-align: top\">606</td>\n",
       "        <td style=\"padding-left: 1em; padding-right: 1em; text-align: center; vertical-align: top\">2268</td>\n",
       "    </tr>\n",
       "    <tr>\n",
       "        <td style=\"padding-left: 1em; padding-right: 1em; text-align: center; vertical-align: top\"></td>\n",
       "        <td style=\"padding-left: 1em; padding-right: 1em; text-align: center; vertical-align: top\">14961</td>\n",
       "        <td style=\"padding-left: 1em; padding-right: 1em; text-align: center; vertical-align: top\">115</td>\n",
       "        <td style=\"padding-left: 1em; padding-right: 1em; text-align: center; vertical-align: top\">9490</td>\n",
       "        <td style=\"padding-left: 1em; padding-right: 1em; text-align: center; vertical-align: top\"> CO</td>\n",
       "        <td style=\"padding-left: 1em; padding-right: 1em; text-align: center; vertical-align: top\"></td>\n",
       "        <td style=\"padding-left: 1em; padding-right: 1em; text-align: center; vertical-align: top\">680</td>\n",
       "        <td style=\"padding-left: 1em; padding-right: 1em; text-align: center; vertical-align: top\">10165</td>\n",
       "    </tr>\n",
       "    <tr>\n",
       "        <td style=\"padding-left: 1em; padding-right: 1em; text-align: center; vertical-align: top\"></td>\n",
       "        <td style=\"padding-left: 1em; padding-right: 1em; text-align: center; vertical-align: top\">9663</td>\n",
       "        <td style=\"padding-left: 1em; padding-right: 1em; text-align: center; vertical-align: top\">66</td>\n",
       "        <td style=\"padding-left: 1em; padding-right: 1em; text-align: center; vertical-align: top\">8535</td>\n",
       "        <td style=\"padding-left: 1em; padding-right: 1em; text-align: center; vertical-align: top\"> Colorado</td>\n",
       "        <td style=\"padding-left: 1em; padding-right: 1em; text-align: center; vertical-align: top\"></td>\n",
       "        <td style=\"padding-left: 1em; padding-right: 1em; text-align: center; vertical-align: top\">395</td>\n",
       "        <td style=\"padding-left: 1em; padding-right: 1em; text-align: center; vertical-align: top\">9073</td>\n",
       "    </tr>\n",
       "    <tr>\n",
       "        <td style=\"padding-left: 1em; padding-right: 1em; text-align: center; vertical-align: top\"></td>\n",
       "        <td style=\"padding-left: 1em; padding-right: 1em; text-align: center; vertical-align: top\">10569</td>\n",
       "        <td style=\"padding-left: 1em; padding-right: 1em; text-align: center; vertical-align: top\">76</td>\n",
       "        <td style=\"padding-left: 1em; padding-right: 1em; text-align: center; vertical-align: top\">6567</td>\n",
       "        <td style=\"padding-left: 1em; padding-right: 1em; text-align: center; vertical-align: top\"> CO</td>\n",
       "        <td style=\"padding-left: 1em; padding-right: 1em; text-align: center; vertical-align: top\"></td>\n",
       "        <td style=\"padding-left: 1em; padding-right: 1em; text-align: center; vertical-align: top\">573</td>\n",
       "        <td style=\"padding-left: 1em; padding-right: 1em; text-align: center; vertical-align: top\">6223</td>\n",
       "    </tr>\n",
       "    <tr>\n",
       "        <td style=\"padding-left: 1em; padding-right: 1em; text-align: center; vertical-align: top\"></td>\n",
       "        <td style=\"padding-left: 1em; padding-right: 1em; text-align: center; vertical-align: top\">10869</td>\n",
       "        <td style=\"padding-left: 1em; padding-right: 1em; text-align: center; vertical-align: top\">107</td>\n",
       "        <td style=\"padding-left: 1em; padding-right: 1em; text-align: center; vertical-align: top\">4692</td>\n",
       "        <td style=\"padding-left: 1em; padding-right: 1em; text-align: center; vertical-align: top\"> Colorado</td>\n",
       "        <td style=\"padding-left: 1em; padding-right: 1em; text-align: center; vertical-align: top\"></td>\n",
       "        <td style=\"padding-left: 1em; padding-right: 1em; text-align: center; vertical-align: top\">631</td>\n",
       "        <td style=\"padding-left: 1em; padding-right: 1em; text-align: center; vertical-align: top\">3792</td>\n",
       "    </tr>\n",
       "    <tr>\n",
       "        <td style=\"padding-left: 1em; padding-right: 1em; text-align: center; vertical-align: top\"></td>\n",
       "        <td style=\"padding-left: 1em; padding-right: 1em; text-align: center; vertical-align: top\">9368</td>\n",
       "        <td style=\"padding-left: 1em; padding-right: 1em; text-align: center; vertical-align: top\">89</td>\n",
       "        <td style=\"padding-left: 1em; padding-right: 1em; text-align: center; vertical-align: top\">6495</td>\n",
       "        <td style=\"padding-left: 1em; padding-right: 1em; text-align: center; vertical-align: top\"> CO</td>\n",
       "        <td style=\"padding-left: 1em; padding-right: 1em; text-align: center; vertical-align: top\"></td>\n",
       "        <td style=\"padding-left: 1em; padding-right: 1em; text-align: center; vertical-align: top\">454</td>\n",
       "        <td style=\"padding-left: 1em; padding-right: 1em; text-align: center; vertical-align: top\">7035</td>\n",
       "    </tr>\n",
       "    <tr>\n",
       "        <td style=\"padding-left: 1em; padding-right: 1em; text-align: center; vertical-align: top\"></td>\n",
       "        <td style=\"padding-left: 1em; padding-right: 1em; text-align: center; vertical-align: top\">23128</td>\n",
       "        <td style=\"padding-left: 1em; padding-right: 1em; text-align: center; vertical-align: top\">94</td>\n",
       "        <td style=\"padding-left: 1em; padding-right: 1em; text-align: center; vertical-align: top\">9884</td>\n",
       "        <td style=\"padding-left: 1em; padding-right: 1em; text-align: center; vertical-align: top\"> CO</td>\n",
       "        <td style=\"padding-left: 1em; padding-right: 1em; text-align: center; vertical-align: top\"></td>\n",
       "        <td style=\"padding-left: 1em; padding-right: 1em; text-align: center; vertical-align: top\">733</td>\n",
       "        <td style=\"padding-left: 1em; padding-right: 1em; text-align: center; vertical-align: top\">10856</td>\n",
       "    </tr>\n",
       "</table>\n",
       "<table frame=\"box\" rules=\"cols\">\n",
       "    <tr>\n",
       "        <th style=\"padding-left: 1em; padding-right: 1em; text-align: center\">Total views</th>\n",
       "        <th style=\"padding-left: 1em; padding-right: 1em; text-align: center\">Website actions</th>\n",
       "    </tr>\n",
       "    <tr>\n",
       "        <td style=\"padding-left: 1em; padding-right: 1em; text-align: center; vertical-align: top\">5276</td>\n",
       "        <td style=\"padding-left: 1em; padding-right: 1em; text-align: center; vertical-align: top\">365</td>\n",
       "    </tr>\n",
       "    <tr>\n",
       "        <td style=\"padding-left: 1em; padding-right: 1em; text-align: center; vertical-align: top\">24451</td>\n",
       "        <td style=\"padding-left: 1em; padding-right: 1em; text-align: center; vertical-align: top\">120</td>\n",
       "    </tr>\n",
       "    <tr>\n",
       "        <td style=\"padding-left: 1em; padding-right: 1em; text-align: center; vertical-align: top\">18198</td>\n",
       "        <td style=\"padding-left: 1em; padding-right: 1em; text-align: center; vertical-align: top\">100</td>\n",
       "    </tr>\n",
       "    <tr>\n",
       "        <td style=\"padding-left: 1em; padding-right: 1em; text-align: center; vertical-align: top\">17136</td>\n",
       "        <td style=\"padding-left: 1em; padding-right: 1em; text-align: center; vertical-align: top\">170</td>\n",
       "    </tr>\n",
       "    <tr>\n",
       "        <td style=\"padding-left: 1em; padding-right: 1em; text-align: center; vertical-align: top\">15561</td>\n",
       "        <td style=\"padding-left: 1em; padding-right: 1em; text-align: center; vertical-align: top\">189</td>\n",
       "    </tr>\n",
       "    <tr>\n",
       "        <td style=\"padding-left: 1em; padding-right: 1em; text-align: center; vertical-align: top\">15863</td>\n",
       "        <td style=\"padding-left: 1em; padding-right: 1em; text-align: center; vertical-align: top\">106</td>\n",
       "    </tr>\n",
       "    <tr>\n",
       "        <td style=\"padding-left: 1em; padding-right: 1em; text-align: center; vertical-align: top\">33012</td>\n",
       "        <td style=\"padding-left: 1em; padding-right: 1em; text-align: center; vertical-align: top\">132</td>\n",
       "    </tr>\n",
       "</table>\n",
       "[7 rows x 17 columns]<br/>\n",
       "</div>"
      ],
      "text/plain": [
       "Columns:\n",
       "\tAddress\tstr\n",
       "\tBusiness name\tstr\n",
       "\tCity\tstr\n",
       "\tCountry\tstr\n",
       "\tDirect searches\tstr\n",
       "\tDirections actions\tstr\n",
       "\tDiscovery searches\tstr\n",
       "\tLabels\tstr\n",
       "\tMaps views\tstr\n",
       "\tPhone call actions\tstr\n",
       "\tSearch views\tstr\n",
       "\tState\tstr\n",
       "\tStore code\tstr\n",
       "\tTotal actions\tstr\n",
       "\tTotal searches\tstr\n",
       "\tTotal views\tstr\n",
       "\tWebsite actions\tstr\n",
       "\n",
       "Rows: 7\n",
       "\n",
       "Data:\n",
       "+---------------------------+-------------------------------+---------+---------+\n",
       "|          Address          |         Business name         |   City  | Country |\n",
       "+---------------------------+-------------------------------+---------+---------+\n",
       "|    800 East 26th Avenue   |            Birdcall           |  Denver |    US   |\n",
       "|  1890 South Pearl Street  |       Park Burger Pearl       |  Denver |    US   |\n",
       "|   2643 West 32nd Avenue   |     Park Burger Highlands     |  Denver |    US   |\n",
       "| 5601 Olde Wadsworth Blvd. |     Homegrown Tap & Dough     |  Arvada |    US   |\n",
       "|     1001 S Gaylord St     | Homegrown Tap & Dough - Wa... |  Denver |    US   |\n",
       "|       211 S Holly St      |      Park Burger Hilltop      |  Denver |    US   |\n",
       "|       2615 Walnut St      |        Park Burger RiNo       |  Denver |    US   |\n",
       "+---------------------------+-------------------------------+---------+---------+\n",
       "+-----------------+--------------------+--------------------+--------+------------+\n",
       "| Direct searches | Directions actions | Discovery searches | Labels | Maps views |\n",
       "+-----------------+--------------------+--------------------+--------+------------+\n",
       "|       1213      |        218         |        1055        |        |    2998    |\n",
       "|       658       |        445         |        9507        |        |   14961    |\n",
       "|       269       |        229         |        8804        |        |    9663    |\n",
       "|       564       |        327         |        5659        |        |   10569    |\n",
       "|       914       |        335         |        2878        |        |   10869    |\n",
       "|       332       |        259         |        6703        |        |    9368    |\n",
       "|       741       |        507         |       10115        |        |   23128    |\n",
       "+-----------------+--------------------+--------------------+--------+------------+\n",
       "+--------------------+--------------+-----------+------------+---------------+\n",
       "| Phone call actions | Search views |   State   | Store code | Total actions |\n",
       "+--------------------+--------------+-----------+------------+---------------+\n",
       "|         23         |     2278     |     CO    |            |      606      |\n",
       "|        115         |     9490     |     CO    |            |      680      |\n",
       "|         66         |     8535     |  Colorado |            |      395      |\n",
       "|         76         |     6567     |     CO    |            |      573      |\n",
       "|        107         |     4692     |  Colorado |            |      631      |\n",
       "|         89         |     6495     |     CO    |            |      454      |\n",
       "|         94         |     9884     |     CO    |            |      733      |\n",
       "+--------------------+--------------+-----------+------------+---------------+\n",
       "+----------------+-------------+-----------------+\n",
       "| Total searches | Total views | Website actions |\n",
       "+----------------+-------------+-----------------+\n",
       "|      2268      |     5276    |       365       |\n",
       "|     10165      |    24451    |       120       |\n",
       "|      9073      |    18198    |       100       |\n",
       "|      6223      |    17136    |       170       |\n",
       "|      3792      |    15561    |       189       |\n",
       "|      7035      |    15863    |       106       |\n",
       "|     10856      |    33012    |       132       |\n",
       "+----------------+-------------+-----------------+\n",
       "[7 rows x 17 columns]"
      ]
     },
     "execution_count": 14,
     "metadata": {},
     "output_type": "execute_result"
    }
   ],
   "source": [
    "gl.SFrame(matrix)"
   ]
  },
  {
   "cell_type": "markdown",
   "metadata": {},
   "source": [
    "## Mass import of all files in folder"
   ]
  },
  {
   "cell_type": "code",
   "execution_count": 15,
   "metadata": {
    "collapsed": false
   },
   "outputs": [
    {
     "data": {
      "text/plain": [
       "'C:\\\\Users\\\\Heidi\\\\Documents\\\\Python Scripts'"
      ]
     },
     "execution_count": 15,
     "metadata": {},
     "output_type": "execute_result"
    }
   ],
   "source": [
    "import os\n",
    "my_working_directory = os.getcwd()\n",
    "my_working_directory"
   ]
  },
  {
   "cell_type": "code",
   "execution_count": 16,
   "metadata": {
    "collapsed": false
   },
   "outputs": [
    {
     "data": {
      "text/plain": [
       "['.ipynb_checkpoints',\n",
       " 'amazon_baby.gl',\n",
       " 'amazon_baby_subset.gl',\n",
       " 'Analyzing product sentiment.ipynb',\n",
       " 'Combine GMB reports.ipynb',\n",
       " 'Document Retrieval week 4.ipynb',\n",
       " 'Getting started with iPython Notebook.ipynb',\n",
       " 'Getting started with SFrame.ipynb',\n",
       " 'gmb discovery report.csv',\n",
       " 'GMB insights (Discovery Report) - Heidi Guenther - 2017-9-4 - 2017-9-10.csv',\n",
       " 'Homegrown GMB regression training.ipynb',\n",
       " 'Homegrown GMB sep-june - Sheet1.csv',\n",
       " 'home_data.gl',\n",
       " 'Image classification with deep features 2017.ipynb',\n",
       " 'image_test_data',\n",
       " 'image_train_data',\n",
       " 'important_words.json',\n",
       " 'kc_house_data.gl',\n",
       " 'kc_house_data_small.gl',\n",
       " 'lending-club-data.gl',\n",
       " 'Machine Learning Coursera',\n",
       " 'module-2-linear-classifier-assignment-blank.ipynb',\n",
       " 'module-3-linear-classifier-learning-assignment-blank.ipynb',\n",
       " 'module-4-linear-classifier-regularization-assignment-blank.ipynb',\n",
       " 'module-5-decision-tree-assignment-1-blank.ipynb',\n",
       " 'module-5-decision-tree-assignment-2-blank.ipynb',\n",
       " 'module-6-decision-tree-practical-assignment-blank.ipynb',\n",
       " 'module-8-boosting-assignment-1-blank.ipynb',\n",
       " 'module-8-boosting-assignment-2-blank.ipynb',\n",
       " 'numpy-tutorial.ipynb',\n",
       " 'Overfitting_Demo_Ridge_Lasso.ipynb',\n",
       " 'Park Burger multiple regression.ipynb',\n",
       " 'Park Burger Regression Training.ipynb',\n",
       " 'people_wiki.gl',\n",
       " 'Predicting house prices.ipynb',\n",
       " 'Song Recommender.ipynb',\n",
       " 'Testing GMB downloads.ipynb',\n",
       " 'testing.txt',\n",
       " 'week-1-simple-regression-assignment-blank.ipynb',\n",
       " 'week-2-multiple-regression-assignment-2-blank.ipynb',\n",
       " 'week-3-polynomial-regression-assignment-blank.ipynb',\n",
       " 'week-4-ridge-regression-assignment-1-blank.ipynb',\n",
       " 'week-4-ridge-regression-assignment-2-blank.ipynb',\n",
       " 'week-5-lasso-assignment-1-blank.ipynb',\n",
       " 'week-5-lasso-assignment-2-blank.ipynb',\n",
       " 'week-6-local-regression-assignment-blank.ipynb',\n",
       " 'weekly sep-june',\n",
       " 'Wrangling Retail Data from Kaggle.ipynb']"
      ]
     },
     "execution_count": 16,
     "metadata": {},
     "output_type": "execute_result"
    }
   ],
   "source": [
    "files_in_directory = os.listdir(os.getcwd())\n",
    "files_in_directory"
   ]
  },
  {
   "cell_type": "code",
   "execution_count": 17,
   "metadata": {
    "collapsed": false
   },
   "outputs": [
    {
     "data": {
      "text/plain": [
       "'C:\\\\Users\\\\Heidi\\\\Documents\\\\Python Scripts\\\\weekly sep-june'"
      ]
     },
     "execution_count": 17,
     "metadata": {},
     "output_type": "execute_result"
    }
   ],
   "source": [
    "folder_name = 'weekly sep-june'\n",
    "pathname = os.path.join(my_working_directory, folder_name)\n",
    "pathname"
   ]
  },
  {
   "cell_type": "code",
   "execution_count": 18,
   "metadata": {
    "collapsed": true
   },
   "outputs": [],
   "source": [
    "os.chdir(pathname)"
   ]
  },
  {
   "cell_type": "code",
   "execution_count": 19,
   "metadata": {
    "collapsed": false
   },
   "outputs": [
    {
     "data": {
      "text/plain": [
       "'C:\\\\Users\\\\Heidi\\\\Documents\\\\Python Scripts\\\\weekly sep-june'"
      ]
     },
     "execution_count": 19,
     "metadata": {},
     "output_type": "execute_result"
    }
   ],
   "source": [
    "os.getcwd()"
   ]
  },
  {
   "cell_type": "code",
   "execution_count": 20,
   "metadata": {
    "collapsed": false
   },
   "outputs": [
    {
     "data": {
      "text/plain": [
       "['GMB insights (Discovery Report) - Heidi Guenther - 2017-10-16 - 2017-10-22.csv',\n",
       " 'GMB insights (Discovery Report) - Heidi Guenther - 2017-10-2 - 2017-10-8.csv',\n",
       " 'GMB insights (Discovery Report) - Heidi Guenther - 2017-10-23 - 2017-10-29.csv',\n",
       " 'GMB insights (Discovery Report) - Heidi Guenther - 2017-10-30 - 2017-11-5.csv',\n",
       " 'GMB insights (Discovery Report) - Heidi Guenther - 2017-10-9 - 2017-10-15.csv',\n",
       " 'GMB insights (Discovery Report) - Heidi Guenther - 2017-11-13 - 2017-11-19.csv',\n",
       " 'GMB insights (Discovery Report) - Heidi Guenther - 2017-11-20 - 2017-11-26.csv',\n",
       " 'GMB insights (Discovery Report) - Heidi Guenther - 2017-11-27 - 2017-12-3.csv',\n",
       " 'GMB insights (Discovery Report) - Heidi Guenther - 2017-11-6 - 2017-11-12.csv',\n",
       " 'GMB insights (Discovery Report) - Heidi Guenther - 2017-12-11 - 2017-12-17.csv',\n",
       " 'GMB insights (Discovery Report) - Heidi Guenther - 2017-12-18 - 2017-12-24.csv',\n",
       " 'GMB insights (Discovery Report) - Heidi Guenther - 2017-12-25 - 2017-12-31.csv',\n",
       " 'GMB insights (Discovery Report) - Heidi Guenther - 2017-12-4 - 2017-12-10.csv',\n",
       " 'GMB insights (Discovery Report) - Heidi Guenther - 2017-9-11 - 2017-9-17.csv',\n",
       " 'GMB insights (Discovery Report) - Heidi Guenther - 2017-9-18 - 2017-9-24.csv',\n",
       " 'GMB insights (Discovery Report) - Heidi Guenther - 2017-9-25 - 2017-10-1.csv',\n",
       " 'GMB insights (Discovery Report) - Heidi Guenther - 2017-9-4 - 2017-9-10.csv',\n",
       " 'GMB insights (Discovery Report) - Heidi Guenther - 2018-1-1 - 2018-1-7.csv',\n",
       " 'GMB insights (Discovery Report) - Heidi Guenther - 2018-1-15 - 2018-1-21.csv',\n",
       " 'GMB insights (Discovery Report) - Heidi Guenther - 2018-1-22 - 2018-1-28.csv',\n",
       " 'GMB insights (Discovery Report) - Heidi Guenther - 2018-1-29 - 2018-2-4.csv',\n",
       " 'GMB insights (Discovery Report) - Heidi Guenther - 2018-1-8 - 2018-1-14.csv',\n",
       " 'GMB insights (Discovery Report) - Heidi Guenther - 2018-2-12 - 2018-2-18.csv',\n",
       " 'GMB insights (Discovery Report) - Heidi Guenther - 2018-2-19 - 2018-2-25.csv',\n",
       " 'GMB insights (Discovery Report) - Heidi Guenther - 2018-2-26 - 2018-3-4.csv',\n",
       " 'GMB insights (Discovery Report) - Heidi Guenther - 2018-2-5 - 2018-2-11.csv',\n",
       " 'GMB insights (Discovery Report) - Heidi Guenther - 2018-3-12 - 2018-3-18.csv',\n",
       " 'GMB insights (Discovery Report) - Heidi Guenther - 2018-3-19 - 2018-3-25.csv',\n",
       " 'GMB insights (Discovery Report) - Heidi Guenther - 2018-3-26 - 2018-4-1.csv',\n",
       " 'GMB insights (Discovery Report) - Heidi Guenther - 2018-3-5 - 2018-3-11.csv',\n",
       " 'GMB insights (Discovery Report) - Heidi Guenther - 2018-4-16 - 2018-4-22.csv',\n",
       " 'GMB insights (Discovery Report) - Heidi Guenther - 2018-4-2 - 2018-4-29.csv',\n",
       " 'GMB insights (Discovery Report) - Heidi Guenther - 2018-4-2 - 2018-4-8.csv',\n",
       " 'GMB insights (Discovery Report) - Heidi Guenther - 2018-4-30 - 2018-5-6.csv',\n",
       " 'GMB insights (Discovery Report) - Heidi Guenther - 2018-4-9 - 2018-4-15.csv',\n",
       " 'GMB insights (Discovery Report) - Heidi Guenther - 2018-5-14 - 2018-5-20.csv',\n",
       " 'GMB insights (Discovery Report) - Heidi Guenther - 2018-5-21 - 2018-5-27.csv',\n",
       " 'GMB insights (Discovery Report) - Heidi Guenther - 2018-5-28 - 2018-6-3.csv',\n",
       " 'GMB insights (Discovery Report) - Heidi Guenther - 2018-5-7 - 2018-5-13.csv',\n",
       " 'GMB insights (Discovery Report) - Heidi Guenther - 2018-6-11 - 2018-6-17.csv',\n",
       " 'GMB insights (Discovery Report) - Heidi Guenther - 2018-6-16 - 2018-6-17.csv',\n",
       " 'GMB insights (Discovery Report) - Heidi Guenther - 2018-6-4 - 2018-6-10.csv']"
      ]
     },
     "execution_count": 20,
     "metadata": {},
     "output_type": "execute_result"
    }
   ],
   "source": [
    "files_in_directory = os.listdir(os.getcwd())\n",
    "files_in_directory"
   ]
  },
  {
   "cell_type": "code",
   "execution_count": 21,
   "metadata": {
    "collapsed": false
   },
   "outputs": [
    {
     "data": {
      "text/plain": [
       "['GMB insights (Discovery Report) - Heidi Guenther - 2017-10-2 - 2017-10-8.csv',\n",
       " 'GMB insights (Discovery Report) - Heidi Guenther - 2017-10-23 - 2017-10-29.csv',\n",
       " 'GMB insights (Discovery Report) - Heidi Guenther - 2017-10-30 - 2017-11-5.csv',\n",
       " 'GMB insights (Discovery Report) - Heidi Guenther - 2017-10-9 - 2017-10-15.csv']"
      ]
     },
     "execution_count": 21,
     "metadata": {},
     "output_type": "execute_result"
    }
   ],
   "source": [
    "len(files_in_directory)\n",
    "files_in_directory[1:5]"
   ]
  },
  {
   "cell_type": "code",
   "execution_count": 22,
   "metadata": {
    "collapsed": false
   },
   "outputs": [
    {
     "name": "stdout",
     "output_type": "stream",
     "text": [
      "\n"
     ]
    }
   ],
   "source": [
    "expr = r\"[\\\"]\"\n",
    "n = re.sub(expr, '', test[0])\n",
    "names = n.split(',')\n",
    "names.insert(3, 'City')\n",
    "names.insert(4, 'State')\n",
    "names.insert(5, 'Country')\n",
    "print"
   ]
  },
  {
   "cell_type": "code",
   "execution_count": 23,
   "metadata": {
    "collapsed": false
   },
   "outputs": [
    {
     "data": {
      "text/plain": [
       "array([ '\"Store code\",\"Business name\",\"Address\",\"Labels\",\"Total searches\",\"Direct searches\",\"Discovery searches\",\"Total views\",\"Search views\",\"Maps views\",\"Total actions\",\"Website actions\",\"Directions actions\",\"Phone call actions\"',\n",
       "       ',,,,\"Number of times customers found this listing by searching on Google Search or Maps\",\"Number of times customers found this listing by searching for the business name or address on Google Search or Maps\",\"Number of times customers found this listing by searching for the category, product or service on Google Search or Maps\",\"Number of times this listing has been viewed on Google Search or Maps\",\"Number of times this listing has been viewed on Google Search\",\"Number of times this listing has been viewed on Google Maps\",\"Number of times customers have taken action on this listing on Google Search or Maps\",\"Number of times customers have visited the website from this listing\",\"Number of times customers have requested directions from this listing\",\"Number of times customers have called the business from this listing\"',\n",
       "       ',\"Birdcall\",\"800 East 26th Avenue, Denver, CO, US\",,2748,1372,1376,6918,2857,4061,618,317,287,14',\n",
       "       ',\"Park Burger Pearl\",\"1890 South Pearl Street, Denver, CO, US\",,10239,697,9542,26952,10277,16675,698,121,460,117',\n",
       "       ',\"Park Burger Highlands\",\"2643 West 32nd Avenue, Denver, Colorado, US\",,9545,274,9271,19012,8888,10124,378,69,238,71',\n",
       "       ',\"Homegrown Tap & Dough\",\"5601 Olde Wadsworth Blvd., Arvada, CO, US\",,6245,674,5571,16612,7026,9586,621,214,333,74',\n",
       "       ',\"Homegrown Tap & Dough - Wash Park\",\"1001 S Gaylord St, Denver, Colorado, US\",,3603,940,2663,15971,4292,11679,629,194,357,78',\n",
       "       ',\"Park Burger Hilltop\",\"211 S Holly St, Denver, CO, US\",,6811,318,6493,15550,6643,8907,446,93,266,87',\n",
       "       ',\"Park Burger RiNo\",\"2615 Walnut St, Denver, CO, US\",,11465,688,10777,35839,11105,24734,668,116,486,66'], \n",
       "      dtype='|S827')"
      ]
     },
     "execution_count": 23,
     "metadata": {},
     "output_type": "execute_result"
    }
   ],
   "source": [
    "data = manual_parsing(files_in_directory[0], delim = '\\r', dtype=None)\n",
    "data"
   ]
  },
  {
   "cell_type": "code",
   "execution_count": 27,
   "metadata": {
    "collapsed": false
   },
   "outputs": [
    {
     "name": "stdout",
     "output_type": "stream",
     "text": [
      "[['', 'Birdcall', '800 East 26th Avenue', ' Denver', ' CO', ' US', '', '2748', '1372', '1376', '6918', '2857', '4061', '618', '317', '287', '14'], ['', 'Park Burger Pearl', '1890 South Pearl Street', ' Denver', ' CO', ' US', '', '10239', '697', '9542', '26952', '10277', '16675', '698', '121', '460', '117'], ['', 'Park Burger Highlands', '2643 West 32nd Avenue', ' Denver', ' Colorado', ' US', '', '9545', '274', '9271', '19012', '8888', '10124', '378', '69', '238', '71'], ['', 'Homegrown Tap & Dough', '5601 Olde Wadsworth Blvd.', ' Arvada', ' CO', ' US', '', '6245', '674', '5571', '16612', '7026', '9586', '621', '214', '333', '74'], ['', 'Homegrown Tap & Dough - Wash Park', '1001 S Gaylord St', ' Denver', ' Colorado', ' US', '', '3603', '940', '2663', '15971', '4292', '11679', '629', '194', '357', '78'], ['', 'Park Burger Hilltop', '211 S Holly St', ' Denver', ' CO', ' US', '', '6811', '318', '6493', '15550', '6643', '8907', '446', '93', '266', '87'], ['', 'Park Burger RiNo', '2615 Walnut St', ' Denver', ' CO', ' US', '', '11465', '688', '10777', '35839', '11105', '24734', '668', '116', '486', '66'], ['', 'Birdcall', '800 East 26th Avenue', ' Denver', ' CO', ' US', '', '2819', '1300', '1519', '6389', '2571', '3818', '573', '295', '267', '11'], ['', 'Park Burger Pearl', '1890 South Pearl Street', ' Denver', ' CO', ' US', '', '9861', '688', '9173', '24974', '9163', '15811', '614', '108', '437', '69'], ['', 'Park Burger Highlands', '2643 West 32nd Avenue', ' Denver', ' Colorado', ' US', '', '8787', '275', '8512', '17065', '7789', '9276', '374', '98', '214', '62']]\n"
     ]
    }
   ],
   "source": [
    "rows = list()\n",
    "\n",
    "for document in range(len(files_in_directory)):\n",
    "    data = manual_parsing(files_in_directory[document], delim = '\\r', dtype=None)\n",
    "    for i in range(2,9):\n",
    "        expr = r\"[\\\"]\"\n",
    "        remove_quotes = re.sub(expr, '', data[i])\n",
    "        a_list = remove_quotes.split(',')\n",
    "        rows.append(a_list)\n",
    "\n",
    "print rows[0:10]"
   ]
  },
  {
   "cell_type": "code",
   "execution_count": 28,
   "metadata": {
    "collapsed": false
   },
   "outputs": [
    {
     "data": {
      "text/plain": [
       "42"
      ]
     },
     "execution_count": 28,
     "metadata": {},
     "output_type": "execute_result"
    }
   ],
   "source": [
    "len(rows)/7"
   ]
  },
  {
   "cell_type": "code",
   "execution_count": 29,
   "metadata": {
    "collapsed": false
   },
   "outputs": [],
   "source": [
    "transverse = np.array(rows).T"
   ]
  },
  {
   "cell_type": "code",
   "execution_count": 30,
   "metadata": {
    "collapsed": true
   },
   "outputs": [],
   "source": [
    "matrix = dict(zip(names, transverse))"
   ]
  },
  {
   "cell_type": "code",
   "execution_count": 31,
   "metadata": {
    "collapsed": false
   },
   "outputs": [
    {
     "data": {
      "text/html": [
       "<div style=\"max-height:1000px;max-width:1500px;overflow:auto;\"><table frame=\"box\" rules=\"cols\">\n",
       "    <tr>\n",
       "        <th style=\"padding-left: 1em; padding-right: 1em; text-align: center\">Address</th>\n",
       "        <th style=\"padding-left: 1em; padding-right: 1em; text-align: center\">Business name</th>\n",
       "        <th style=\"padding-left: 1em; padding-right: 1em; text-align: center\">City</th>\n",
       "        <th style=\"padding-left: 1em; padding-right: 1em; text-align: center\">Country</th>\n",
       "        <th style=\"padding-left: 1em; padding-right: 1em; text-align: center\">Direct searches</th>\n",
       "        <th style=\"padding-left: 1em; padding-right: 1em; text-align: center\">Directions actions</th>\n",
       "        <th style=\"padding-left: 1em; padding-right: 1em; text-align: center\">Discovery searches</th>\n",
       "    </tr>\n",
       "    <tr>\n",
       "        <td style=\"padding-left: 1em; padding-right: 1em; text-align: center; vertical-align: top\">800 East 26th Avenue</td>\n",
       "        <td style=\"padding-left: 1em; padding-right: 1em; text-align: center; vertical-align: top\">Birdcall</td>\n",
       "        <td style=\"padding-left: 1em; padding-right: 1em; text-align: center; vertical-align: top\"> Denver</td>\n",
       "        <td style=\"padding-left: 1em; padding-right: 1em; text-align: center; vertical-align: top\"> US</td>\n",
       "        <td style=\"padding-left: 1em; padding-right: 1em; text-align: center; vertical-align: top\">1372</td>\n",
       "        <td style=\"padding-left: 1em; padding-right: 1em; text-align: center; vertical-align: top\">287</td>\n",
       "        <td style=\"padding-left: 1em; padding-right: 1em; text-align: center; vertical-align: top\">1376</td>\n",
       "    </tr>\n",
       "    <tr>\n",
       "        <td style=\"padding-left: 1em; padding-right: 1em; text-align: center; vertical-align: top\">1890 South Pearl Street</td>\n",
       "        <td style=\"padding-left: 1em; padding-right: 1em; text-align: center; vertical-align: top\">Park Burger Pearl</td>\n",
       "        <td style=\"padding-left: 1em; padding-right: 1em; text-align: center; vertical-align: top\"> Denver</td>\n",
       "        <td style=\"padding-left: 1em; padding-right: 1em; text-align: center; vertical-align: top\"> US</td>\n",
       "        <td style=\"padding-left: 1em; padding-right: 1em; text-align: center; vertical-align: top\">697</td>\n",
       "        <td style=\"padding-left: 1em; padding-right: 1em; text-align: center; vertical-align: top\">460</td>\n",
       "        <td style=\"padding-left: 1em; padding-right: 1em; text-align: center; vertical-align: top\">9542</td>\n",
       "    </tr>\n",
       "    <tr>\n",
       "        <td style=\"padding-left: 1em; padding-right: 1em; text-align: center; vertical-align: top\">2643 West 32nd Avenue</td>\n",
       "        <td style=\"padding-left: 1em; padding-right: 1em; text-align: center; vertical-align: top\">Park Burger Highlands</td>\n",
       "        <td style=\"padding-left: 1em; padding-right: 1em; text-align: center; vertical-align: top\"> Denver</td>\n",
       "        <td style=\"padding-left: 1em; padding-right: 1em; text-align: center; vertical-align: top\"> US</td>\n",
       "        <td style=\"padding-left: 1em; padding-right: 1em; text-align: center; vertical-align: top\">274</td>\n",
       "        <td style=\"padding-left: 1em; padding-right: 1em; text-align: center; vertical-align: top\">238</td>\n",
       "        <td style=\"padding-left: 1em; padding-right: 1em; text-align: center; vertical-align: top\">9271</td>\n",
       "    </tr>\n",
       "    <tr>\n",
       "        <td style=\"padding-left: 1em; padding-right: 1em; text-align: center; vertical-align: top\">5601 Olde Wadsworth Blvd.</td>\n",
       "        <td style=\"padding-left: 1em; padding-right: 1em; text-align: center; vertical-align: top\">Homegrown Tap &amp; Dough</td>\n",
       "        <td style=\"padding-left: 1em; padding-right: 1em; text-align: center; vertical-align: top\"> Arvada</td>\n",
       "        <td style=\"padding-left: 1em; padding-right: 1em; text-align: center; vertical-align: top\"> US</td>\n",
       "        <td style=\"padding-left: 1em; padding-right: 1em; text-align: center; vertical-align: top\">674</td>\n",
       "        <td style=\"padding-left: 1em; padding-right: 1em; text-align: center; vertical-align: top\">333</td>\n",
       "        <td style=\"padding-left: 1em; padding-right: 1em; text-align: center; vertical-align: top\">5571</td>\n",
       "    </tr>\n",
       "    <tr>\n",
       "        <td style=\"padding-left: 1em; padding-right: 1em; text-align: center; vertical-align: top\">1001 S Gaylord St</td>\n",
       "        <td style=\"padding-left: 1em; padding-right: 1em; text-align: center; vertical-align: top\">Homegrown Tap &amp; Dough -<br>Wash Park ...</td>\n",
       "        <td style=\"padding-left: 1em; padding-right: 1em; text-align: center; vertical-align: top\"> Denver</td>\n",
       "        <td style=\"padding-left: 1em; padding-right: 1em; text-align: center; vertical-align: top\"> US</td>\n",
       "        <td style=\"padding-left: 1em; padding-right: 1em; text-align: center; vertical-align: top\">940</td>\n",
       "        <td style=\"padding-left: 1em; padding-right: 1em; text-align: center; vertical-align: top\">357</td>\n",
       "        <td style=\"padding-left: 1em; padding-right: 1em; text-align: center; vertical-align: top\">2663</td>\n",
       "    </tr>\n",
       "    <tr>\n",
       "        <td style=\"padding-left: 1em; padding-right: 1em; text-align: center; vertical-align: top\">211 S Holly St</td>\n",
       "        <td style=\"padding-left: 1em; padding-right: 1em; text-align: center; vertical-align: top\">Park Burger Hilltop</td>\n",
       "        <td style=\"padding-left: 1em; padding-right: 1em; text-align: center; vertical-align: top\"> Denver</td>\n",
       "        <td style=\"padding-left: 1em; padding-right: 1em; text-align: center; vertical-align: top\"> US</td>\n",
       "        <td style=\"padding-left: 1em; padding-right: 1em; text-align: center; vertical-align: top\">318</td>\n",
       "        <td style=\"padding-left: 1em; padding-right: 1em; text-align: center; vertical-align: top\">266</td>\n",
       "        <td style=\"padding-left: 1em; padding-right: 1em; text-align: center; vertical-align: top\">6493</td>\n",
       "    </tr>\n",
       "    <tr>\n",
       "        <td style=\"padding-left: 1em; padding-right: 1em; text-align: center; vertical-align: top\">2615 Walnut St</td>\n",
       "        <td style=\"padding-left: 1em; padding-right: 1em; text-align: center; vertical-align: top\">Park Burger RiNo</td>\n",
       "        <td style=\"padding-left: 1em; padding-right: 1em; text-align: center; vertical-align: top\"> Denver</td>\n",
       "        <td style=\"padding-left: 1em; padding-right: 1em; text-align: center; vertical-align: top\"> US</td>\n",
       "        <td style=\"padding-left: 1em; padding-right: 1em; text-align: center; vertical-align: top\">688</td>\n",
       "        <td style=\"padding-left: 1em; padding-right: 1em; text-align: center; vertical-align: top\">486</td>\n",
       "        <td style=\"padding-left: 1em; padding-right: 1em; text-align: center; vertical-align: top\">10777</td>\n",
       "    </tr>\n",
       "    <tr>\n",
       "        <td style=\"padding-left: 1em; padding-right: 1em; text-align: center; vertical-align: top\">800 East 26th Avenue</td>\n",
       "        <td style=\"padding-left: 1em; padding-right: 1em; text-align: center; vertical-align: top\">Birdcall</td>\n",
       "        <td style=\"padding-left: 1em; padding-right: 1em; text-align: center; vertical-align: top\"> Denver</td>\n",
       "        <td style=\"padding-left: 1em; padding-right: 1em; text-align: center; vertical-align: top\"> US</td>\n",
       "        <td style=\"padding-left: 1em; padding-right: 1em; text-align: center; vertical-align: top\">1300</td>\n",
       "        <td style=\"padding-left: 1em; padding-right: 1em; text-align: center; vertical-align: top\">267</td>\n",
       "        <td style=\"padding-left: 1em; padding-right: 1em; text-align: center; vertical-align: top\">1519</td>\n",
       "    </tr>\n",
       "    <tr>\n",
       "        <td style=\"padding-left: 1em; padding-right: 1em; text-align: center; vertical-align: top\">1890 South Pearl Street</td>\n",
       "        <td style=\"padding-left: 1em; padding-right: 1em; text-align: center; vertical-align: top\">Park Burger Pearl</td>\n",
       "        <td style=\"padding-left: 1em; padding-right: 1em; text-align: center; vertical-align: top\"> Denver</td>\n",
       "        <td style=\"padding-left: 1em; padding-right: 1em; text-align: center; vertical-align: top\"> US</td>\n",
       "        <td style=\"padding-left: 1em; padding-right: 1em; text-align: center; vertical-align: top\">688</td>\n",
       "        <td style=\"padding-left: 1em; padding-right: 1em; text-align: center; vertical-align: top\">437</td>\n",
       "        <td style=\"padding-left: 1em; padding-right: 1em; text-align: center; vertical-align: top\">9173</td>\n",
       "    </tr>\n",
       "    <tr>\n",
       "        <td style=\"padding-left: 1em; padding-right: 1em; text-align: center; vertical-align: top\">2643 West 32nd Avenue</td>\n",
       "        <td style=\"padding-left: 1em; padding-right: 1em; text-align: center; vertical-align: top\">Park Burger Highlands</td>\n",
       "        <td style=\"padding-left: 1em; padding-right: 1em; text-align: center; vertical-align: top\"> Denver</td>\n",
       "        <td style=\"padding-left: 1em; padding-right: 1em; text-align: center; vertical-align: top\"> US</td>\n",
       "        <td style=\"padding-left: 1em; padding-right: 1em; text-align: center; vertical-align: top\">275</td>\n",
       "        <td style=\"padding-left: 1em; padding-right: 1em; text-align: center; vertical-align: top\">214</td>\n",
       "        <td style=\"padding-left: 1em; padding-right: 1em; text-align: center; vertical-align: top\">8512</td>\n",
       "    </tr>\n",
       "</table>\n",
       "<table frame=\"box\" rules=\"cols\">\n",
       "    <tr>\n",
       "        <th style=\"padding-left: 1em; padding-right: 1em; text-align: center\">Labels</th>\n",
       "        <th style=\"padding-left: 1em; padding-right: 1em; text-align: center\">Maps views</th>\n",
       "        <th style=\"padding-left: 1em; padding-right: 1em; text-align: center\">Phone call actions</th>\n",
       "        <th style=\"padding-left: 1em; padding-right: 1em; text-align: center\">Search views</th>\n",
       "        <th style=\"padding-left: 1em; padding-right: 1em; text-align: center\">State</th>\n",
       "        <th style=\"padding-left: 1em; padding-right: 1em; text-align: center\">Store code</th>\n",
       "        <th style=\"padding-left: 1em; padding-right: 1em; text-align: center\">Total actions</th>\n",
       "        <th style=\"padding-left: 1em; padding-right: 1em; text-align: center\">Total searches</th>\n",
       "    </tr>\n",
       "    <tr>\n",
       "        <td style=\"padding-left: 1em; padding-right: 1em; text-align: center; vertical-align: top\"></td>\n",
       "        <td style=\"padding-left: 1em; padding-right: 1em; text-align: center; vertical-align: top\">4061</td>\n",
       "        <td style=\"padding-left: 1em; padding-right: 1em; text-align: center; vertical-align: top\">14</td>\n",
       "        <td style=\"padding-left: 1em; padding-right: 1em; text-align: center; vertical-align: top\">2857</td>\n",
       "        <td style=\"padding-left: 1em; padding-right: 1em; text-align: center; vertical-align: top\"> CO</td>\n",
       "        <td style=\"padding-left: 1em; padding-right: 1em; text-align: center; vertical-align: top\"></td>\n",
       "        <td style=\"padding-left: 1em; padding-right: 1em; text-align: center; vertical-align: top\">618</td>\n",
       "        <td style=\"padding-left: 1em; padding-right: 1em; text-align: center; vertical-align: top\">2748</td>\n",
       "    </tr>\n",
       "    <tr>\n",
       "        <td style=\"padding-left: 1em; padding-right: 1em; text-align: center; vertical-align: top\"></td>\n",
       "        <td style=\"padding-left: 1em; padding-right: 1em; text-align: center; vertical-align: top\">16675</td>\n",
       "        <td style=\"padding-left: 1em; padding-right: 1em; text-align: center; vertical-align: top\">117</td>\n",
       "        <td style=\"padding-left: 1em; padding-right: 1em; text-align: center; vertical-align: top\">10277</td>\n",
       "        <td style=\"padding-left: 1em; padding-right: 1em; text-align: center; vertical-align: top\"> CO</td>\n",
       "        <td style=\"padding-left: 1em; padding-right: 1em; text-align: center; vertical-align: top\"></td>\n",
       "        <td style=\"padding-left: 1em; padding-right: 1em; text-align: center; vertical-align: top\">698</td>\n",
       "        <td style=\"padding-left: 1em; padding-right: 1em; text-align: center; vertical-align: top\">10239</td>\n",
       "    </tr>\n",
       "    <tr>\n",
       "        <td style=\"padding-left: 1em; padding-right: 1em; text-align: center; vertical-align: top\"></td>\n",
       "        <td style=\"padding-left: 1em; padding-right: 1em; text-align: center; vertical-align: top\">10124</td>\n",
       "        <td style=\"padding-left: 1em; padding-right: 1em; text-align: center; vertical-align: top\">71</td>\n",
       "        <td style=\"padding-left: 1em; padding-right: 1em; text-align: center; vertical-align: top\">8888</td>\n",
       "        <td style=\"padding-left: 1em; padding-right: 1em; text-align: center; vertical-align: top\"> Colorado</td>\n",
       "        <td style=\"padding-left: 1em; padding-right: 1em; text-align: center; vertical-align: top\"></td>\n",
       "        <td style=\"padding-left: 1em; padding-right: 1em; text-align: center; vertical-align: top\">378</td>\n",
       "        <td style=\"padding-left: 1em; padding-right: 1em; text-align: center; vertical-align: top\">9545</td>\n",
       "    </tr>\n",
       "    <tr>\n",
       "        <td style=\"padding-left: 1em; padding-right: 1em; text-align: center; vertical-align: top\"></td>\n",
       "        <td style=\"padding-left: 1em; padding-right: 1em; text-align: center; vertical-align: top\">9586</td>\n",
       "        <td style=\"padding-left: 1em; padding-right: 1em; text-align: center; vertical-align: top\">74</td>\n",
       "        <td style=\"padding-left: 1em; padding-right: 1em; text-align: center; vertical-align: top\">7026</td>\n",
       "        <td style=\"padding-left: 1em; padding-right: 1em; text-align: center; vertical-align: top\"> CO</td>\n",
       "        <td style=\"padding-left: 1em; padding-right: 1em; text-align: center; vertical-align: top\"></td>\n",
       "        <td style=\"padding-left: 1em; padding-right: 1em; text-align: center; vertical-align: top\">621</td>\n",
       "        <td style=\"padding-left: 1em; padding-right: 1em; text-align: center; vertical-align: top\">6245</td>\n",
       "    </tr>\n",
       "    <tr>\n",
       "        <td style=\"padding-left: 1em; padding-right: 1em; text-align: center; vertical-align: top\"></td>\n",
       "        <td style=\"padding-left: 1em; padding-right: 1em; text-align: center; vertical-align: top\">11679</td>\n",
       "        <td style=\"padding-left: 1em; padding-right: 1em; text-align: center; vertical-align: top\">78</td>\n",
       "        <td style=\"padding-left: 1em; padding-right: 1em; text-align: center; vertical-align: top\">4292</td>\n",
       "        <td style=\"padding-left: 1em; padding-right: 1em; text-align: center; vertical-align: top\"> Colorado</td>\n",
       "        <td style=\"padding-left: 1em; padding-right: 1em; text-align: center; vertical-align: top\"></td>\n",
       "        <td style=\"padding-left: 1em; padding-right: 1em; text-align: center; vertical-align: top\">629</td>\n",
       "        <td style=\"padding-left: 1em; padding-right: 1em; text-align: center; vertical-align: top\">3603</td>\n",
       "    </tr>\n",
       "    <tr>\n",
       "        <td style=\"padding-left: 1em; padding-right: 1em; text-align: center; vertical-align: top\"></td>\n",
       "        <td style=\"padding-left: 1em; padding-right: 1em; text-align: center; vertical-align: top\">8907</td>\n",
       "        <td style=\"padding-left: 1em; padding-right: 1em; text-align: center; vertical-align: top\">87</td>\n",
       "        <td style=\"padding-left: 1em; padding-right: 1em; text-align: center; vertical-align: top\">6643</td>\n",
       "        <td style=\"padding-left: 1em; padding-right: 1em; text-align: center; vertical-align: top\"> CO</td>\n",
       "        <td style=\"padding-left: 1em; padding-right: 1em; text-align: center; vertical-align: top\"></td>\n",
       "        <td style=\"padding-left: 1em; padding-right: 1em; text-align: center; vertical-align: top\">446</td>\n",
       "        <td style=\"padding-left: 1em; padding-right: 1em; text-align: center; vertical-align: top\">6811</td>\n",
       "    </tr>\n",
       "    <tr>\n",
       "        <td style=\"padding-left: 1em; padding-right: 1em; text-align: center; vertical-align: top\"></td>\n",
       "        <td style=\"padding-left: 1em; padding-right: 1em; text-align: center; vertical-align: top\">24734</td>\n",
       "        <td style=\"padding-left: 1em; padding-right: 1em; text-align: center; vertical-align: top\">66</td>\n",
       "        <td style=\"padding-left: 1em; padding-right: 1em; text-align: center; vertical-align: top\">11105</td>\n",
       "        <td style=\"padding-left: 1em; padding-right: 1em; text-align: center; vertical-align: top\"> CO</td>\n",
       "        <td style=\"padding-left: 1em; padding-right: 1em; text-align: center; vertical-align: top\"></td>\n",
       "        <td style=\"padding-left: 1em; padding-right: 1em; text-align: center; vertical-align: top\">668</td>\n",
       "        <td style=\"padding-left: 1em; padding-right: 1em; text-align: center; vertical-align: top\">11465</td>\n",
       "    </tr>\n",
       "    <tr>\n",
       "        <td style=\"padding-left: 1em; padding-right: 1em; text-align: center; vertical-align: top\"></td>\n",
       "        <td style=\"padding-left: 1em; padding-right: 1em; text-align: center; vertical-align: top\">3818</td>\n",
       "        <td style=\"padding-left: 1em; padding-right: 1em; text-align: center; vertical-align: top\">11</td>\n",
       "        <td style=\"padding-left: 1em; padding-right: 1em; text-align: center; vertical-align: top\">2571</td>\n",
       "        <td style=\"padding-left: 1em; padding-right: 1em; text-align: center; vertical-align: top\"> CO</td>\n",
       "        <td style=\"padding-left: 1em; padding-right: 1em; text-align: center; vertical-align: top\"></td>\n",
       "        <td style=\"padding-left: 1em; padding-right: 1em; text-align: center; vertical-align: top\">573</td>\n",
       "        <td style=\"padding-left: 1em; padding-right: 1em; text-align: center; vertical-align: top\">2819</td>\n",
       "    </tr>\n",
       "    <tr>\n",
       "        <td style=\"padding-left: 1em; padding-right: 1em; text-align: center; vertical-align: top\"></td>\n",
       "        <td style=\"padding-left: 1em; padding-right: 1em; text-align: center; vertical-align: top\">15811</td>\n",
       "        <td style=\"padding-left: 1em; padding-right: 1em; text-align: center; vertical-align: top\">69</td>\n",
       "        <td style=\"padding-left: 1em; padding-right: 1em; text-align: center; vertical-align: top\">9163</td>\n",
       "        <td style=\"padding-left: 1em; padding-right: 1em; text-align: center; vertical-align: top\"> CO</td>\n",
       "        <td style=\"padding-left: 1em; padding-right: 1em; text-align: center; vertical-align: top\"></td>\n",
       "        <td style=\"padding-left: 1em; padding-right: 1em; text-align: center; vertical-align: top\">614</td>\n",
       "        <td style=\"padding-left: 1em; padding-right: 1em; text-align: center; vertical-align: top\">9861</td>\n",
       "    </tr>\n",
       "    <tr>\n",
       "        <td style=\"padding-left: 1em; padding-right: 1em; text-align: center; vertical-align: top\"></td>\n",
       "        <td style=\"padding-left: 1em; padding-right: 1em; text-align: center; vertical-align: top\">9276</td>\n",
       "        <td style=\"padding-left: 1em; padding-right: 1em; text-align: center; vertical-align: top\">62</td>\n",
       "        <td style=\"padding-left: 1em; padding-right: 1em; text-align: center; vertical-align: top\">7789</td>\n",
       "        <td style=\"padding-left: 1em; padding-right: 1em; text-align: center; vertical-align: top\"> Colorado</td>\n",
       "        <td style=\"padding-left: 1em; padding-right: 1em; text-align: center; vertical-align: top\"></td>\n",
       "        <td style=\"padding-left: 1em; padding-right: 1em; text-align: center; vertical-align: top\">374</td>\n",
       "        <td style=\"padding-left: 1em; padding-right: 1em; text-align: center; vertical-align: top\">8787</td>\n",
       "    </tr>\n",
       "</table>\n",
       "<table frame=\"box\" rules=\"cols\">\n",
       "    <tr>\n",
       "        <th style=\"padding-left: 1em; padding-right: 1em; text-align: center\">Total views</th>\n",
       "        <th style=\"padding-left: 1em; padding-right: 1em; text-align: center\">Website actions</th>\n",
       "    </tr>\n",
       "    <tr>\n",
       "        <td style=\"padding-left: 1em; padding-right: 1em; text-align: center; vertical-align: top\">6918</td>\n",
       "        <td style=\"padding-left: 1em; padding-right: 1em; text-align: center; vertical-align: top\">317</td>\n",
       "    </tr>\n",
       "    <tr>\n",
       "        <td style=\"padding-left: 1em; padding-right: 1em; text-align: center; vertical-align: top\">26952</td>\n",
       "        <td style=\"padding-left: 1em; padding-right: 1em; text-align: center; vertical-align: top\">121</td>\n",
       "    </tr>\n",
       "    <tr>\n",
       "        <td style=\"padding-left: 1em; padding-right: 1em; text-align: center; vertical-align: top\">19012</td>\n",
       "        <td style=\"padding-left: 1em; padding-right: 1em; text-align: center; vertical-align: top\">69</td>\n",
       "    </tr>\n",
       "    <tr>\n",
       "        <td style=\"padding-left: 1em; padding-right: 1em; text-align: center; vertical-align: top\">16612</td>\n",
       "        <td style=\"padding-left: 1em; padding-right: 1em; text-align: center; vertical-align: top\">214</td>\n",
       "    </tr>\n",
       "    <tr>\n",
       "        <td style=\"padding-left: 1em; padding-right: 1em; text-align: center; vertical-align: top\">15971</td>\n",
       "        <td style=\"padding-left: 1em; padding-right: 1em; text-align: center; vertical-align: top\">194</td>\n",
       "    </tr>\n",
       "    <tr>\n",
       "        <td style=\"padding-left: 1em; padding-right: 1em; text-align: center; vertical-align: top\">15550</td>\n",
       "        <td style=\"padding-left: 1em; padding-right: 1em; text-align: center; vertical-align: top\">93</td>\n",
       "    </tr>\n",
       "    <tr>\n",
       "        <td style=\"padding-left: 1em; padding-right: 1em; text-align: center; vertical-align: top\">35839</td>\n",
       "        <td style=\"padding-left: 1em; padding-right: 1em; text-align: center; vertical-align: top\">116</td>\n",
       "    </tr>\n",
       "    <tr>\n",
       "        <td style=\"padding-left: 1em; padding-right: 1em; text-align: center; vertical-align: top\">6389</td>\n",
       "        <td style=\"padding-left: 1em; padding-right: 1em; text-align: center; vertical-align: top\">295</td>\n",
       "    </tr>\n",
       "    <tr>\n",
       "        <td style=\"padding-left: 1em; padding-right: 1em; text-align: center; vertical-align: top\">24974</td>\n",
       "        <td style=\"padding-left: 1em; padding-right: 1em; text-align: center; vertical-align: top\">108</td>\n",
       "    </tr>\n",
       "    <tr>\n",
       "        <td style=\"padding-left: 1em; padding-right: 1em; text-align: center; vertical-align: top\">17065</td>\n",
       "        <td style=\"padding-left: 1em; padding-right: 1em; text-align: center; vertical-align: top\">98</td>\n",
       "    </tr>\n",
       "</table>\n",
       "[294 rows x 17 columns]<br/>Note: Only the head of the SFrame is printed.<br/>You can use print_rows(num_rows=m, num_columns=n) to print more rows and columns.\n",
       "</div>"
      ],
      "text/plain": [
       "Columns:\n",
       "\tAddress\tstr\n",
       "\tBusiness name\tstr\n",
       "\tCity\tstr\n",
       "\tCountry\tstr\n",
       "\tDirect searches\tstr\n",
       "\tDirections actions\tstr\n",
       "\tDiscovery searches\tstr\n",
       "\tLabels\tstr\n",
       "\tMaps views\tstr\n",
       "\tPhone call actions\tstr\n",
       "\tSearch views\tstr\n",
       "\tState\tstr\n",
       "\tStore code\tstr\n",
       "\tTotal actions\tstr\n",
       "\tTotal searches\tstr\n",
       "\tTotal views\tstr\n",
       "\tWebsite actions\tstr\n",
       "\n",
       "Rows: 294\n",
       "\n",
       "Data:\n",
       "+---------------------------+-------------------------------+---------+---------+\n",
       "|          Address          |         Business name         |   City  | Country |\n",
       "+---------------------------+-------------------------------+---------+---------+\n",
       "|    800 East 26th Avenue   |            Birdcall           |  Denver |    US   |\n",
       "|  1890 South Pearl Street  |       Park Burger Pearl       |  Denver |    US   |\n",
       "|   2643 West 32nd Avenue   |     Park Burger Highlands     |  Denver |    US   |\n",
       "| 5601 Olde Wadsworth Blvd. |     Homegrown Tap & Dough     |  Arvada |    US   |\n",
       "|     1001 S Gaylord St     | Homegrown Tap & Dough - Wa... |  Denver |    US   |\n",
       "|       211 S Holly St      |      Park Burger Hilltop      |  Denver |    US   |\n",
       "|       2615 Walnut St      |        Park Burger RiNo       |  Denver |    US   |\n",
       "|    800 East 26th Avenue   |            Birdcall           |  Denver |    US   |\n",
       "|  1890 South Pearl Street  |       Park Burger Pearl       |  Denver |    US   |\n",
       "|   2643 West 32nd Avenue   |     Park Burger Highlands     |  Denver |    US   |\n",
       "+---------------------------+-------------------------------+---------+---------+\n",
       "+-----------------+--------------------+--------------------+--------+------------+\n",
       "| Direct searches | Directions actions | Discovery searches | Labels | Maps views |\n",
       "+-----------------+--------------------+--------------------+--------+------------+\n",
       "|       1372      |        287         |        1376        |        |    4061    |\n",
       "|       697       |        460         |        9542        |        |   16675    |\n",
       "|       274       |        238         |        9271        |        |   10124    |\n",
       "|       674       |        333         |        5571        |        |    9586    |\n",
       "|       940       |        357         |        2663        |        |   11679    |\n",
       "|       318       |        266         |        6493        |        |    8907    |\n",
       "|       688       |        486         |       10777        |        |   24734    |\n",
       "|       1300      |        267         |        1519        |        |    3818    |\n",
       "|       688       |        437         |        9173        |        |   15811    |\n",
       "|       275       |        214         |        8512        |        |    9276    |\n",
       "+-----------------+--------------------+--------------------+--------+------------+\n",
       "+--------------------+--------------+-----------+------------+---------------+\n",
       "| Phone call actions | Search views |   State   | Store code | Total actions |\n",
       "+--------------------+--------------+-----------+------------+---------------+\n",
       "|         14         |     2857     |     CO    |            |      618      |\n",
       "|        117         |    10277     |     CO    |            |      698      |\n",
       "|         71         |     8888     |  Colorado |            |      378      |\n",
       "|         74         |     7026     |     CO    |            |      621      |\n",
       "|         78         |     4292     |  Colorado |            |      629      |\n",
       "|         87         |     6643     |     CO    |            |      446      |\n",
       "|         66         |    11105     |     CO    |            |      668      |\n",
       "|         11         |     2571     |     CO    |            |      573      |\n",
       "|         69         |     9163     |     CO    |            |      614      |\n",
       "|         62         |     7789     |  Colorado |            |      374      |\n",
       "+--------------------+--------------+-----------+------------+---------------+\n",
       "+----------------+-------------+-----------------+\n",
       "| Total searches | Total views | Website actions |\n",
       "+----------------+-------------+-----------------+\n",
       "|      2748      |     6918    |       317       |\n",
       "|     10239      |    26952    |       121       |\n",
       "|      9545      |    19012    |        69       |\n",
       "|      6245      |    16612    |       214       |\n",
       "|      3603      |    15971    |       194       |\n",
       "|      6811      |    15550    |        93       |\n",
       "|     11465      |    35839    |       116       |\n",
       "|      2819      |     6389    |       295       |\n",
       "|      9861      |    24974    |       108       |\n",
       "|      8787      |    17065    |        98       |\n",
       "+----------------+-------------+-----------------+\n",
       "[294 rows x 17 columns]\n",
       "Note: Only the head of the SFrame is printed.\n",
       "You can use print_rows(num_rows=m, num_columns=n) to print more rows and columns."
      ]
     },
     "execution_count": 31,
     "metadata": {},
     "output_type": "execute_result"
    }
   ],
   "source": [
    "sframe = gl.SFrame(matrix)\n",
    "sframe"
   ]
  },
  {
   "cell_type": "code",
   "execution_count": 32,
   "metadata": {
    "collapsed": false
   },
   "outputs": [
    {
     "data": {
      "text/plain": [
       "'GMB insights (Discovery Report) - Heidi Guenther - 2017-10-16 - 2017-10-22.csv'"
      ]
     },
     "execution_count": 32,
     "metadata": {},
     "output_type": "execute_result"
    }
   ],
   "source": [
    "files_in_directory[0]"
   ]
  },
  {
   "cell_type": "code",
   "execution_count": 33,
   "metadata": {
    "collapsed": false
   },
   "outputs": [
    {
     "data": {
      "text/plain": [
       "294"
      ]
     },
     "execution_count": 33,
     "metadata": {},
     "output_type": "execute_result"
    }
   ],
   "source": [
    "len(rows)"
   ]
  },
  {
   "cell_type": "code",
   "execution_count": 34,
   "metadata": {
    "collapsed": false
   },
   "outputs": [
    {
     "data": {
      "text/plain": [
       "294"
      ]
     },
     "execution_count": 34,
     "metadata": {},
     "output_type": "execute_result"
    }
   ],
   "source": [
    "week_code = []\n",
    "for i in range(1, len(rows)/7+1):\n",
    "    week_code.extend([i]*7)\n",
    "len(week_code)"
   ]
  },
  {
   "cell_type": "code",
   "execution_count": 35,
   "metadata": {
    "collapsed": false
   },
   "outputs": [],
   "source": [
    "sframe['Week'] = week_code"
   ]
  },
  {
   "cell_type": "code",
   "execution_count": 36,
   "metadata": {
    "collapsed": false
   },
   "outputs": [
    {
     "data": {
      "text/html": [
       "<div style=\"max-height:1000px;max-width:1500px;overflow:auto;\"><table frame=\"box\" rules=\"cols\">\n",
       "    <tr>\n",
       "        <th style=\"padding-left: 1em; padding-right: 1em; text-align: center\">Address</th>\n",
       "        <th style=\"padding-left: 1em; padding-right: 1em; text-align: center\">Business name</th>\n",
       "        <th style=\"padding-left: 1em; padding-right: 1em; text-align: center\">City</th>\n",
       "        <th style=\"padding-left: 1em; padding-right: 1em; text-align: center\">Country</th>\n",
       "        <th style=\"padding-left: 1em; padding-right: 1em; text-align: center\">Direct searches</th>\n",
       "        <th style=\"padding-left: 1em; padding-right: 1em; text-align: center\">Directions actions</th>\n",
       "        <th style=\"padding-left: 1em; padding-right: 1em; text-align: center\">Discovery searches</th>\n",
       "    </tr>\n",
       "    <tr>\n",
       "        <td style=\"padding-left: 1em; padding-right: 1em; text-align: center; vertical-align: top\">800 East 26th Avenue</td>\n",
       "        <td style=\"padding-left: 1em; padding-right: 1em; text-align: center; vertical-align: top\">Birdcall</td>\n",
       "        <td style=\"padding-left: 1em; padding-right: 1em; text-align: center; vertical-align: top\"> Denver</td>\n",
       "        <td style=\"padding-left: 1em; padding-right: 1em; text-align: center; vertical-align: top\"> US</td>\n",
       "        <td style=\"padding-left: 1em; padding-right: 1em; text-align: center; vertical-align: top\">1372</td>\n",
       "        <td style=\"padding-left: 1em; padding-right: 1em; text-align: center; vertical-align: top\">287</td>\n",
       "        <td style=\"padding-left: 1em; padding-right: 1em; text-align: center; vertical-align: top\">1376</td>\n",
       "    </tr>\n",
       "    <tr>\n",
       "        <td style=\"padding-left: 1em; padding-right: 1em; text-align: center; vertical-align: top\">1890 South Pearl Street</td>\n",
       "        <td style=\"padding-left: 1em; padding-right: 1em; text-align: center; vertical-align: top\">Park Burger Pearl</td>\n",
       "        <td style=\"padding-left: 1em; padding-right: 1em; text-align: center; vertical-align: top\"> Denver</td>\n",
       "        <td style=\"padding-left: 1em; padding-right: 1em; text-align: center; vertical-align: top\"> US</td>\n",
       "        <td style=\"padding-left: 1em; padding-right: 1em; text-align: center; vertical-align: top\">697</td>\n",
       "        <td style=\"padding-left: 1em; padding-right: 1em; text-align: center; vertical-align: top\">460</td>\n",
       "        <td style=\"padding-left: 1em; padding-right: 1em; text-align: center; vertical-align: top\">9542</td>\n",
       "    </tr>\n",
       "    <tr>\n",
       "        <td style=\"padding-left: 1em; padding-right: 1em; text-align: center; vertical-align: top\">2643 West 32nd Avenue</td>\n",
       "        <td style=\"padding-left: 1em; padding-right: 1em; text-align: center; vertical-align: top\">Park Burger Highlands</td>\n",
       "        <td style=\"padding-left: 1em; padding-right: 1em; text-align: center; vertical-align: top\"> Denver</td>\n",
       "        <td style=\"padding-left: 1em; padding-right: 1em; text-align: center; vertical-align: top\"> US</td>\n",
       "        <td style=\"padding-left: 1em; padding-right: 1em; text-align: center; vertical-align: top\">274</td>\n",
       "        <td style=\"padding-left: 1em; padding-right: 1em; text-align: center; vertical-align: top\">238</td>\n",
       "        <td style=\"padding-left: 1em; padding-right: 1em; text-align: center; vertical-align: top\">9271</td>\n",
       "    </tr>\n",
       "    <tr>\n",
       "        <td style=\"padding-left: 1em; padding-right: 1em; text-align: center; vertical-align: top\">5601 Olde Wadsworth Blvd.</td>\n",
       "        <td style=\"padding-left: 1em; padding-right: 1em; text-align: center; vertical-align: top\">Homegrown Tap &amp; Dough</td>\n",
       "        <td style=\"padding-left: 1em; padding-right: 1em; text-align: center; vertical-align: top\"> Arvada</td>\n",
       "        <td style=\"padding-left: 1em; padding-right: 1em; text-align: center; vertical-align: top\"> US</td>\n",
       "        <td style=\"padding-left: 1em; padding-right: 1em; text-align: center; vertical-align: top\">674</td>\n",
       "        <td style=\"padding-left: 1em; padding-right: 1em; text-align: center; vertical-align: top\">333</td>\n",
       "        <td style=\"padding-left: 1em; padding-right: 1em; text-align: center; vertical-align: top\">5571</td>\n",
       "    </tr>\n",
       "    <tr>\n",
       "        <td style=\"padding-left: 1em; padding-right: 1em; text-align: center; vertical-align: top\">1001 S Gaylord St</td>\n",
       "        <td style=\"padding-left: 1em; padding-right: 1em; text-align: center; vertical-align: top\">Homegrown Tap &amp; Dough -<br>Wash Park ...</td>\n",
       "        <td style=\"padding-left: 1em; padding-right: 1em; text-align: center; vertical-align: top\"> Denver</td>\n",
       "        <td style=\"padding-left: 1em; padding-right: 1em; text-align: center; vertical-align: top\"> US</td>\n",
       "        <td style=\"padding-left: 1em; padding-right: 1em; text-align: center; vertical-align: top\">940</td>\n",
       "        <td style=\"padding-left: 1em; padding-right: 1em; text-align: center; vertical-align: top\">357</td>\n",
       "        <td style=\"padding-left: 1em; padding-right: 1em; text-align: center; vertical-align: top\">2663</td>\n",
       "    </tr>\n",
       "    <tr>\n",
       "        <td style=\"padding-left: 1em; padding-right: 1em; text-align: center; vertical-align: top\">211 S Holly St</td>\n",
       "        <td style=\"padding-left: 1em; padding-right: 1em; text-align: center; vertical-align: top\">Park Burger Hilltop</td>\n",
       "        <td style=\"padding-left: 1em; padding-right: 1em; text-align: center; vertical-align: top\"> Denver</td>\n",
       "        <td style=\"padding-left: 1em; padding-right: 1em; text-align: center; vertical-align: top\"> US</td>\n",
       "        <td style=\"padding-left: 1em; padding-right: 1em; text-align: center; vertical-align: top\">318</td>\n",
       "        <td style=\"padding-left: 1em; padding-right: 1em; text-align: center; vertical-align: top\">266</td>\n",
       "        <td style=\"padding-left: 1em; padding-right: 1em; text-align: center; vertical-align: top\">6493</td>\n",
       "    </tr>\n",
       "    <tr>\n",
       "        <td style=\"padding-left: 1em; padding-right: 1em; text-align: center; vertical-align: top\">2615 Walnut St</td>\n",
       "        <td style=\"padding-left: 1em; padding-right: 1em; text-align: center; vertical-align: top\">Park Burger RiNo</td>\n",
       "        <td style=\"padding-left: 1em; padding-right: 1em; text-align: center; vertical-align: top\"> Denver</td>\n",
       "        <td style=\"padding-left: 1em; padding-right: 1em; text-align: center; vertical-align: top\"> US</td>\n",
       "        <td style=\"padding-left: 1em; padding-right: 1em; text-align: center; vertical-align: top\">688</td>\n",
       "        <td style=\"padding-left: 1em; padding-right: 1em; text-align: center; vertical-align: top\">486</td>\n",
       "        <td style=\"padding-left: 1em; padding-right: 1em; text-align: center; vertical-align: top\">10777</td>\n",
       "    </tr>\n",
       "    <tr>\n",
       "        <td style=\"padding-left: 1em; padding-right: 1em; text-align: center; vertical-align: top\">800 East 26th Avenue</td>\n",
       "        <td style=\"padding-left: 1em; padding-right: 1em; text-align: center; vertical-align: top\">Birdcall</td>\n",
       "        <td style=\"padding-left: 1em; padding-right: 1em; text-align: center; vertical-align: top\"> Denver</td>\n",
       "        <td style=\"padding-left: 1em; padding-right: 1em; text-align: center; vertical-align: top\"> US</td>\n",
       "        <td style=\"padding-left: 1em; padding-right: 1em; text-align: center; vertical-align: top\">1300</td>\n",
       "        <td style=\"padding-left: 1em; padding-right: 1em; text-align: center; vertical-align: top\">267</td>\n",
       "        <td style=\"padding-left: 1em; padding-right: 1em; text-align: center; vertical-align: top\">1519</td>\n",
       "    </tr>\n",
       "    <tr>\n",
       "        <td style=\"padding-left: 1em; padding-right: 1em; text-align: center; vertical-align: top\">1890 South Pearl Street</td>\n",
       "        <td style=\"padding-left: 1em; padding-right: 1em; text-align: center; vertical-align: top\">Park Burger Pearl</td>\n",
       "        <td style=\"padding-left: 1em; padding-right: 1em; text-align: center; vertical-align: top\"> Denver</td>\n",
       "        <td style=\"padding-left: 1em; padding-right: 1em; text-align: center; vertical-align: top\"> US</td>\n",
       "        <td style=\"padding-left: 1em; padding-right: 1em; text-align: center; vertical-align: top\">688</td>\n",
       "        <td style=\"padding-left: 1em; padding-right: 1em; text-align: center; vertical-align: top\">437</td>\n",
       "        <td style=\"padding-left: 1em; padding-right: 1em; text-align: center; vertical-align: top\">9173</td>\n",
       "    </tr>\n",
       "    <tr>\n",
       "        <td style=\"padding-left: 1em; padding-right: 1em; text-align: center; vertical-align: top\">2643 West 32nd Avenue</td>\n",
       "        <td style=\"padding-left: 1em; padding-right: 1em; text-align: center; vertical-align: top\">Park Burger Highlands</td>\n",
       "        <td style=\"padding-left: 1em; padding-right: 1em; text-align: center; vertical-align: top\"> Denver</td>\n",
       "        <td style=\"padding-left: 1em; padding-right: 1em; text-align: center; vertical-align: top\"> US</td>\n",
       "        <td style=\"padding-left: 1em; padding-right: 1em; text-align: center; vertical-align: top\">275</td>\n",
       "        <td style=\"padding-left: 1em; padding-right: 1em; text-align: center; vertical-align: top\">214</td>\n",
       "        <td style=\"padding-left: 1em; padding-right: 1em; text-align: center; vertical-align: top\">8512</td>\n",
       "    </tr>\n",
       "</table>\n",
       "<table frame=\"box\" rules=\"cols\">\n",
       "    <tr>\n",
       "        <th style=\"padding-left: 1em; padding-right: 1em; text-align: center\">Maps views</th>\n",
       "        <th style=\"padding-left: 1em; padding-right: 1em; text-align: center\">Phone call actions</th>\n",
       "        <th style=\"padding-left: 1em; padding-right: 1em; text-align: center\">Search views</th>\n",
       "        <th style=\"padding-left: 1em; padding-right: 1em; text-align: center\">State</th>\n",
       "        <th style=\"padding-left: 1em; padding-right: 1em; text-align: center\">Total actions</th>\n",
       "        <th style=\"padding-left: 1em; padding-right: 1em; text-align: center\">Total searches</th>\n",
       "        <th style=\"padding-left: 1em; padding-right: 1em; text-align: center\">Total views</th>\n",
       "        <th style=\"padding-left: 1em; padding-right: 1em; text-align: center\">Website actions</th>\n",
       "    </tr>\n",
       "    <tr>\n",
       "        <td style=\"padding-left: 1em; padding-right: 1em; text-align: center; vertical-align: top\">4061</td>\n",
       "        <td style=\"padding-left: 1em; padding-right: 1em; text-align: center; vertical-align: top\">14</td>\n",
       "        <td style=\"padding-left: 1em; padding-right: 1em; text-align: center; vertical-align: top\">2857</td>\n",
       "        <td style=\"padding-left: 1em; padding-right: 1em; text-align: center; vertical-align: top\"> CO</td>\n",
       "        <td style=\"padding-left: 1em; padding-right: 1em; text-align: center; vertical-align: top\">618</td>\n",
       "        <td style=\"padding-left: 1em; padding-right: 1em; text-align: center; vertical-align: top\">2748</td>\n",
       "        <td style=\"padding-left: 1em; padding-right: 1em; text-align: center; vertical-align: top\">6918</td>\n",
       "        <td style=\"padding-left: 1em; padding-right: 1em; text-align: center; vertical-align: top\">317</td>\n",
       "    </tr>\n",
       "    <tr>\n",
       "        <td style=\"padding-left: 1em; padding-right: 1em; text-align: center; vertical-align: top\">16675</td>\n",
       "        <td style=\"padding-left: 1em; padding-right: 1em; text-align: center; vertical-align: top\">117</td>\n",
       "        <td style=\"padding-left: 1em; padding-right: 1em; text-align: center; vertical-align: top\">10277</td>\n",
       "        <td style=\"padding-left: 1em; padding-right: 1em; text-align: center; vertical-align: top\"> CO</td>\n",
       "        <td style=\"padding-left: 1em; padding-right: 1em; text-align: center; vertical-align: top\">698</td>\n",
       "        <td style=\"padding-left: 1em; padding-right: 1em; text-align: center; vertical-align: top\">10239</td>\n",
       "        <td style=\"padding-left: 1em; padding-right: 1em; text-align: center; vertical-align: top\">26952</td>\n",
       "        <td style=\"padding-left: 1em; padding-right: 1em; text-align: center; vertical-align: top\">121</td>\n",
       "    </tr>\n",
       "    <tr>\n",
       "        <td style=\"padding-left: 1em; padding-right: 1em; text-align: center; vertical-align: top\">10124</td>\n",
       "        <td style=\"padding-left: 1em; padding-right: 1em; text-align: center; vertical-align: top\">71</td>\n",
       "        <td style=\"padding-left: 1em; padding-right: 1em; text-align: center; vertical-align: top\">8888</td>\n",
       "        <td style=\"padding-left: 1em; padding-right: 1em; text-align: center; vertical-align: top\"> Colorado</td>\n",
       "        <td style=\"padding-left: 1em; padding-right: 1em; text-align: center; vertical-align: top\">378</td>\n",
       "        <td style=\"padding-left: 1em; padding-right: 1em; text-align: center; vertical-align: top\">9545</td>\n",
       "        <td style=\"padding-left: 1em; padding-right: 1em; text-align: center; vertical-align: top\">19012</td>\n",
       "        <td style=\"padding-left: 1em; padding-right: 1em; text-align: center; vertical-align: top\">69</td>\n",
       "    </tr>\n",
       "    <tr>\n",
       "        <td style=\"padding-left: 1em; padding-right: 1em; text-align: center; vertical-align: top\">9586</td>\n",
       "        <td style=\"padding-left: 1em; padding-right: 1em; text-align: center; vertical-align: top\">74</td>\n",
       "        <td style=\"padding-left: 1em; padding-right: 1em; text-align: center; vertical-align: top\">7026</td>\n",
       "        <td style=\"padding-left: 1em; padding-right: 1em; text-align: center; vertical-align: top\"> CO</td>\n",
       "        <td style=\"padding-left: 1em; padding-right: 1em; text-align: center; vertical-align: top\">621</td>\n",
       "        <td style=\"padding-left: 1em; padding-right: 1em; text-align: center; vertical-align: top\">6245</td>\n",
       "        <td style=\"padding-left: 1em; padding-right: 1em; text-align: center; vertical-align: top\">16612</td>\n",
       "        <td style=\"padding-left: 1em; padding-right: 1em; text-align: center; vertical-align: top\">214</td>\n",
       "    </tr>\n",
       "    <tr>\n",
       "        <td style=\"padding-left: 1em; padding-right: 1em; text-align: center; vertical-align: top\">11679</td>\n",
       "        <td style=\"padding-left: 1em; padding-right: 1em; text-align: center; vertical-align: top\">78</td>\n",
       "        <td style=\"padding-left: 1em; padding-right: 1em; text-align: center; vertical-align: top\">4292</td>\n",
       "        <td style=\"padding-left: 1em; padding-right: 1em; text-align: center; vertical-align: top\"> Colorado</td>\n",
       "        <td style=\"padding-left: 1em; padding-right: 1em; text-align: center; vertical-align: top\">629</td>\n",
       "        <td style=\"padding-left: 1em; padding-right: 1em; text-align: center; vertical-align: top\">3603</td>\n",
       "        <td style=\"padding-left: 1em; padding-right: 1em; text-align: center; vertical-align: top\">15971</td>\n",
       "        <td style=\"padding-left: 1em; padding-right: 1em; text-align: center; vertical-align: top\">194</td>\n",
       "    </tr>\n",
       "    <tr>\n",
       "        <td style=\"padding-left: 1em; padding-right: 1em; text-align: center; vertical-align: top\">8907</td>\n",
       "        <td style=\"padding-left: 1em; padding-right: 1em; text-align: center; vertical-align: top\">87</td>\n",
       "        <td style=\"padding-left: 1em; padding-right: 1em; text-align: center; vertical-align: top\">6643</td>\n",
       "        <td style=\"padding-left: 1em; padding-right: 1em; text-align: center; vertical-align: top\"> CO</td>\n",
       "        <td style=\"padding-left: 1em; padding-right: 1em; text-align: center; vertical-align: top\">446</td>\n",
       "        <td style=\"padding-left: 1em; padding-right: 1em; text-align: center; vertical-align: top\">6811</td>\n",
       "        <td style=\"padding-left: 1em; padding-right: 1em; text-align: center; vertical-align: top\">15550</td>\n",
       "        <td style=\"padding-left: 1em; padding-right: 1em; text-align: center; vertical-align: top\">93</td>\n",
       "    </tr>\n",
       "    <tr>\n",
       "        <td style=\"padding-left: 1em; padding-right: 1em; text-align: center; vertical-align: top\">24734</td>\n",
       "        <td style=\"padding-left: 1em; padding-right: 1em; text-align: center; vertical-align: top\">66</td>\n",
       "        <td style=\"padding-left: 1em; padding-right: 1em; text-align: center; vertical-align: top\">11105</td>\n",
       "        <td style=\"padding-left: 1em; padding-right: 1em; text-align: center; vertical-align: top\"> CO</td>\n",
       "        <td style=\"padding-left: 1em; padding-right: 1em; text-align: center; vertical-align: top\">668</td>\n",
       "        <td style=\"padding-left: 1em; padding-right: 1em; text-align: center; vertical-align: top\">11465</td>\n",
       "        <td style=\"padding-left: 1em; padding-right: 1em; text-align: center; vertical-align: top\">35839</td>\n",
       "        <td style=\"padding-left: 1em; padding-right: 1em; text-align: center; vertical-align: top\">116</td>\n",
       "    </tr>\n",
       "    <tr>\n",
       "        <td style=\"padding-left: 1em; padding-right: 1em; text-align: center; vertical-align: top\">3818</td>\n",
       "        <td style=\"padding-left: 1em; padding-right: 1em; text-align: center; vertical-align: top\">11</td>\n",
       "        <td style=\"padding-left: 1em; padding-right: 1em; text-align: center; vertical-align: top\">2571</td>\n",
       "        <td style=\"padding-left: 1em; padding-right: 1em; text-align: center; vertical-align: top\"> CO</td>\n",
       "        <td style=\"padding-left: 1em; padding-right: 1em; text-align: center; vertical-align: top\">573</td>\n",
       "        <td style=\"padding-left: 1em; padding-right: 1em; text-align: center; vertical-align: top\">2819</td>\n",
       "        <td style=\"padding-left: 1em; padding-right: 1em; text-align: center; vertical-align: top\">6389</td>\n",
       "        <td style=\"padding-left: 1em; padding-right: 1em; text-align: center; vertical-align: top\">295</td>\n",
       "    </tr>\n",
       "    <tr>\n",
       "        <td style=\"padding-left: 1em; padding-right: 1em; text-align: center; vertical-align: top\">15811</td>\n",
       "        <td style=\"padding-left: 1em; padding-right: 1em; text-align: center; vertical-align: top\">69</td>\n",
       "        <td style=\"padding-left: 1em; padding-right: 1em; text-align: center; vertical-align: top\">9163</td>\n",
       "        <td style=\"padding-left: 1em; padding-right: 1em; text-align: center; vertical-align: top\"> CO</td>\n",
       "        <td style=\"padding-left: 1em; padding-right: 1em; text-align: center; vertical-align: top\">614</td>\n",
       "        <td style=\"padding-left: 1em; padding-right: 1em; text-align: center; vertical-align: top\">9861</td>\n",
       "        <td style=\"padding-left: 1em; padding-right: 1em; text-align: center; vertical-align: top\">24974</td>\n",
       "        <td style=\"padding-left: 1em; padding-right: 1em; text-align: center; vertical-align: top\">108</td>\n",
       "    </tr>\n",
       "    <tr>\n",
       "        <td style=\"padding-left: 1em; padding-right: 1em; text-align: center; vertical-align: top\">9276</td>\n",
       "        <td style=\"padding-left: 1em; padding-right: 1em; text-align: center; vertical-align: top\">62</td>\n",
       "        <td style=\"padding-left: 1em; padding-right: 1em; text-align: center; vertical-align: top\">7789</td>\n",
       "        <td style=\"padding-left: 1em; padding-right: 1em; text-align: center; vertical-align: top\"> Colorado</td>\n",
       "        <td style=\"padding-left: 1em; padding-right: 1em; text-align: center; vertical-align: top\">374</td>\n",
       "        <td style=\"padding-left: 1em; padding-right: 1em; text-align: center; vertical-align: top\">8787</td>\n",
       "        <td style=\"padding-left: 1em; padding-right: 1em; text-align: center; vertical-align: top\">17065</td>\n",
       "        <td style=\"padding-left: 1em; padding-right: 1em; text-align: center; vertical-align: top\">98</td>\n",
       "    </tr>\n",
       "</table>\n",
       "<table frame=\"box\" rules=\"cols\">\n",
       "    <tr>\n",
       "        <th style=\"padding-left: 1em; padding-right: 1em; text-align: center\">Week</th>\n",
       "    </tr>\n",
       "    <tr>\n",
       "        <td style=\"padding-left: 1em; padding-right: 1em; text-align: center; vertical-align: top\">1</td>\n",
       "    </tr>\n",
       "    <tr>\n",
       "        <td style=\"padding-left: 1em; padding-right: 1em; text-align: center; vertical-align: top\">1</td>\n",
       "    </tr>\n",
       "    <tr>\n",
       "        <td style=\"padding-left: 1em; padding-right: 1em; text-align: center; vertical-align: top\">1</td>\n",
       "    </tr>\n",
       "    <tr>\n",
       "        <td style=\"padding-left: 1em; padding-right: 1em; text-align: center; vertical-align: top\">1</td>\n",
       "    </tr>\n",
       "    <tr>\n",
       "        <td style=\"padding-left: 1em; padding-right: 1em; text-align: center; vertical-align: top\">1</td>\n",
       "    </tr>\n",
       "    <tr>\n",
       "        <td style=\"padding-left: 1em; padding-right: 1em; text-align: center; vertical-align: top\">1</td>\n",
       "    </tr>\n",
       "    <tr>\n",
       "        <td style=\"padding-left: 1em; padding-right: 1em; text-align: center; vertical-align: top\">1</td>\n",
       "    </tr>\n",
       "    <tr>\n",
       "        <td style=\"padding-left: 1em; padding-right: 1em; text-align: center; vertical-align: top\">2</td>\n",
       "    </tr>\n",
       "    <tr>\n",
       "        <td style=\"padding-left: 1em; padding-right: 1em; text-align: center; vertical-align: top\">2</td>\n",
       "    </tr>\n",
       "    <tr>\n",
       "        <td style=\"padding-left: 1em; padding-right: 1em; text-align: center; vertical-align: top\">2</td>\n",
       "    </tr>\n",
       "</table>\n",
       "[294 rows x 16 columns]<br/>Note: Only the head of the SFrame is printed.<br/>You can use print_rows(num_rows=m, num_columns=n) to print more rows and columns.\n",
       "</div>"
      ],
      "text/plain": [
       "Columns:\n",
       "\tAddress\tstr\n",
       "\tBusiness name\tstr\n",
       "\tCity\tstr\n",
       "\tCountry\tstr\n",
       "\tDirect searches\tstr\n",
       "\tDirections actions\tstr\n",
       "\tDiscovery searches\tstr\n",
       "\tMaps views\tstr\n",
       "\tPhone call actions\tstr\n",
       "\tSearch views\tstr\n",
       "\tState\tstr\n",
       "\tTotal actions\tstr\n",
       "\tTotal searches\tstr\n",
       "\tTotal views\tstr\n",
       "\tWebsite actions\tstr\n",
       "\tWeek\tint\n",
       "\n",
       "Rows: 294\n",
       "\n",
       "Data:\n",
       "+---------------------------+-------------------------------+---------+---------+\n",
       "|          Address          |         Business name         |   City  | Country |\n",
       "+---------------------------+-------------------------------+---------+---------+\n",
       "|    800 East 26th Avenue   |            Birdcall           |  Denver |    US   |\n",
       "|  1890 South Pearl Street  |       Park Burger Pearl       |  Denver |    US   |\n",
       "|   2643 West 32nd Avenue   |     Park Burger Highlands     |  Denver |    US   |\n",
       "| 5601 Olde Wadsworth Blvd. |     Homegrown Tap & Dough     |  Arvada |    US   |\n",
       "|     1001 S Gaylord St     | Homegrown Tap & Dough - Wa... |  Denver |    US   |\n",
       "|       211 S Holly St      |      Park Burger Hilltop      |  Denver |    US   |\n",
       "|       2615 Walnut St      |        Park Burger RiNo       |  Denver |    US   |\n",
       "|    800 East 26th Avenue   |            Birdcall           |  Denver |    US   |\n",
       "|  1890 South Pearl Street  |       Park Burger Pearl       |  Denver |    US   |\n",
       "|   2643 West 32nd Avenue   |     Park Burger Highlands     |  Denver |    US   |\n",
       "+---------------------------+-------------------------------+---------+---------+\n",
       "+-----------------+--------------------+--------------------+------------+--------------------+\n",
       "| Direct searches | Directions actions | Discovery searches | Maps views | Phone call actions |\n",
       "+-----------------+--------------------+--------------------+------------+--------------------+\n",
       "|       1372      |        287         |        1376        |    4061    |         14         |\n",
       "|       697       |        460         |        9542        |   16675    |        117         |\n",
       "|       274       |        238         |        9271        |   10124    |         71         |\n",
       "|       674       |        333         |        5571        |    9586    |         74         |\n",
       "|       940       |        357         |        2663        |   11679    |         78         |\n",
       "|       318       |        266         |        6493        |    8907    |         87         |\n",
       "|       688       |        486         |       10777        |   24734    |         66         |\n",
       "|       1300      |        267         |        1519        |    3818    |         11         |\n",
       "|       688       |        437         |        9173        |   15811    |         69         |\n",
       "|       275       |        214         |        8512        |    9276    |         62         |\n",
       "+-----------------+--------------------+--------------------+------------+--------------------+\n",
       "+--------------+-----------+---------------+----------------+-------------+-----------------+\n",
       "| Search views |   State   | Total actions | Total searches | Total views | Website actions |\n",
       "+--------------+-----------+---------------+----------------+-------------+-----------------+\n",
       "|     2857     |     CO    |      618      |      2748      |     6918    |       317       |\n",
       "|    10277     |     CO    |      698      |     10239      |    26952    |       121       |\n",
       "|     8888     |  Colorado |      378      |      9545      |    19012    |        69       |\n",
       "|     7026     |     CO    |      621      |      6245      |    16612    |       214       |\n",
       "|     4292     |  Colorado |      629      |      3603      |    15971    |       194       |\n",
       "|     6643     |     CO    |      446      |      6811      |    15550    |        93       |\n",
       "|    11105     |     CO    |      668      |     11465      |    35839    |       116       |\n",
       "|     2571     |     CO    |      573      |      2819      |     6389    |       295       |\n",
       "|     9163     |     CO    |      614      |      9861      |    24974    |       108       |\n",
       "|     7789     |  Colorado |      374      |      8787      |    17065    |        98       |\n",
       "+--------------+-----------+---------------+----------------+-------------+-----------------+\n",
       "+------+\n",
       "| Week |\n",
       "+------+\n",
       "|  1   |\n",
       "|  1   |\n",
       "|  1   |\n",
       "|  1   |\n",
       "|  1   |\n",
       "|  1   |\n",
       "|  1   |\n",
       "|  2   |\n",
       "|  2   |\n",
       "|  2   |\n",
       "+------+\n",
       "[294 rows x 16 columns]\n",
       "Note: Only the head of the SFrame is printed.\n",
       "You can use print_rows(num_rows=m, num_columns=n) to print more rows and columns."
      ]
     },
     "execution_count": 36,
     "metadata": {},
     "output_type": "execute_result"
    }
   ],
   "source": [
    "sframe.remove_column('Store code')\n",
    "sframe.remove_column( 'Labels')"
   ]
  },
  {
   "cell_type": "markdown",
   "metadata": {},
   "source": [
    "## Create a subset for specific Business "
   ]
  },
  {
   "cell_type": "code",
   "execution_count": 37,
   "metadata": {
    "collapsed": false
   },
   "outputs": [],
   "source": [
    "Birdcall_data = sframe[sframe['Business name'] == 'Birdcall']"
   ]
  },
  {
   "cell_type": "markdown",
   "metadata": {},
   "source": [
    "## CSV File export from tidy data matrix"
   ]
  },
  {
   "cell_type": "code",
   "execution_count": 38,
   "metadata": {
    "collapsed": false
   },
   "outputs": [
    {
     "data": {
      "text/plain": [
       "'C:\\\\Users\\\\Heidi\\\\Documents\\\\Python Scripts\\\\weekly sep-june'"
      ]
     },
     "execution_count": 38,
     "metadata": {},
     "output_type": "execute_result"
    }
   ],
   "source": [
    "os.getcwd()"
   ]
  },
  {
   "cell_type": "code",
   "execution_count": 39,
   "metadata": {
    "collapsed": true
   },
   "outputs": [],
   "source": [
    "os.chdir('C:\\\\Users\\\\Heidi\\\\Documents')"
   ]
  },
  {
   "cell_type": "code",
   "execution_count": 40,
   "metadata": {
    "collapsed": false
   },
   "outputs": [
    {
     "data": {
      "text/plain": [
       "'C:\\\\Users\\\\Heidi\\\\Documents'"
      ]
     },
     "execution_count": 40,
     "metadata": {},
     "output_type": "execute_result"
    }
   ],
   "source": [
    "os.getcwd()"
   ]
  },
  {
   "cell_type": "code",
   "execution_count": 41,
   "metadata": {
    "collapsed": false
   },
   "outputs": [
    {
     "data": {
      "text/plain": [
       "['.Rhistory',\n",
       " 'desktop.ini',\n",
       " 'My Music',\n",
       " 'My Pictures',\n",
       " 'My Videos',\n",
       " 'Park Burger',\n",
       " 'Python Scripts',\n",
       " 'R',\n",
       " 'Untitled Folder']"
      ]
     },
     "execution_count": 41,
     "metadata": {},
     "output_type": "execute_result"
    }
   ],
   "source": [
    "os.listdir(os.getcwd())"
   ]
  },
  {
   "cell_type": "code",
   "execution_count": 42,
   "metadata": {
    "collapsed": true
   },
   "outputs": [],
   "source": [
    "os.chdir('C:\\\\Users\\\\Heidi\\\\Documents\\\\Park Burger')"
   ]
  },
  {
   "cell_type": "code",
   "execution_count": 43,
   "metadata": {
    "collapsed": false
   },
   "outputs": [
    {
     "data": {
      "text/plain": [
       "['.Rhistory',\n",
       " 'Adwords Birdcall Campaign Proposal.docx',\n",
       " 'Adwords Birdcall Campaign Proposal.pdf',\n",
       " 'adwords campaigns',\n",
       " 'barplot source day of week new users.R',\n",
       " 'gmb and analytics park burger.csv',\n",
       " 'gmb discovery report.csv',\n",
       " 'gmb regression.R',\n",
       " 'GMB reports',\n",
       " 'Instore cutomer behavior database Proposal.docx',\n",
       " 'instore database.xlsx',\n",
       " 'Keyword Plan.txt',\n",
       " 'long term plan.txt',\n",
       " 'New Users www.parkburger.com_Page 2_Table.csv',\n",
       " 'Sales Funnel Database proposal.docx',\n",
       " 'Sales Funnel Database Proposal.pdf',\n",
       " 'sales funnel notes.txt',\n",
       " 'SEO keywords']"
      ]
     },
     "execution_count": 43,
     "metadata": {},
     "output_type": "execute_result"
    }
   ],
   "source": [
    "os.listdir(os.getcwd())"
   ]
  },
  {
   "cell_type": "code",
   "execution_count": 44,
   "metadata": {
    "collapsed": false
   },
   "outputs": [
    {
     "data": {
      "text/plain": [
       "['gmb matrix.csv', 'weekly sep-june']"
      ]
     },
     "execution_count": 44,
     "metadata": {},
     "output_type": "execute_result"
    }
   ],
   "source": [
    "os.chdir('C:\\\\Users\\\\Heidi\\\\Documents\\\\Park Burger\\\\GMB reports')\n",
    "os.listdir(os.getcwd())"
   ]
  },
  {
   "cell_type": "code",
   "execution_count": 45,
   "metadata": {
    "collapsed": true
   },
   "outputs": [],
   "source": [
    "filename = 'C:\\\\Users\\\\Heidi\\\\Documents\\\\Park Burger\\\\GMB reports\\\\gmb matrix.csv'"
   ]
  },
  {
   "cell_type": "code",
   "execution_count": 46,
   "metadata": {
    "collapsed": false
   },
   "outputs": [],
   "source": [
    "sframe.export_csv(filename, delimiter=',', line_terminator='\\n', header=True)"
   ]
  },
  {
   "cell_type": "code",
   "execution_count": 47,
   "metadata": {
    "collapsed": false
   },
   "outputs": [
    {
     "data": {
      "text/plain": [
       "['gmb matrix.csv', 'weekly sep-june']"
      ]
     },
     "execution_count": 47,
     "metadata": {},
     "output_type": "execute_result"
    }
   ],
   "source": [
    "os.listdir(os.getcwd())"
   ]
  }
 ],
 "metadata": {
  "kernelspec": {
   "display_name": "Python 2",
   "language": "python",
   "name": "python2"
  },
  "language_info": {
   "codemirror_mode": {
    "name": "ipython",
    "version": 2
   },
   "file_extension": ".py",
   "mimetype": "text/x-python",
   "name": "python",
   "nbconvert_exporter": "python",
   "pygments_lexer": "ipython2",
   "version": "2.7.11"
  }
 },
 "nbformat": 4,
 "nbformat_minor": 0
}
