{
 "cells": [
  {
   "cell_type": "code",
   "execution_count": 1,
   "metadata": {
    "collapsed": true
   },
   "outputs": [],
   "source": [
    "import numpy as np\n",
    "import graphlab as gl\n",
    "import re"
   ]
  },
  {
   "cell_type": "markdown",
   "metadata": {},
   "source": [
    "## Test reformatting of untidy GMB data file"
   ]
  },
  {
   "cell_type": "code",
   "execution_count": 2,
   "metadata": {
    "collapsed": true
   },
   "outputs": [],
   "source": [
    "def manual_parsing(filename,delim,dtype):\n",
    "    out = list()\n",
    "    with open(filename,'r') as ins:\n",
    "        for line in ins:\n",
    "            l = line.split(delim)\n",
    "            out.extend(l)\n",
    "    return np.array(out,dtype=dtype)"
   ]
  },
  {
   "cell_type": "code",
   "execution_count": 3,
   "metadata": {
    "collapsed": true
   },
   "outputs": [],
   "source": [
    "test = manual_parsing('GMB insights (Discovery Report) - Heidi Guenther - 2017-9-4 - 2017-9-10.csv',\n",
    "                      delim = '\\r', dtype=None)"
   ]
  },
  {
   "cell_type": "code",
   "execution_count": 4,
   "metadata": {
    "collapsed": false
   },
   "outputs": [
    {
     "data": {
      "text/plain": [
       "array([ '\"Store code\",\"Business name\",\"Address\",\"Labels\",\"Total searches\",\"Direct searches\",\"Discovery searches\",\"Total views\",\"Search views\",\"Maps views\",\"Total actions\",\"Website actions\",\"Directions actions\",\"Phone call actions\"',\n",
       "       ',,,,\"Number of times customers found this listing by searching on Google Search or Maps\",\"Number of times customers found this listing by searching for the business name or address on Google Search or Maps\",\"Number of times customers found this listing by searching for the category, product or service on Google Search or Maps\",\"Number of times this listing has been viewed on Google Search or Maps\",\"Number of times this listing has been viewed on Google Search\",\"Number of times this listing has been viewed on Google Maps\",\"Number of times customers have taken action on this listing on Google Search or Maps\",\"Number of times customers have visited the website from this listing\",\"Number of times customers have requested directions from this listing\",\"Number of times customers have called the business from this listing\"',\n",
       "       ',\"Birdcall\",\"800 East 26th Avenue, Denver, CO, US\",,2268,1213,1055,5276,2278,2998,606,365,218,23',\n",
       "       ',\"Park Burger Pearl\",\"1890 South Pearl Street, Denver, CO, US\",,10165,658,9507,24451,9490,14961,680,120,445,115',\n",
       "       ',\"Park Burger Highlands\",\"2643 West 32nd Avenue, Denver, Colorado, US\",,9073,269,8804,18198,8535,9663,395,100,229,66',\n",
       "       ',\"Homegrown Tap & Dough\",\"5601 Olde Wadsworth Blvd., Arvada, CO, US\",,6223,564,5659,17136,6567,10569,573,170,327,76',\n",
       "       ',\"Homegrown Tap & Dough - Wash Park\",\"1001 S Gaylord St, Denver, Colorado, US\",,3792,914,2878,15561,4692,10869,631,189,335,107',\n",
       "       ',\"Park Burger Hilltop\",\"211 S Holly St, Denver, CO, US\",,7035,332,6703,15863,6495,9368,454,106,259,89',\n",
       "       ',\"Park Burger RiNo\",\"2615 Walnut St, Denver, CO, US\",,10856,741,10115,33012,9884,23128,733,132,507,94'], \n",
       "      dtype='|S827')"
      ]
     },
     "execution_count": 4,
     "metadata": {},
     "output_type": "execute_result"
    }
   ],
   "source": [
    "test"
   ]
  },
  {
   "cell_type": "markdown",
   "metadata": {},
   "source": [
    "### look at one line of data"
   ]
  },
  {
   "cell_type": "code",
   "execution_count": 5,
   "metadata": {
    "collapsed": false
   },
   "outputs": [
    {
     "data": {
      "text/plain": [
       "'\"Store code\",\"Business name\",\"Address\",\"Labels\",\"Total searches\",\"Direct searches\",\"Discovery searches\",\"Total views\",\"Search views\",\"Maps views\",\"Total actions\",\"Website actions\",\"Directions actions\",\"Phone call actions\"'"
      ]
     },
     "execution_count": 5,
     "metadata": {},
     "output_type": "execute_result"
    }
   ],
   "source": [
    "#line_8_array = test[:,8]\n",
    "#string = line_8_array[0]\n",
    "#string\n",
    "test[0]"
   ]
  },
  {
   "cell_type": "markdown",
   "metadata": {},
   "source": [
    "### Remove quotes around each entry"
   ]
  },
  {
   "cell_type": "code",
   "execution_count": 6,
   "metadata": {
    "collapsed": false
   },
   "outputs": [
    {
     "name": "stdout",
     "output_type": "stream",
     "text": [
      "Store code,Business name,Address,Labels,Total searches,Direct searches,Discovery searches,Total views,Search views,Maps views,Total actions,Website actions,Directions actions,Phone call actions\n"
     ]
    }
   ],
   "source": [
    "expr = r\"[\\\"]\"\n",
    "q = re.sub(expr, '', test[0])\n",
    "print q"
   ]
  },
  {
   "cell_type": "markdown",
   "metadata": {},
   "source": [
    "### Turn row into tuple"
   ]
  },
  {
   "cell_type": "code",
   "execution_count": 7,
   "metadata": {
    "collapsed": false
   },
   "outputs": [
    {
     "data": {
      "text/plain": [
       "['Store code',\n",
       " 'Business name',\n",
       " 'Address',\n",
       " 'Labels',\n",
       " 'Total searches',\n",
       " 'Direct searches',\n",
       " 'Discovery searches',\n",
       " 'Total views',\n",
       " 'Search views',\n",
       " 'Maps views',\n",
       " 'Total actions',\n",
       " 'Website actions',\n",
       " 'Directions actions',\n",
       " 'Phone call actions']"
      ]
     },
     "execution_count": 7,
     "metadata": {},
     "output_type": "execute_result"
    }
   ],
   "source": [
    "element_of_list = q.split(',')\n",
    "element_of_list"
   ]
  },
  {
   "cell_type": "markdown",
   "metadata": {},
   "source": [
    "### Append multiple lines into rows of tuples"
   ]
  },
  {
   "cell_type": "code",
   "execution_count": 8,
   "metadata": {
    "collapsed": false
   },
   "outputs": [
    {
     "name": "stdout",
     "output_type": "stream",
     "text": [
      "[['', 'Birdcall', '800 East 26th Avenue', ' Denver', ' CO', ' US', '', '2268', '1213', '1055', '5276', '2278', '2998', '606', '365', '218', '23'], ['', 'Park Burger Pearl', '1890 South Pearl Street', ' Denver', ' CO', ' US', '', '10165', '658', '9507', '24451', '9490', '14961', '680', '120', '445', '115'], ['', 'Park Burger Highlands', '2643 West 32nd Avenue', ' Denver', ' Colorado', ' US', '', '9073', '269', '8804', '18198', '8535', '9663', '395', '100', '229', '66'], ['', 'Homegrown Tap & Dough', '5601 Olde Wadsworth Blvd.', ' Arvada', ' CO', ' US', '', '6223', '564', '5659', '17136', '6567', '10569', '573', '170', '327', '76'], ['', 'Homegrown Tap & Dough - Wash Park', '1001 S Gaylord St', ' Denver', ' Colorado', ' US', '', '3792', '914', '2878', '15561', '4692', '10869', '631', '189', '335', '107'], ['', 'Park Burger Hilltop', '211 S Holly St', ' Denver', ' CO', ' US', '', '7035', '332', '6703', '15863', '6495', '9368', '454', '106', '259', '89'], ['', 'Park Burger RiNo', '2615 Walnut St', ' Denver', ' CO', ' US', '', '10856', '741', '10115', '33012', '9884', '23128', '733', '132', '507', '94']]\n"
     ]
    }
   ],
   "source": [
    "rows = list()\n",
    "\n",
    "#make following rows into lists\n",
    "for i in range(2,9):\n",
    "    expr = r\"[\\\"]\"\n",
    "    remove_quotes = re.sub(expr, '', test[i])\n",
    "    make_a_list = remove_quotes.split(',')\n",
    "    rows.append(make_a_list)\n",
    "    \n",
    "print rows"
   ]
  },
  {
   "cell_type": "code",
   "execution_count": 9,
   "metadata": {
    "collapsed": false
   },
   "outputs": [
    {
     "data": {
      "text/plain": [
       "7"
      ]
     },
     "execution_count": 9,
     "metadata": {},
     "output_type": "execute_result"
    }
   ],
   "source": [
    "len(rows)"
   ]
  },
  {
   "cell_type": "markdown",
   "metadata": {},
   "source": [
    "## Make column names from first line"
   ]
  },
  {
   "cell_type": "code",
   "execution_count": 1,
   "metadata": {
    "collapsed": true
   },
   "outputs": [],
   "source": [
    "#names = ['blank','location', 'address', 'city','state', 'country', 'labels', 'total searches', 'direct searches', 'discovery searches', 'total views', \n",
    "#                'search views', 'map views', 'total actions', 'website actions', 'direciton actions', 'phone call actions']"
   ]
  },
  {
   "cell_type": "code",
   "execution_count": 11,
   "metadata": {
    "collapsed": true
   },
   "outputs": [],
   "source": [
    "#make header into list from str\n",
    "expr = r\"[\\\"]\"\n",
    "n = re.sub(expr, '', test[0])\n",
    "names = n.split(',')\n",
    "names.insert(3, 'City')\n",
    "names.insert(4, 'State')\n",
    "names.insert(5, 'Country')"
   ]
  },
  {
   "cell_type": "markdown",
   "metadata": {},
   "source": [
    "## Create matrix out of column names and rows"
   ]
  },
  {
   "cell_type": "code",
   "execution_count": 12,
   "metadata": {
    "collapsed": false
   },
   "outputs": [],
   "source": [
    "transverse = np.array(rows).T\n",
    "matrix = dict(zip(names, transverse))"
   ]
  },
  {
   "cell_type": "code",
   "execution_count": 13,
   "metadata": {
    "collapsed": false
   },
   "outputs": [
    {
     "name": "stdout",
     "output_type": "stream",
     "text": [
      "('', 'Birdcall', '800 East 26th Avenue', ' Denver', ' CO', ' US', '', '2268', '1213', '1055', '5276', '2278', '2998', '606', '365', '218', '23')\n"
     ]
    }
   ],
   "source": [
    "print tuple(rows[0])"
   ]
  },
  {
   "cell_type": "code",
   "execution_count": 14,
   "metadata": {
    "collapsed": false
   },
   "outputs": [
    {
     "name": "stdout",
     "output_type": "stream",
     "text": [
      "This non-commercial license of GraphLab Create for academic use is assigned to heidijoyguenther@gmail.com and will expire on May 31, 2019.\n"
     ]
    },
    {
     "name": "stderr",
     "output_type": "stream",
     "text": [
      "[INFO] graphlab.cython.cy_server: GraphLab Create v2.1 started. Logging: C:\\Users\\Heidi\\AppData\\Local\\Temp\\graphlab_server_1529822536.log.0\n"
     ]
    },
    {
     "data": {
      "text/html": [
       "<div style=\"max-height:1000px;max-width:1500px;overflow:auto;\"><table frame=\"box\" rules=\"cols\">\n",
       "    <tr>\n",
       "        <th style=\"padding-left: 1em; padding-right: 1em; text-align: center\">Address</th>\n",
       "        <th style=\"padding-left: 1em; padding-right: 1em; text-align: center\">Business name</th>\n",
       "        <th style=\"padding-left: 1em; padding-right: 1em; text-align: center\">City</th>\n",
       "        <th style=\"padding-left: 1em; padding-right: 1em; text-align: center\">Country</th>\n",
       "        <th style=\"padding-left: 1em; padding-right: 1em; text-align: center\">Direct searches</th>\n",
       "        <th style=\"padding-left: 1em; padding-right: 1em; text-align: center\">Directions actions</th>\n",
       "        <th style=\"padding-left: 1em; padding-right: 1em; text-align: center\">Discovery searches</th>\n",
       "    </tr>\n",
       "    <tr>\n",
       "        <td style=\"padding-left: 1em; padding-right: 1em; text-align: center; vertical-align: top\">800 East 26th Avenue</td>\n",
       "        <td style=\"padding-left: 1em; padding-right: 1em; text-align: center; vertical-align: top\">Birdcall</td>\n",
       "        <td style=\"padding-left: 1em; padding-right: 1em; text-align: center; vertical-align: top\"> Denver</td>\n",
       "        <td style=\"padding-left: 1em; padding-right: 1em; text-align: center; vertical-align: top\"> US</td>\n",
       "        <td style=\"padding-left: 1em; padding-right: 1em; text-align: center; vertical-align: top\">1213</td>\n",
       "        <td style=\"padding-left: 1em; padding-right: 1em; text-align: center; vertical-align: top\">218</td>\n",
       "        <td style=\"padding-left: 1em; padding-right: 1em; text-align: center; vertical-align: top\">1055</td>\n",
       "    </tr>\n",
       "    <tr>\n",
       "        <td style=\"padding-left: 1em; padding-right: 1em; text-align: center; vertical-align: top\">1890 South Pearl Street</td>\n",
       "        <td style=\"padding-left: 1em; padding-right: 1em; text-align: center; vertical-align: top\">Park Burger Pearl</td>\n",
       "        <td style=\"padding-left: 1em; padding-right: 1em; text-align: center; vertical-align: top\"> Denver</td>\n",
       "        <td style=\"padding-left: 1em; padding-right: 1em; text-align: center; vertical-align: top\"> US</td>\n",
       "        <td style=\"padding-left: 1em; padding-right: 1em; text-align: center; vertical-align: top\">658</td>\n",
       "        <td style=\"padding-left: 1em; padding-right: 1em; text-align: center; vertical-align: top\">445</td>\n",
       "        <td style=\"padding-left: 1em; padding-right: 1em; text-align: center; vertical-align: top\">9507</td>\n",
       "    </tr>\n",
       "    <tr>\n",
       "        <td style=\"padding-left: 1em; padding-right: 1em; text-align: center; vertical-align: top\">2643 West 32nd Avenue</td>\n",
       "        <td style=\"padding-left: 1em; padding-right: 1em; text-align: center; vertical-align: top\">Park Burger Highlands</td>\n",
       "        <td style=\"padding-left: 1em; padding-right: 1em; text-align: center; vertical-align: top\"> Denver</td>\n",
       "        <td style=\"padding-left: 1em; padding-right: 1em; text-align: center; vertical-align: top\"> US</td>\n",
       "        <td style=\"padding-left: 1em; padding-right: 1em; text-align: center; vertical-align: top\">269</td>\n",
       "        <td style=\"padding-left: 1em; padding-right: 1em; text-align: center; vertical-align: top\">229</td>\n",
       "        <td style=\"padding-left: 1em; padding-right: 1em; text-align: center; vertical-align: top\">8804</td>\n",
       "    </tr>\n",
       "    <tr>\n",
       "        <td style=\"padding-left: 1em; padding-right: 1em; text-align: center; vertical-align: top\">5601 Olde Wadsworth Blvd.</td>\n",
       "        <td style=\"padding-left: 1em; padding-right: 1em; text-align: center; vertical-align: top\">Homegrown Tap &amp; Dough</td>\n",
       "        <td style=\"padding-left: 1em; padding-right: 1em; text-align: center; vertical-align: top\"> Arvada</td>\n",
       "        <td style=\"padding-left: 1em; padding-right: 1em; text-align: center; vertical-align: top\"> US</td>\n",
       "        <td style=\"padding-left: 1em; padding-right: 1em; text-align: center; vertical-align: top\">564</td>\n",
       "        <td style=\"padding-left: 1em; padding-right: 1em; text-align: center; vertical-align: top\">327</td>\n",
       "        <td style=\"padding-left: 1em; padding-right: 1em; text-align: center; vertical-align: top\">5659</td>\n",
       "    </tr>\n",
       "    <tr>\n",
       "        <td style=\"padding-left: 1em; padding-right: 1em; text-align: center; vertical-align: top\">1001 S Gaylord St</td>\n",
       "        <td style=\"padding-left: 1em; padding-right: 1em; text-align: center; vertical-align: top\">Homegrown Tap &amp; Dough -<br>Wash Park ...</td>\n",
       "        <td style=\"padding-left: 1em; padding-right: 1em; text-align: center; vertical-align: top\"> Denver</td>\n",
       "        <td style=\"padding-left: 1em; padding-right: 1em; text-align: center; vertical-align: top\"> US</td>\n",
       "        <td style=\"padding-left: 1em; padding-right: 1em; text-align: center; vertical-align: top\">914</td>\n",
       "        <td style=\"padding-left: 1em; padding-right: 1em; text-align: center; vertical-align: top\">335</td>\n",
       "        <td style=\"padding-left: 1em; padding-right: 1em; text-align: center; vertical-align: top\">2878</td>\n",
       "    </tr>\n",
       "    <tr>\n",
       "        <td style=\"padding-left: 1em; padding-right: 1em; text-align: center; vertical-align: top\">211 S Holly St</td>\n",
       "        <td style=\"padding-left: 1em; padding-right: 1em; text-align: center; vertical-align: top\">Park Burger Hilltop</td>\n",
       "        <td style=\"padding-left: 1em; padding-right: 1em; text-align: center; vertical-align: top\"> Denver</td>\n",
       "        <td style=\"padding-left: 1em; padding-right: 1em; text-align: center; vertical-align: top\"> US</td>\n",
       "        <td style=\"padding-left: 1em; padding-right: 1em; text-align: center; vertical-align: top\">332</td>\n",
       "        <td style=\"padding-left: 1em; padding-right: 1em; text-align: center; vertical-align: top\">259</td>\n",
       "        <td style=\"padding-left: 1em; padding-right: 1em; text-align: center; vertical-align: top\">6703</td>\n",
       "    </tr>\n",
       "    <tr>\n",
       "        <td style=\"padding-left: 1em; padding-right: 1em; text-align: center; vertical-align: top\">2615 Walnut St</td>\n",
       "        <td style=\"padding-left: 1em; padding-right: 1em; text-align: center; vertical-align: top\">Park Burger RiNo</td>\n",
       "        <td style=\"padding-left: 1em; padding-right: 1em; text-align: center; vertical-align: top\"> Denver</td>\n",
       "        <td style=\"padding-left: 1em; padding-right: 1em; text-align: center; vertical-align: top\"> US</td>\n",
       "        <td style=\"padding-left: 1em; padding-right: 1em; text-align: center; vertical-align: top\">741</td>\n",
       "        <td style=\"padding-left: 1em; padding-right: 1em; text-align: center; vertical-align: top\">507</td>\n",
       "        <td style=\"padding-left: 1em; padding-right: 1em; text-align: center; vertical-align: top\">10115</td>\n",
       "    </tr>\n",
       "</table>\n",
       "<table frame=\"box\" rules=\"cols\">\n",
       "    <tr>\n",
       "        <th style=\"padding-left: 1em; padding-right: 1em; text-align: center\">Labels</th>\n",
       "        <th style=\"padding-left: 1em; padding-right: 1em; text-align: center\">Maps views</th>\n",
       "        <th style=\"padding-left: 1em; padding-right: 1em; text-align: center\">Phone call actions</th>\n",
       "        <th style=\"padding-left: 1em; padding-right: 1em; text-align: center\">Search views</th>\n",
       "        <th style=\"padding-left: 1em; padding-right: 1em; text-align: center\">State</th>\n",
       "        <th style=\"padding-left: 1em; padding-right: 1em; text-align: center\">Store code</th>\n",
       "        <th style=\"padding-left: 1em; padding-right: 1em; text-align: center\">Total actions</th>\n",
       "        <th style=\"padding-left: 1em; padding-right: 1em; text-align: center\">Total searches</th>\n",
       "    </tr>\n",
       "    <tr>\n",
       "        <td style=\"padding-left: 1em; padding-right: 1em; text-align: center; vertical-align: top\"></td>\n",
       "        <td style=\"padding-left: 1em; padding-right: 1em; text-align: center; vertical-align: top\">2998</td>\n",
       "        <td style=\"padding-left: 1em; padding-right: 1em; text-align: center; vertical-align: top\">23</td>\n",
       "        <td style=\"padding-left: 1em; padding-right: 1em; text-align: center; vertical-align: top\">2278</td>\n",
       "        <td style=\"padding-left: 1em; padding-right: 1em; text-align: center; vertical-align: top\"> CO</td>\n",
       "        <td style=\"padding-left: 1em; padding-right: 1em; text-align: center; vertical-align: top\"></td>\n",
       "        <td style=\"padding-left: 1em; padding-right: 1em; text-align: center; vertical-align: top\">606</td>\n",
       "        <td style=\"padding-left: 1em; padding-right: 1em; text-align: center; vertical-align: top\">2268</td>\n",
       "    </tr>\n",
       "    <tr>\n",
       "        <td style=\"padding-left: 1em; padding-right: 1em; text-align: center; vertical-align: top\"></td>\n",
       "        <td style=\"padding-left: 1em; padding-right: 1em; text-align: center; vertical-align: top\">14961</td>\n",
       "        <td style=\"padding-left: 1em; padding-right: 1em; text-align: center; vertical-align: top\">115</td>\n",
       "        <td style=\"padding-left: 1em; padding-right: 1em; text-align: center; vertical-align: top\">9490</td>\n",
       "        <td style=\"padding-left: 1em; padding-right: 1em; text-align: center; vertical-align: top\"> CO</td>\n",
       "        <td style=\"padding-left: 1em; padding-right: 1em; text-align: center; vertical-align: top\"></td>\n",
       "        <td style=\"padding-left: 1em; padding-right: 1em; text-align: center; vertical-align: top\">680</td>\n",
       "        <td style=\"padding-left: 1em; padding-right: 1em; text-align: center; vertical-align: top\">10165</td>\n",
       "    </tr>\n",
       "    <tr>\n",
       "        <td style=\"padding-left: 1em; padding-right: 1em; text-align: center; vertical-align: top\"></td>\n",
       "        <td style=\"padding-left: 1em; padding-right: 1em; text-align: center; vertical-align: top\">9663</td>\n",
       "        <td style=\"padding-left: 1em; padding-right: 1em; text-align: center; vertical-align: top\">66</td>\n",
       "        <td style=\"padding-left: 1em; padding-right: 1em; text-align: center; vertical-align: top\">8535</td>\n",
       "        <td style=\"padding-left: 1em; padding-right: 1em; text-align: center; vertical-align: top\"> Colorado</td>\n",
       "        <td style=\"padding-left: 1em; padding-right: 1em; text-align: center; vertical-align: top\"></td>\n",
       "        <td style=\"padding-left: 1em; padding-right: 1em; text-align: center; vertical-align: top\">395</td>\n",
       "        <td style=\"padding-left: 1em; padding-right: 1em; text-align: center; vertical-align: top\">9073</td>\n",
       "    </tr>\n",
       "    <tr>\n",
       "        <td style=\"padding-left: 1em; padding-right: 1em; text-align: center; vertical-align: top\"></td>\n",
       "        <td style=\"padding-left: 1em; padding-right: 1em; text-align: center; vertical-align: top\">10569</td>\n",
       "        <td style=\"padding-left: 1em; padding-right: 1em; text-align: center; vertical-align: top\">76</td>\n",
       "        <td style=\"padding-left: 1em; padding-right: 1em; text-align: center; vertical-align: top\">6567</td>\n",
       "        <td style=\"padding-left: 1em; padding-right: 1em; text-align: center; vertical-align: top\"> CO</td>\n",
       "        <td style=\"padding-left: 1em; padding-right: 1em; text-align: center; vertical-align: top\"></td>\n",
       "        <td style=\"padding-left: 1em; padding-right: 1em; text-align: center; vertical-align: top\">573</td>\n",
       "        <td style=\"padding-left: 1em; padding-right: 1em; text-align: center; vertical-align: top\">6223</td>\n",
       "    </tr>\n",
       "    <tr>\n",
       "        <td style=\"padding-left: 1em; padding-right: 1em; text-align: center; vertical-align: top\"></td>\n",
       "        <td style=\"padding-left: 1em; padding-right: 1em; text-align: center; vertical-align: top\">10869</td>\n",
       "        <td style=\"padding-left: 1em; padding-right: 1em; text-align: center; vertical-align: top\">107</td>\n",
       "        <td style=\"padding-left: 1em; padding-right: 1em; text-align: center; vertical-align: top\">4692</td>\n",
       "        <td style=\"padding-left: 1em; padding-right: 1em; text-align: center; vertical-align: top\"> Colorado</td>\n",
       "        <td style=\"padding-left: 1em; padding-right: 1em; text-align: center; vertical-align: top\"></td>\n",
       "        <td style=\"padding-left: 1em; padding-right: 1em; text-align: center; vertical-align: top\">631</td>\n",
       "        <td style=\"padding-left: 1em; padding-right: 1em; text-align: center; vertical-align: top\">3792</td>\n",
       "    </tr>\n",
       "    <tr>\n",
       "        <td style=\"padding-left: 1em; padding-right: 1em; text-align: center; vertical-align: top\"></td>\n",
       "        <td style=\"padding-left: 1em; padding-right: 1em; text-align: center; vertical-align: top\">9368</td>\n",
       "        <td style=\"padding-left: 1em; padding-right: 1em; text-align: center; vertical-align: top\">89</td>\n",
       "        <td style=\"padding-left: 1em; padding-right: 1em; text-align: center; vertical-align: top\">6495</td>\n",
       "        <td style=\"padding-left: 1em; padding-right: 1em; text-align: center; vertical-align: top\"> CO</td>\n",
       "        <td style=\"padding-left: 1em; padding-right: 1em; text-align: center; vertical-align: top\"></td>\n",
       "        <td style=\"padding-left: 1em; padding-right: 1em; text-align: center; vertical-align: top\">454</td>\n",
       "        <td style=\"padding-left: 1em; padding-right: 1em; text-align: center; vertical-align: top\">7035</td>\n",
       "    </tr>\n",
       "    <tr>\n",
       "        <td style=\"padding-left: 1em; padding-right: 1em; text-align: center; vertical-align: top\"></td>\n",
       "        <td style=\"padding-left: 1em; padding-right: 1em; text-align: center; vertical-align: top\">23128</td>\n",
       "        <td style=\"padding-left: 1em; padding-right: 1em; text-align: center; vertical-align: top\">94</td>\n",
       "        <td style=\"padding-left: 1em; padding-right: 1em; text-align: center; vertical-align: top\">9884</td>\n",
       "        <td style=\"padding-left: 1em; padding-right: 1em; text-align: center; vertical-align: top\"> CO</td>\n",
       "        <td style=\"padding-left: 1em; padding-right: 1em; text-align: center; vertical-align: top\"></td>\n",
       "        <td style=\"padding-left: 1em; padding-right: 1em; text-align: center; vertical-align: top\">733</td>\n",
       "        <td style=\"padding-left: 1em; padding-right: 1em; text-align: center; vertical-align: top\">10856</td>\n",
       "    </tr>\n",
       "</table>\n",
       "<table frame=\"box\" rules=\"cols\">\n",
       "    <tr>\n",
       "        <th style=\"padding-left: 1em; padding-right: 1em; text-align: center\">Total views</th>\n",
       "        <th style=\"padding-left: 1em; padding-right: 1em; text-align: center\">Website actions</th>\n",
       "    </tr>\n",
       "    <tr>\n",
       "        <td style=\"padding-left: 1em; padding-right: 1em; text-align: center; vertical-align: top\">5276</td>\n",
       "        <td style=\"padding-left: 1em; padding-right: 1em; text-align: center; vertical-align: top\">365</td>\n",
       "    </tr>\n",
       "    <tr>\n",
       "        <td style=\"padding-left: 1em; padding-right: 1em; text-align: center; vertical-align: top\">24451</td>\n",
       "        <td style=\"padding-left: 1em; padding-right: 1em; text-align: center; vertical-align: top\">120</td>\n",
       "    </tr>\n",
       "    <tr>\n",
       "        <td style=\"padding-left: 1em; padding-right: 1em; text-align: center; vertical-align: top\">18198</td>\n",
       "        <td style=\"padding-left: 1em; padding-right: 1em; text-align: center; vertical-align: top\">100</td>\n",
       "    </tr>\n",
       "    <tr>\n",
       "        <td style=\"padding-left: 1em; padding-right: 1em; text-align: center; vertical-align: top\">17136</td>\n",
       "        <td style=\"padding-left: 1em; padding-right: 1em; text-align: center; vertical-align: top\">170</td>\n",
       "    </tr>\n",
       "    <tr>\n",
       "        <td style=\"padding-left: 1em; padding-right: 1em; text-align: center; vertical-align: top\">15561</td>\n",
       "        <td style=\"padding-left: 1em; padding-right: 1em; text-align: center; vertical-align: top\">189</td>\n",
       "    </tr>\n",
       "    <tr>\n",
       "        <td style=\"padding-left: 1em; padding-right: 1em; text-align: center; vertical-align: top\">15863</td>\n",
       "        <td style=\"padding-left: 1em; padding-right: 1em; text-align: center; vertical-align: top\">106</td>\n",
       "    </tr>\n",
       "    <tr>\n",
       "        <td style=\"padding-left: 1em; padding-right: 1em; text-align: center; vertical-align: top\">33012</td>\n",
       "        <td style=\"padding-left: 1em; padding-right: 1em; text-align: center; vertical-align: top\">132</td>\n",
       "    </tr>\n",
       "</table>\n",
       "[7 rows x 17 columns]<br/>\n",
       "</div>"
      ],
      "text/plain": [
       "Columns:\n",
       "\tAddress\tstr\n",
       "\tBusiness name\tstr\n",
       "\tCity\tstr\n",
       "\tCountry\tstr\n",
       "\tDirect searches\tstr\n",
       "\tDirections actions\tstr\n",
       "\tDiscovery searches\tstr\n",
       "\tLabels\tstr\n",
       "\tMaps views\tstr\n",
       "\tPhone call actions\tstr\n",
       "\tSearch views\tstr\n",
       "\tState\tstr\n",
       "\tStore code\tstr\n",
       "\tTotal actions\tstr\n",
       "\tTotal searches\tstr\n",
       "\tTotal views\tstr\n",
       "\tWebsite actions\tstr\n",
       "\n",
       "Rows: 7\n",
       "\n",
       "Data:\n",
       "+---------------------------+-------------------------------+---------+---------+\n",
       "|          Address          |         Business name         |   City  | Country |\n",
       "+---------------------------+-------------------------------+---------+---------+\n",
       "|    800 East 26th Avenue   |            Birdcall           |  Denver |    US   |\n",
       "|  1890 South Pearl Street  |       Park Burger Pearl       |  Denver |    US   |\n",
       "|   2643 West 32nd Avenue   |     Park Burger Highlands     |  Denver |    US   |\n",
       "| 5601 Olde Wadsworth Blvd. |     Homegrown Tap & Dough     |  Arvada |    US   |\n",
       "|     1001 S Gaylord St     | Homegrown Tap & Dough - Wa... |  Denver |    US   |\n",
       "|       211 S Holly St      |      Park Burger Hilltop      |  Denver |    US   |\n",
       "|       2615 Walnut St      |        Park Burger RiNo       |  Denver |    US   |\n",
       "+---------------------------+-------------------------------+---------+---------+\n",
       "+-----------------+--------------------+--------------------+--------+------------+\n",
       "| Direct searches | Directions actions | Discovery searches | Labels | Maps views |\n",
       "+-----------------+--------------------+--------------------+--------+------------+\n",
       "|       1213      |        218         |        1055        |        |    2998    |\n",
       "|       658       |        445         |        9507        |        |   14961    |\n",
       "|       269       |        229         |        8804        |        |    9663    |\n",
       "|       564       |        327         |        5659        |        |   10569    |\n",
       "|       914       |        335         |        2878        |        |   10869    |\n",
       "|       332       |        259         |        6703        |        |    9368    |\n",
       "|       741       |        507         |       10115        |        |   23128    |\n",
       "+-----------------+--------------------+--------------------+--------+------------+\n",
       "+--------------------+--------------+-----------+------------+---------------+\n",
       "| Phone call actions | Search views |   State   | Store code | Total actions |\n",
       "+--------------------+--------------+-----------+------------+---------------+\n",
       "|         23         |     2278     |     CO    |            |      606      |\n",
       "|        115         |     9490     |     CO    |            |      680      |\n",
       "|         66         |     8535     |  Colorado |            |      395      |\n",
       "|         76         |     6567     |     CO    |            |      573      |\n",
       "|        107         |     4692     |  Colorado |            |      631      |\n",
       "|         89         |     6495     |     CO    |            |      454      |\n",
       "|         94         |     9884     |     CO    |            |      733      |\n",
       "+--------------------+--------------+-----------+------------+---------------+\n",
       "+----------------+-------------+-----------------+\n",
       "| Total searches | Total views | Website actions |\n",
       "+----------------+-------------+-----------------+\n",
       "|      2268      |     5276    |       365       |\n",
       "|     10165      |    24451    |       120       |\n",
       "|      9073      |    18198    |       100       |\n",
       "|      6223      |    17136    |       170       |\n",
       "|      3792      |    15561    |       189       |\n",
       "|      7035      |    15863    |       106       |\n",
       "|     10856      |    33012    |       132       |\n",
       "+----------------+-------------+-----------------+\n",
       "[7 rows x 17 columns]"
      ]
     },
     "execution_count": 14,
     "metadata": {},
     "output_type": "execute_result"
    }
   ],
   "source": [
    "gl.SFrame(matrix)"
   ]
  },
  {
   "cell_type": "markdown",
   "metadata": {},
   "source": [
    "## Mass import of all files in folder"
   ]
  },
  {
   "cell_type": "code",
   "execution_count": 15,
   "metadata": {
    "collapsed": false
   },
   "outputs": [
    {
     "data": {
      "text/plain": [
       "'C:\\\\Users\\\\Heidi\\\\Documents\\\\Python Scripts'"
      ]
     },
     "execution_count": 15,
     "metadata": {},
     "output_type": "execute_result"
    }
   ],
   "source": [
    "import os\n",
    "my_working_directory = os.getcwd()\n",
    "my_working_directory"
   ]
  },
  {
   "cell_type": "code",
   "execution_count": 16,
   "metadata": {
    "collapsed": false
   },
   "outputs": [
    {
     "data": {
      "text/plain": [
       "['.ipynb_checkpoints',\n",
       " 'amazon_baby.gl',\n",
       " 'Analyzing product sentiment.ipynb',\n",
       " 'Combine GMB reports.ipynb',\n",
       " 'Document Retrieval week 4.ipynb',\n",
       " 'Getting started with iPython Notebook.ipynb',\n",
       " 'Getting started with SFrame.ipynb',\n",
       " 'gmb discovery report.csv',\n",
       " 'GMB insights (Discovery Report) - Heidi Guenther - 2017-9-4 - 2017-9-10.csv',\n",
       " 'home_data.gl',\n",
       " 'Image classification with deep features 2017.ipynb',\n",
       " 'image_test_data',\n",
       " 'image_train_data',\n",
       " 'kc_house_data.gl',\n",
       " 'kc_house_data_small.gl',\n",
       " 'Machine Learning Coursera',\n",
       " 'module-2-linear-classifier-assignment-blank.ipynb',\n",
       " 'numpy-tutorial.ipynb',\n",
       " 'Overfitting_Demo_Ridge_Lasso.ipynb',\n",
       " 'Park Burger multiple regression.ipynb',\n",
       " 'Park Burger Regression Training.ipynb',\n",
       " 'people_wiki.gl',\n",
       " 'Predicting house prices.ipynb',\n",
       " 'Song Recommender.ipynb',\n",
       " 'Testing GMB downloads.ipynb',\n",
       " 'testing.txt',\n",
       " 'week-1-simple-regression-assignment-blank.ipynb',\n",
       " 'week-2-multiple-regression-assignment-2-blank.ipynb',\n",
       " 'week-3-polynomial-regression-assignment-blank.ipynb',\n",
       " 'week-4-ridge-regression-assignment-1-blank.ipynb',\n",
       " 'week-4-ridge-regression-assignment-2-blank.ipynb',\n",
       " 'week-5-lasso-assignment-1-blank.ipynb',\n",
       " 'week-5-lasso-assignment-2-blank.ipynb',\n",
       " 'week-6-local-regression-assignment-blank.ipynb',\n",
       " 'weekly sep-june',\n",
       " 'Wrangling Retail Data from Kaggle.ipynb']"
      ]
     },
     "execution_count": 16,
     "metadata": {},
     "output_type": "execute_result"
    }
   ],
   "source": [
    "files_in_directory = os.listdir(os.getcwd())\n",
    "files_in_directory"
   ]
  },
  {
   "cell_type": "code",
   "execution_count": 17,
   "metadata": {
    "collapsed": false
   },
   "outputs": [
    {
     "data": {
      "text/plain": [
       "'C:\\\\Users\\\\Heidi\\\\Documents\\\\Python Scripts\\\\weekly sep-june'"
      ]
     },
     "execution_count": 17,
     "metadata": {},
     "output_type": "execute_result"
    }
   ],
   "source": [
    "folder_name = 'weekly sep-june'\n",
    "pathname = os.path.join(my_working_directory, folder_name)\n",
    "pathname"
   ]
  },
  {
   "cell_type": "code",
   "execution_count": 18,
   "metadata": {
    "collapsed": true
   },
   "outputs": [],
   "source": [
    "os.chdir(pathname)"
   ]
  },
  {
   "cell_type": "code",
   "execution_count": 19,
   "metadata": {
    "collapsed": false
   },
   "outputs": [
    {
     "data": {
      "text/plain": [
       "'C:\\\\Users\\\\Heidi\\\\Documents\\\\Python Scripts\\\\weekly sep-june'"
      ]
     },
     "execution_count": 19,
     "metadata": {},
     "output_type": "execute_result"
    }
   ],
   "source": [
    "os.getcwd()"
   ]
  },
  {
   "cell_type": "code",
   "execution_count": 20,
   "metadata": {
    "collapsed": false
   },
   "outputs": [
    {
     "data": {
      "text/plain": [
       "['GMB insights (Discovery Report) - Heidi Guenther - 2017-10-16 - 2017-10-22.csv',\n",
       " 'GMB insights (Discovery Report) - Heidi Guenther - 2017-10-2 - 2017-10-8.csv',\n",
       " 'GMB insights (Discovery Report) - Heidi Guenther - 2017-10-23 - 2017-10-29.csv',\n",
       " 'GMB insights (Discovery Report) - Heidi Guenther - 2017-10-30 - 2017-11-5.csv',\n",
       " 'GMB insights (Discovery Report) - Heidi Guenther - 2017-10-9 - 2017-10-15.csv',\n",
       " 'GMB insights (Discovery Report) - Heidi Guenther - 2017-11-13 - 2017-11-19.csv',\n",
       " 'GMB insights (Discovery Report) - Heidi Guenther - 2017-11-20 - 2017-11-26.csv',\n",
       " 'GMB insights (Discovery Report) - Heidi Guenther - 2017-11-27 - 2017-12-3.csv',\n",
       " 'GMB insights (Discovery Report) - Heidi Guenther - 2017-11-6 - 2017-11-12.csv',\n",
       " 'GMB insights (Discovery Report) - Heidi Guenther - 2017-12-11 - 2017-12-17.csv',\n",
       " 'GMB insights (Discovery Report) - Heidi Guenther - 2017-12-18 - 2017-12-24.csv',\n",
       " 'GMB insights (Discovery Report) - Heidi Guenther - 2017-12-25 - 2017-12-31.csv',\n",
       " 'GMB insights (Discovery Report) - Heidi Guenther - 2017-12-4 - 2017-12-10.csv',\n",
       " 'GMB insights (Discovery Report) - Heidi Guenther - 2017-9-11 - 2017-9-17.csv',\n",
       " 'GMB insights (Discovery Report) - Heidi Guenther - 2017-9-18 - 2017-9-24.csv',\n",
       " 'GMB insights (Discovery Report) - Heidi Guenther - 2017-9-25 - 2017-10-1.csv',\n",
       " 'GMB insights (Discovery Report) - Heidi Guenther - 2017-9-4 - 2017-9-10.csv',\n",
       " 'GMB insights (Discovery Report) - Heidi Guenther - 2018-1-1 - 2018-1-7.csv',\n",
       " 'GMB insights (Discovery Report) - Heidi Guenther - 2018-1-15 - 2018-1-21.csv',\n",
       " 'GMB insights (Discovery Report) - Heidi Guenther - 2018-1-22 - 2018-1-28.csv',\n",
       " 'GMB insights (Discovery Report) - Heidi Guenther - 2018-1-29 - 2018-2-4.csv',\n",
       " 'GMB insights (Discovery Report) - Heidi Guenther - 2018-1-8 - 2018-1-14.csv',\n",
       " 'GMB insights (Discovery Report) - Heidi Guenther - 2018-2-12 - 2018-2-18.csv',\n",
       " 'GMB insights (Discovery Report) - Heidi Guenther - 2018-2-19 - 2018-2-25.csv',\n",
       " 'GMB insights (Discovery Report) - Heidi Guenther - 2018-2-26 - 2018-3-4.csv',\n",
       " 'GMB insights (Discovery Report) - Heidi Guenther - 2018-2-5 - 2018-2-11.csv',\n",
       " 'GMB insights (Discovery Report) - Heidi Guenther - 2018-3-12 - 2018-3-18.csv',\n",
       " 'GMB insights (Discovery Report) - Heidi Guenther - 2018-3-19 - 2018-3-25.csv',\n",
       " 'GMB insights (Discovery Report) - Heidi Guenther - 2018-3-26 - 2018-4-1.csv',\n",
       " 'GMB insights (Discovery Report) - Heidi Guenther - 2018-3-5 - 2018-3-11.csv',\n",
       " 'GMB insights (Discovery Report) - Heidi Guenther - 2018-4-16 - 2018-4-22.csv',\n",
       " 'GMB insights (Discovery Report) - Heidi Guenther - 2018-4-2 - 2018-4-29.csv',\n",
       " 'GMB insights (Discovery Report) - Heidi Guenther - 2018-4-2 - 2018-4-8.csv',\n",
       " 'GMB insights (Discovery Report) - Heidi Guenther - 2018-4-30 - 2018-5-6.csv',\n",
       " 'GMB insights (Discovery Report) - Heidi Guenther - 2018-4-9 - 2018-4-15.csv',\n",
       " 'GMB insights (Discovery Report) - Heidi Guenther - 2018-5-14 - 2018-5-20.csv',\n",
       " 'GMB insights (Discovery Report) - Heidi Guenther - 2018-5-21 - 2018-5-27.csv',\n",
       " 'GMB insights (Discovery Report) - Heidi Guenther - 2018-5-28 - 2018-6-3.csv',\n",
       " 'GMB insights (Discovery Report) - Heidi Guenther - 2018-5-7 - 2018-5-13.csv',\n",
       " 'GMB insights (Discovery Report) - Heidi Guenther - 2018-6-11 - 2018-6-17.csv',\n",
       " 'GMB insights (Discovery Report) - Heidi Guenther - 2018-6-16 - 2018-6-17.csv',\n",
       " 'GMB insights (Discovery Report) - Heidi Guenther - 2018-6-4 - 2018-6-10.csv']"
      ]
     },
     "execution_count": 20,
     "metadata": {},
     "output_type": "execute_result"
    }
   ],
   "source": [
    "files_in_directory = os.listdir(os.getcwd())\n",
    "files_in_directory"
   ]
  },
  {
   "cell_type": "code",
   "execution_count": 21,
   "metadata": {
    "collapsed": false
   },
   "outputs": [
    {
     "data": {
      "text/plain": [
       "['GMB insights (Discovery Report) - Heidi Guenther - 2017-10-2 - 2017-10-8.csv',\n",
       " 'GMB insights (Discovery Report) - Heidi Guenther - 2017-10-23 - 2017-10-29.csv',\n",
       " 'GMB insights (Discovery Report) - Heidi Guenther - 2017-10-30 - 2017-11-5.csv',\n",
       " 'GMB insights (Discovery Report) - Heidi Guenther - 2017-10-9 - 2017-10-15.csv']"
      ]
     },
     "execution_count": 21,
     "metadata": {},
     "output_type": "execute_result"
    }
   ],
   "source": [
    "len(files_in_directory)\n",
    "files_in_directory[1:5]"
   ]
  },
  {
   "cell_type": "code",
   "execution_count": 22,
   "metadata": {
    "collapsed": false
   },
   "outputs": [
    {
     "name": "stdout",
     "output_type": "stream",
     "text": [
      "\n"
     ]
    }
   ],
   "source": [
    "expr = r\"[\\\"]\"\n",
    "n = re.sub(expr, '', test[0])\n",
    "names = n.split(',')\n",
    "names.insert(3, 'City')\n",
    "names.insert(4, 'State')\n",
    "names.insert(5, 'Country')\n",
    "print"
   ]
  },
  {
   "cell_type": "code",
   "execution_count": 49,
   "metadata": {
    "collapsed": false
   },
   "outputs": [
    {
     "data": {
      "text/plain": [
       "array([ '\"Store code\",\"Business name\",\"Address\",\"Labels\",\"Total searches\",\"Direct searches\",\"Discovery searches\",\"Total views\",\"Search views\",\"Maps views\",\"Total actions\",\"Website actions\",\"Directions actions\",\"Phone call actions\"',\n",
       "       ',,,,\"Number of times customers found this listing by searching on Google Search or Maps\",\"Number of times customers found this listing by searching for the business name or address on Google Search or Maps\",\"Number of times customers found this listing by searching for the category, product or service on Google Search or Maps\",\"Number of times this listing has been viewed on Google Search or Maps\",\"Number of times this listing has been viewed on Google Search\",\"Number of times this listing has been viewed on Google Maps\",\"Number of times customers have taken action on this listing on Google Search or Maps\",\"Number of times customers have visited the website from this listing\",\"Number of times customers have requested directions from this listing\",\"Number of times customers have called the business from this listing\"',\n",
       "       ',\"Birdcall\",\"800 East 26th Avenue, Denver, CO, US\",,2748,1372,1376,6918,2857,4061,618,317,287,14',\n",
       "       ',\"Park Burger Pearl\",\"1890 South Pearl Street, Denver, CO, US\",,10239,697,9542,26952,10277,16675,698,121,460,117',\n",
       "       ',\"Park Burger Highlands\",\"2643 West 32nd Avenue, Denver, Colorado, US\",,9545,274,9271,19012,8888,10124,378,69,238,71',\n",
       "       ',\"Homegrown Tap & Dough\",\"5601 Olde Wadsworth Blvd., Arvada, CO, US\",,6245,674,5571,16612,7026,9586,621,214,333,74',\n",
       "       ',\"Homegrown Tap & Dough - Wash Park\",\"1001 S Gaylord St, Denver, Colorado, US\",,3603,940,2663,15971,4292,11679,629,194,357,78',\n",
       "       ',\"Park Burger Hilltop\",\"211 S Holly St, Denver, CO, US\",,6811,318,6493,15550,6643,8907,446,93,266,87',\n",
       "       ',\"Park Burger RiNo\",\"2615 Walnut St, Denver, CO, US\",,11465,688,10777,35839,11105,24734,668,116,486,66'], \n",
       "      dtype='|S827')"
      ]
     },
     "execution_count": 49,
     "metadata": {},
     "output_type": "execute_result"
    }
   ],
   "source": [
    "data = manual_parsing(files_in_directory[0], delim = '\\r', dtype=None)\n",
    "data"
   ]
  },
  {
   "cell_type": "code",
   "execution_count": 110,
   "metadata": {
    "collapsed": false
   },
   "outputs": [
    {
     "name": "stdout",
     "output_type": "stream",
     "text": [
      "[['', 'Birdcall', '800 East 26th Avenue', ' Denver', ' CO', ' US', '', '2748', '1372', '1376', '6918', '2857', '4061', '618', '317', '287', '14'], ['', 'Park Burger Pearl', '1890 South Pearl Street', ' Denver', ' CO', ' US', '', '10239', '697', '9542', '26952', '10277', '16675', '698', '121', '460', '117'], ['', 'Park Burger Highlands', '2643 West 32nd Avenue', ' Denver', ' Colorado', ' US', '', '9545', '274', '9271', '19012', '8888', '10124', '378', '69', '238', '71'], ['', 'Homegrown Tap & Dough', '5601 Olde Wadsworth Blvd.', ' Arvada', ' CO', ' US', '', '6245', '674', '5571', '16612', '7026', '9586', '621', '214', '333', '74'], ['', 'Homegrown Tap & Dough - Wash Park', '1001 S Gaylord St', ' Denver', ' Colorado', ' US', '', '3603', '940', '2663', '15971', '4292', '11679', '629', '194', '357', '78'], ['', 'Park Burger Hilltop', '211 S Holly St', ' Denver', ' CO', ' US', '', '6811', '318', '6493', '15550', '6643', '8907', '446', '93', '266', '87'], ['', 'Park Burger RiNo', '2615 Walnut St', ' Denver', ' CO', ' US', '', '11465', '688', '10777', '35839', '11105', '24734', '668', '116', '486', '66'], ['', 'Birdcall', '800 East 26th Avenue', ' Denver', ' CO', ' US', '', '2819', '1300', '1519', '6389', '2571', '3818', '573', '295', '267', '11'], ['', 'Park Burger Pearl', '1890 South Pearl Street', ' Denver', ' CO', ' US', '', '9861', '688', '9173', '24974', '9163', '15811', '614', '108', '437', '69'], ['', 'Park Burger Highlands', '2643 West 32nd Avenue', ' Denver', ' Colorado', ' US', '', '8787', '275', '8512', '17065', '7789', '9276', '374', '98', '214', '62'], ['', 'Homegrown Tap & Dough', '5601 Olde Wadsworth Blvd.', ' Arvada', ' CO', ' US', '', '6665', '677', '5988', '16850', '7093', '9757', '702', '177', '423', '102'], ['', 'Homegrown Tap & Dough - Wash Park', '1001 S Gaylord St', ' Denver', ' Colorado', ' US', '', '3739', '996', '2743', '16020', '4649', '11371', '773', '200', '451', '122'], ['', 'Park Burger Hilltop', '211 S Holly St', ' Denver', ' CO', ' US', '', '6922', '300', '6622', '14913', '6246', '8667', '384', '63', '225', '96'], ['', 'Park Burger RiNo', '2615 Walnut St', ' Denver', ' CO', ' US', '', '11738', '839', '10899', '35611', '10740', '24871', '867', '140', '640', '87'], ['', 'Birdcall', '800 East 26th Avenue', ' Denver', ' CO', ' US', '', '2535', '1168', '1367', '6827', '2627', '4200', '541', '292', '233', '16'], ['', 'Park Burger Pearl', '1890 South Pearl Street', ' Denver', ' CO', ' US', '', '9443', '701', '8742', '24705', '9329', '15376', '608', '135', '361', '112'], ['', 'Park Burger Highlands', '2643 West 32nd Avenue', ' Denver', ' Colorado', ' US', '', '9464', '314', '9150', '19060', '8891', '10169', '374', '92', '219', '63'], ['', 'Homegrown Tap & Dough', '5601 Olde Wadsworth Blvd.', ' Arvada', ' CO', ' US', '', '5947', '639', '5308', '15983', '6637', '9346', '562', '194', '304', '64'], ['', 'Homegrown Tap & Dough - Wash Park', '1001 S Gaylord St', ' Denver', ' Colorado', ' US', '', '3148', '851', '2297', '14941', '4163', '10778', '578', '184', '327', '67'], ['', 'Park Burger Hilltop', '211 S Holly St', ' Denver', ' CO', ' US', '', '6974', '297', '6677', '15608', '6459', '9149', '371', '98', '200', '73'], ['', 'Park Burger RiNo', '2615 Walnut St', ' Denver', ' CO', ' US', '', '10869', '802', '10067', '34253', '10366', '23887', '723', '134', '528', '61'], ['', 'Birdcall', '800 East 26th Avenue', ' Denver', ' CO', ' US', '', '2749', '1345', '1404', '6862', '2582', '4280', '593', '310', '269', '14'], ['', 'Park Burger Pearl', '1890 South Pearl Street', ' Denver', ' CO', ' US', '', '9857', '741', '9116', '25497', '9307', '16190', '686', '123', '433', '130'], ['', 'Park Burger Highlands', '2643 West 32nd Avenue', ' Denver', ' Colorado', ' US', '', '9077', '296', '8781', '18037', '8531', '9506', '343', '100', '191', '52'], ['', 'Homegrown Tap & Dough', '5601 Olde Wadsworth Blvd.', ' Arvada', ' CO', ' US', '', '6178', '694', '5484', '16209', '6910', '9299', '543', '206', '259', '78'], ['', 'Homegrown Tap & Dough - Wash Park', '1001 S Gaylord St', ' Denver', ' Colorado', ' US', '', '3202', '900', '2302', '15178', '3944', '11234', '584', '182', '322', '80'], ['', 'Park Burger Hilltop', '211 S Holly St', ' Denver', ' CO', ' US', '', '7019', '320', '6699', '15278', '6601', '8677', '445', '95', '261', '89'], ['', 'Park Burger RiNo', '2615 Walnut St', ' Denver', ' CO', ' US', '', '10991', '711', '10280', '34243', '10864', '23379', '638', '113', '451', '74'], ['', 'Birdcall', '800 East 26th Avenue', ' Denver', ' CO', ' US', '', '2579', '1176', '1403', '6314', '2351', '3963', '533', '250', '273', '10'], ['', 'Park Burger Pearl', '1890 South Pearl Street', ' Denver', ' CO', ' US', '', '10013', '684', '9329', '25060', '9502', '15558', '640', '109', '460', '71'], ['', 'Park Burger Highlands', '2643 West 32nd Avenue', ' Denver', ' Colorado', ' US', '', '9060', '288', '8772', '17901', '8308', '9593', '357', '71', '229', '57'], ['', 'Homegrown Tap & Dough', '5601 Olde Wadsworth Blvd.', ' Arvada', ' CO', ' US', '', '6284', '694', '5590', '16731', '6661', '10070', '643', '188', '377', '78'], ['', 'Homegrown Tap & Dough - Wash Park', '1001 S Gaylord St', ' Denver', ' Colorado', ' US', '', '3627', '875', '2752', '15901', '4501', '11400', '650', '181', '359', '110'], ['', 'Park Burger Hilltop', '211 S Holly St', ' Denver', ' CO', ' US', '', '6859', '300', '6559', '15411', '6424', '8987', '386', '82', '245', '59'], ['', 'Park Burger RiNo', '2615 Walnut St', ' Denver', ' CO', ' US', '', '10889', '735', '10154', '34955', '10827', '24128', '722', '114', '529', '79'], ['', 'Birdcall', '800 East 26th Avenue', ' Denver', ' CO', ' US', '', '3741', '2208', '1533', '8447', '3743', '4704', '796', '526', '256', '14'], ['', 'Park Burger Pearl', '1890 South Pearl Street', ' Denver', ' CO', ' US', '', '9651', '715', '8936', '25520', '9198', '16322', '614', '127', '390', '97'], ['', 'Park Burger Highlands', '2643 West 32nd Avenue', ' Denver', ' Colorado', ' US', '', '8689', '293', '8396', '17712', '8016', '9696', '368', '82', '206', '80'], ['', 'Homegrown Tap & Dough', '5601 Olde Wadsworth Blvd.', ' Arvada', ' CO', ' US', '', '5924', '634', '5290', '16836', '6895', '9941', '501', '163', '272', '66'], ['', 'Homegrown Tap & Dough - Wash Park', '1001 S Gaylord St', ' Denver', ' Colorado', ' US', '', '3079', '896', '2183', '15303', '3809', '11494', '545', '185', '280', '80'], ['', 'Park Burger Hilltop', '211 S Holly St', ' Denver', ' CO', ' US', '', '6798', '315', '6483', '15260', '6281', '8979', '371', '84', '215', '72'], ['', 'Park Burger RiNo', '2615 Walnut St', ' Denver', ' CO', ' US', '', '10729', '692', '10037', '34531', '10379', '24152', '655', '128', '451', '76'], ['', 'Birdcall', '800 East 26th Avenue', ' Denver', ' CO', ' US', '', '2046', '1279', '767', '5412', '2336', '3076', '478', '292', '164', '22'], ['', 'Park Burger Pearl', '1890 South Pearl Street', ' Denver', ' CO', ' US', '', '8293', '602', '7691', '19315', '7838', '11477', '529', '113', '325', '91'], ['', 'Park Burger Highlands', '2643 West 32nd Avenue', ' Denver', ' Colorado', ' US', '', '7050', '227', '6823', '11617', '5357', '6260', '277', '62', '163', '52'], ['', 'Homegrown Tap & Dough', '5601 Olde Wadsworth Blvd.', ' Arvada', ' CO', ' US', '', '5268', '512', '4756', '12406', '5633', '6773', '462', '147', '230', '85'], ['', 'Homegrown Tap & Dough - Wash Park', '1001 S Gaylord St', ' Denver', ' Colorado', ' US', '', '2653', '749', '1904', '10073', '3075', '6998', '544', '185', '230', '129'], ['', 'Park Burger Hilltop', '211 S Holly St', ' Denver', ' CO', ' US', '', '6206', '231', '5975', '12456', '5746', '6710', '334', '77', '184', '73'], ['', 'Park Burger RiNo', '2615 Walnut St', ' Denver', ' CO', ' US', '', '8716', '518', '8198', '23413', '8003', '15410', '529', '113', '330', '86'], ['', 'Birdcall', '800 East 26th Avenue', ' Denver', ' CO', ' US', '', '2468', '1579', '889', '6744', '2509', '4235', '569', '343', '215', '11'], ['', 'Park Burger Pearl', '1890 South Pearl Street', ' Denver', ' CO', ' US', '', '9386', '713', '8673', '24175', '8877', '15298', '640', '148', '348', '144'], ['', 'Park Burger Highlands', '2643 West 32nd Avenue', ' Denver', ' Colorado', ' US', '', '8223', '275', '7948', '19674', '7953', '11721', '368', '95', '192', '81'], ['', 'Homegrown Tap & Dough', '5601 Olde Wadsworth Blvd.', ' Arvada', ' CO', ' US', '', '5610', '714', '4896', '15647', '6618', '9029', '489', '190', '229', '70'], ['', 'Homegrown Tap & Dough - Wash Park', '1001 S Gaylord St', ' Denver', ' Colorado', ' US', '', '2964', '813', '2151', '13470', '3825', '9645', '513', '174', '253', '86'], ['', 'Park Burger Hilltop', '211 S Holly St', ' Denver', ' CO', ' US', '', '6441', '300', '6141', '14955', '6051', '8904', '327', '82', '174', '71'], ['', 'Park Burger RiNo', '2615 Walnut St', ' Denver', ' CO', ' US', '', '10357', '764', '9593', '36148', '9664', '26484', '699', '109', '470', '120'], ['', 'Birdcall', '800 East 26th Avenue', ' Denver', ' CO', ' US', '', '3022', '1659', '1363', '7429', '3066', '4363', '673', '414', '241', '18'], ['', 'Park Burger Pearl', '1890 South Pearl Street', ' Denver', ' CO', ' US', '', '9846', '747', '9099', '26772', '9609', '17163', '611', '145', '374', '92'], ['', 'Park Burger Highlands', '2643 West 32nd Avenue', ' Denver', ' Colorado', ' US', '', '9221', '319', '8902', '19145', '8472', '10673', '402', '86', '239', '77'], ['', 'Homegrown Tap & Dough', '5601 Olde Wadsworth Blvd.', ' Arvada', ' CO', ' US', '', '6084', '606', '5478', '16713', '6614', '10099', '555', '176', '311', '68'], ['', 'Homegrown Tap & Dough - Wash Park', '1001 S Gaylord St', ' Denver', ' Colorado', ' US', '', '3680', '957', '2723', '16578', '4689', '11889', '598', '197', '320', '81'], ['', 'Park Burger Hilltop', '211 S Holly St', ' Denver', ' CO', ' US', '', '6667', '324', '6343', '15518', '6293', '9225', '391', '82', '257', '52'], ['', 'Park Burger RiNo', '2615 Walnut St', ' Denver', ' CO', ' US', '', '11159', '798', '10361', '35922', '10871', '25051', '783', '141', '565', '77'], ['', 'Birdcall', '800 East 26th Avenue', ' Denver', ' CO', ' US', '', '3057', '1711', '1346', '7717', '2889', '4828', '601', '325', '260', '16'], ['', 'Park Burger Pearl', '1890 South Pearl Street', ' Denver', ' CO', ' US', '', '8675', '697', '7978', '23940', '8425', '15515', '658', '140', '425', '93'], ['', 'Park Burger Highlands', '2643 West 32nd Avenue', ' Denver', ' Colorado', ' US', '', '7695', '268', '7427', '21090', '7459', '13631', '337', '94', '171', '72'], ['', 'Homegrown Tap & Dough', '5601 Olde Wadsworth Blvd.', ' Arvada', ' CO', ' US', '', '5838', '755', '5083', '15919', '6442', '9477', '559', '247', '242', '70'], ['', 'Homegrown Tap & Dough - Wash Park', '1001 S Gaylord St', ' Denver', ' Colorado', ' US', '', '2928', '683', '2245', '12539', '3900', '8639', '522', '154', '288', '80'], ['', 'Park Burger Hilltop', '211 S Holly St', ' Denver', ' CO', ' US', '', '6047', '310', '5737', '14455', '5650', '8805', '408', '87', '217', '104'], ['', 'Park Burger RiNo', '2615 Walnut St', ' Denver', ' CO', ' US', '', '10301', '586', '9715', '32944', '9800', '23144', '605', '110', '422', '73'], ['', 'Birdcall', '800 East 26th Avenue', ' Denver', ' CO', ' US', '', '2499', '1118', '1381', '6700', '2332', '4368', '425', '226', '174', '25'], ['', 'Park Burger Pearl', '1890 South Pearl Street', ' Denver', ' CO', ' US', '', '7428', '592', '6836', '20117', '7153', '12964', '559', '103', '354', '102'], ['', 'Park Burger Highlands', '2643 West 32nd Avenue', ' Denver', ' Colorado', ' US', '', '6245', '176', '6069', '17335', '5942', '11393', '252', '49', '149', '54'], ['', 'Homegrown Tap & Dough', '5601 Olde Wadsworth Blvd.', ' Arvada', ' CO', ' US', '', '4818', '648', '4170', '14161', '5744', '8417', '537', '193', '250', '94'], ['', 'Homegrown Tap & Dough - Wash Park', '1001 S Gaylord St', ' Denver', ' Colorado', ' US', '', '2202', '569', '1633', '10038', '2950', '7088', '464', '132', '251', '81'], ['', 'Park Burger Hilltop', '211 S Holly St', ' Denver', ' CO', ' US', '', '5503', '330', '5173', '12820', '5175', '7645', '388', '74', '253', '61'], ['', 'Park Burger RiNo', '2615 Walnut St', ' Denver', ' CO', ' US', '', '8113', '492', '7621', '26250', '7902', '18348', '512', '81', '346', '85'], ['', 'Birdcall', '800 East 26th Avenue', ' Denver', ' CO', ' US', '', '2551', '1093', '1458', '6216', '2275', '3941', '517', '277', '204', '36'], ['', 'Park Burger Pearl', '1890 South Pearl Street', ' Denver', ' CO', ' US', '', '9673', '656', '9017', '21897', '9432', '12465', '631', '130', '394', '107'], ['', 'Park Burger Highlands', '2643 West 32nd Avenue', ' Denver', ' Colorado', ' US', '', '8211', '217', '7994', '19320', '7792', '11528', '307', '75', '183', '49'], ['', 'Homegrown Tap & Dough', '5601 Olde Wadsworth Blvd.', ' Arvada', ' CO', ' US', '', '6084', '847', '5237', '14778', '6643', '8135', '685', '252', '324', '109'], ['', 'Homegrown Tap & Dough - Wash Park', '1001 S Gaylord St', ' Denver', ' Colorado', ' US', '', '2568', '612', '1956', '9340', '3171', '6169', '481', '162', '242', '77'], ['', 'Park Burger Hilltop', '211 S Holly St', ' Denver', ' CO', ' US', '', '6487', '257', '6230', '13444', '6194', '7250', '374', '83', '204', '87'], ['', 'Park Burger RiNo', '2615 Walnut St', ' Denver', ' CO', ' US', '', '9959', '503', '9456', '26831', '9414', '17417', '560', '115', '382', '63'], ['', 'Birdcall', '800 East 26th Avenue', ' Denver', ' CO', ' US', '', '2889', '1495', '1394', '7198', '2706', '4492', '586', '339', '223', '24'], ['', 'Park Burger Pearl', '1890 South Pearl Street', ' Denver', ' CO', ' US', '', '9071', '642', '8429', '23290', '8470', '14820', '591', '113', '365', '113'], ['', 'Park Burger Highlands', '2643 West 32nd Avenue', ' Denver', ' Colorado', ' US', '', '8501', '293', '8208', '21459', '7283', '14176', '358', '86', '205', '67'], ['', 'Homegrown Tap & Dough', '5601 Olde Wadsworth Blvd.', ' Arvada', ' CO', ' US', '', '5743', '701', '5042', '16031', '6446', '9585', '513', '177', '288', '48'], ['', 'Homegrown Tap & Dough - Wash Park', '1001 S Gaylord St', ' Denver', ' Colorado', ' US', '', '2786', '743', '2043', '12467', '3661', '8806', '506', '139', '295', '72'], ['', 'Park Burger Hilltop', '211 S Holly St', ' Denver', ' CO', ' US', '', '6428', '259', '6169', '14455', '5835', '8620', '321', '84', '163', '74'], ['', 'Park Burger RiNo', '2615 Walnut St', ' Denver', ' CO', ' US', '', '11069', '654', '10415', '34481', '9711', '24770', '689', '125', '461', '103'], ['', 'Birdcall', '800 East 26th Avenue', ' Denver', ' CO', ' US', '', '2452', '1239', '1213', '5720', '2425', '3295', '608', '315', '278', '15'], ['', 'Park Burger Pearl', '1890 South Pearl Street', ' Denver', ' CO', ' US', '', '10557', '690', '9867', '26298', '10128', '16170', '631', '125', '449', '57'], ['', 'Park Burger Highlands', '2643 West 32nd Avenue', ' Denver', ' Colorado', ' US', '', '9461', '282', '9179', '18863', '8898', '9965', '345', '84', '211', '50'], ['', 'Homegrown Tap & Dough', '5601 Olde Wadsworth Blvd.', ' Arvada', ' CO', ' US', '', '6674', '645', '6029', '16947', '7385', '9562', '602', '176', '331', '95'], ['', 'Homegrown Tap & Dough - Wash Park', '1001 S Gaylord St', ' Denver', ' Colorado', ' US', '', '3845', '885', '2960', '16888', '4710', '12178', '661', '187', '368', '106'], ['', 'Park Burger Hilltop', '211 S Holly St', ' Denver', ' CO', ' US', '', '7122', '333', '6789', '15461', '6548', '8913', '449', '99', '289', '61'], ['', 'Park Burger RiNo', '2615 Walnut St', ' Denver', ' CO', ' US', '', '11873', '847', '11026', '37002', '11316', '25686', '816', '130', '598', '88'], ['', 'Birdcall', '800 East 26th Avenue', ' Denver', ' CO', ' US', '', '2307', '1144', '1163', '5855', '2256', '3599', '563', '275', '275', '13'], ['', 'Park Burger Pearl', '1890 South Pearl Street', ' Denver', ' CO', ' US', '', '9831', '647', '9184', '25438', '9706', '15732', '632', '127', '418', '87'], ['', 'Park Burger Highlands', '2643 West 32nd Avenue', ' Denver', ' Colorado', ' US', '', '8761', '283', '8478', '18221', '8381', '9840', '456', '93', '308', '55'], ['', 'Homegrown Tap & Dough', '5601 Olde Wadsworth Blvd.', ' Arvada', ' CO', ' US', '', '6474', '681', '5793', '16577', '7362', '9215', '574', '199', '287', '88'], ['', 'Homegrown Tap & Dough - Wash Park', '1001 S Gaylord St', ' Denver', ' Colorado', ' US', '', '3831', '928', '2903', '15931', '4893', '11038', '706', '205', '406', '95'], ['', 'Park Burger Hilltop', '211 S Holly St', ' Denver', ' CO', ' US', '', '6815', '345', '6470', '15346', '6291', '9055', '457', '91', '285', '81'], ['', 'Park Burger RiNo', '2615 Walnut St', ' Denver', ' CO', ' US', '', '11079', '788', '10291', '34721', '10718', '24003', '767', '133', '567', '67'], ['', 'Birdcall', '800 East 26th Avenue', ' Denver', ' CO', ' US', '', '3068', '1752', '1316', '6984', '2868', '4116', '745', '407', '315', '23'], ['', 'Park Burger Pearl', '1890 South Pearl Street', ' Denver', ' CO', ' US', '', '9933', '725', '9208', '25700', '9408', '16292', '683', '134', '455', '94'], ['', 'Park Burger Highlands', '2643 West 32nd Avenue', ' Denver', ' Colorado', ' US', '', '9354', '290', '9064', '18157', '8743', '9414', '393', '85', '261', '47'], ['', 'Homegrown Tap & Dough', '5601 Olde Wadsworth Blvd.', ' Arvada', ' CO', ' US', '', '6546', '634', '5912', '16579', '7005', '9574', '647', '203', '364', '80'], ['', 'Homegrown Tap & Dough - Wash Park', '1001 S Gaylord St', ' Denver', ' Colorado', ' US', '', '4012', '938', '3074', '16740', '4943', '11797', '701', '181', '406', '114'], ['', 'Park Burger Hilltop', '211 S Holly St', ' Denver', ' CO', ' US', '', '6742', '282', '6460', '15331', '6304', '9027', '391', '78', '258', '55'], ['', 'Park Burger RiNo', '2615 Walnut St', ' Denver', ' CO', ' US', '', '12216', '796', '11420', '38075', '11705', '26370', '777', '148', '556', '73'], ['', 'Birdcall', '800 East 26th Avenue', ' Denver', ' CO', ' US', '', '2268', '1213', '1055', '5276', '2278', '2998', '606', '365', '218', '23'], ['', 'Park Burger Pearl', '1890 South Pearl Street', ' Denver', ' CO', ' US', '', '10165', '658', '9507', '24451', '9490', '14961', '680', '120', '445', '115'], ['', 'Park Burger Highlands', '2643 West 32nd Avenue', ' Denver', ' Colorado', ' US', '', '9073', '269', '8804', '18198', '8535', '9663', '395', '100', '229', '66'], ['', 'Homegrown Tap & Dough', '5601 Olde Wadsworth Blvd.', ' Arvada', ' CO', ' US', '', '6223', '564', '5659', '17136', '6567', '10569', '573', '170', '327', '76'], ['', 'Homegrown Tap & Dough - Wash Park', '1001 S Gaylord St', ' Denver', ' Colorado', ' US', '', '3792', '914', '2878', '15561', '4692', '10869', '631', '189', '335', '107'], ['', 'Park Burger Hilltop', '211 S Holly St', ' Denver', ' CO', ' US', '', '7035', '332', '6703', '15863', '6495', '9368', '454', '106', '259', '89'], ['', 'Park Burger RiNo', '2615 Walnut St', ' Denver', ' CO', ' US', '', '10856', '741', '10115', '33012', '9884', '23128', '733', '132', '507', '94'], ['', 'Birdcall', '800 East 26th Avenue', ' Denver', ' CO', ' US', '', '3358', '1673', '1685', '7877', '3080', '4797', '644', '349', '256', '39'], ['', 'Park Burger Pearl', '1890 South Pearl Street', ' Denver', ' CO', ' US', '', '10329', '805', '9524', '25524', '9734', '15790', '844', '203', '501', '140'], ['', 'Park Burger Highlands', '2643 West 32nd Avenue', ' Denver', ' Colorado', ' US', '', '9029', '316', '8713', '23121', '8368', '14753', '445', '105', '266', '74'], ['', 'Homegrown Tap & Dough', '5601 Olde Wadsworth Blvd.', ' Arvada', ' CO', ' US', '', '5697', '764', '4933', '15590', '6470', '9120', '631', '263', '291', '77'], ['', 'Homegrown Tap & Dough - Wash Park', '1001 S Gaylord St', ' Denver', ' Colorado', ' US', '', '2738', '673', '2065', '12111', '3552', '8559', '514', '158', '285', '71'], ['', 'Park Burger Hilltop', '211 S Holly St', ' Denver', ' CO', ' US', '', '7089', '320', '6769', '15440', '6595', '8845', '445', '99', '257', '89'], ['', 'Park Burger RiNo', '2615 Walnut St', ' Denver', ' CO', ' US', '', '11975', '817', '11158', '34963', '11360', '23603', '855', '178', '555', '122'], ['', 'Birdcall', '800 East 26th Avenue', ' Denver', ' CO', ' US', '', '2802', '1188', '1614', '8182', '2973', '5209', '525', '259', '251', '15'], ['', 'Park Burger Pearl', '1890 South Pearl Street', ' Denver', ' CO', ' US', '', '9333', '704', '8629', '25601', '8763', '16838', '688', '158', '418', '112'], ['', 'Park Burger Highlands', '2643 West 32nd Avenue', ' Denver', ' Colorado', ' US', '', '7435', '245', '7190', '23365', '7938', '15427', '402', '93', '243', '66'], ['', 'Homegrown Tap & Dough', '5601 Olde Wadsworth Blvd.', ' Arvada', ' CO', ' US', '', '5022', '488', '4534', '15619', '6303', '9316', '497', '183', '256', '58'], ['', 'Homegrown Tap & Dough - Wash Park', '1001 S Gaylord St', ' Denver', ' Colorado', ' US', '', '2978', '700', '2278', '12187', '3755', '8432', '540', '155', '321', '64'], ['', 'Park Burger Hilltop', '211 S Holly St', ' Denver', ' CO', ' US', '', '5777', '252', '5525', '14811', '5853', '8958', '355', '89', '195', '71'], ['', 'Park Burger RiNo', '2615 Walnut St', ' Denver', ' CO', ' US', '', '10301', '578', '9723', '37517', '11296', '26221', '691', '127', '475', '89'], ['', 'Birdcall', '800 East 26th Avenue', ' Denver', ' CO', ' US', '', '2842', '1125', '1717', '8275', '3188', '5087', '531', '267', '248', '16'], ['', 'Park Burger Pearl', '1890 South Pearl Street', ' Denver', ' CO', ' US', '', '9726', '803', '8923', '27176', '9675', '17501', '781', '177', '479', '125'], ['', 'Park Burger Highlands', '2643 West 32nd Avenue', ' Denver', ' Colorado', ' US', '', '7499', '263', '7236', '24921', '8231', '16690', '400', '106', '231', '63'], ['', 'Homegrown Tap & Dough', '5601 Olde Wadsworth Blvd.', ' Arvada', ' CO', ' US', '', '5449', '620', '4829', '16376', '7227', '9149', '645', '216', '358', '71'], ['', 'Homegrown Tap & Dough - Wash Park', '1001 S Gaylord St', ' Denver', ' Colorado', ' US', '', '3278', '769', '2509', '13602', '4024', '9578', '615', '216', '330', '69'], ['', 'Park Burger Hilltop', '211 S Holly St', ' Denver', ' CO', ' US', '', '6006', '283', '5723', '16486', '6733', '9753', '430', '99', '263', '68'], ['', 'Park Burger RiNo', '2615 Walnut St', ' Denver', ' CO', ' US', '', '10227', '597', '9630', '38300', '11701', '26599', '794', '174', '552', '68'], ['', 'Birdcall', '800 East 26th Avenue', ' Denver', ' CO', ' US', '', '3285', '705', '2580', '8645', '3486', '5159', '422', '174', '234', '14'], ['', 'Park Burger Pearl', '1890 South Pearl Street', ' Denver', ' CO', ' US', '', '8988', '665', '8323', '26141', '8881', '17260', '687', '154', '451', '82'], ['', 'Park Burger Highlands', '2643 West 32nd Avenue', ' Denver', ' Colorado', ' US', '', '7848', '278', '7570', '22904', '7632', '15272', '347', '91', '214', '42'], ['', 'Homegrown Tap & Dough', '5601 Olde Wadsworth Blvd.', ' Arvada', ' CO', ' US', '', '5903', '626', '5277', '13765', '6818', '6947', '552', '185', '318', '49'], ['', 'Homegrown Tap & Dough - Wash Park', '1001 S Gaylord St', ' Denver', ' Colorado', ' US', '', '3065', '706', '2359', '14366', '3727', '10639', '585', '181', '306', '98'], ['', 'Park Burger Hilltop', '211 S Holly St', ' Denver', ' CO', ' US', '', '6423', '268', '6155', '15572', '6219', '9353', '388', '100', '231', '57'], ['', 'Park Burger RiNo', '2615 Walnut St', ' Denver', ' CO', ' US', '', '10510', '623', '9887', '36558', '10641', '25917', '667', '146', '455', '66'], ['', 'Birdcall', '800 East 26th Avenue', ' Denver', ' CO', ' US', '', '3430', '1571', '1859', '8656', '3298', '5358', '647', '316', '313', '18'], ['', 'Park Burger Pearl', '1890 South Pearl Street', ' Denver', ' CO', ' US', '', '10398', '822', '9576', '27055', '9711', '17344', '744', '175', '460', '109'], ['', 'Park Burger Highlands', '2643 West 32nd Avenue', ' Denver', ' Colorado', ' US', '', '9348', '325', '9023', '25563', '8873', '16690', '433', '110', '233', '90'], ['', 'Homegrown Tap & Dough', '5601 Olde Wadsworth Blvd.', ' Arvada', ' CO', ' US', '', '5862', '621', '5241', '16720', '6825', '9895', '547', '198', '303', '46'], ['', 'Homegrown Tap & Dough - Wash Park', '1001 S Gaylord St', ' Denver', ' Colorado', ' US', '', '3174', '796', '2378', '12551', '4079', '8472', '582', '178', '310', '94'], ['', 'Park Burger Hilltop', '211 S Holly St', ' Denver', ' CO', ' US', '', '7040', '343', '6697', '16233', '6567', '9666', '412', '92', '261', '59'], ['', 'Park Burger RiNo', '2615 Walnut St', ' Denver', ' CO', ' US', '', '12790', '1012', '11778', '40568', '12132', '28436', '1036', '165', '781', '90'], ['', 'Birdcall', '800 East 26th Avenue', ' Denver', ' CO', ' US', '', '3644', '1169', '2475', '8592', '3397', '5195', '562', '283', '263', '16'], ['', 'Park Burger Pearl', '1890 South Pearl Street', ' Denver', ' CO', ' US', '', '10398', '767', '9631', '26686', '9577', '17109', '752', '161', '486', '105'], ['', 'Park Burger Highlands', '2643 West 32nd Avenue', ' Denver', ' Colorado', ' US', '', '9163', '325', '8838', '24665', '8593', '16072', '499', '145', '270', '84'], ['', 'Homegrown Tap & Dough', '5601 Olde Wadsworth Blvd.', ' Arvada', ' CO', ' US', '', '7154', '698', '6456', '19168', '8011', '11157', '662', '253', '312', '97'], ['', 'Homegrown Tap & Dough - Wash Park', '1001 S Gaylord St', ' Denver', ' Colorado', ' US', '', '3509', '819', '2690', '15259', '4301', '10958', '635', '218', '317', '100'], ['', 'Park Burger Hilltop', '211 S Holly St', ' Denver', ' CO', ' US', '', '7434', '306', '7128', '16114', '7085', '9029', '441', '126', '235', '80'], ['', 'Park Burger RiNo', '2615 Walnut St', ' Denver', ' CO', ' US', '', '12263', '731', '11532', '38092', '11851', '26241', '872', '175', '591', '106'], ['', 'Birdcall', '800 East 26th Avenue', ' Denver', ' CO', ' US', '', '3610', '1178', '2432', '9193', '3612', '5581', '542', '253', '269', '20'], ['', 'Park Burger Pearl', '1890 South Pearl Street', ' Denver', ' CO', ' US', '', '10197', '706', '9491', '28051', '9757', '18294', '753', '242', '417', '94'], ['', 'Park Burger Highlands', '2643 West 32nd Avenue', ' Denver', ' Colorado', ' US', '', '8799', '318', '8481', '24784', '8256', '16528', '477', '180', '231', '66'], ['', 'Homegrown Tap & Dough', '5601 Olde Wadsworth Blvd.', ' Arvada', ' CO', ' US', '', '6550', '677', '5873', '18038', '7172', '10866', '751', '336', '352', '63'], ['', 'Homegrown Tap & Dough - Wash Park', '1001 S Gaylord St', ' Denver', ' Colorado', ' US', '', '3122', '633', '2489', '14763', '3885', '10878', '579', '187', '307', '85'], ['', 'Park Burger Hilltop', '211 S Holly St', ' Denver', ' CO', ' US', '', '7265', '350', '6915', '16844', '6770', '10074', '591', '163', '301', '127'], ['', 'Park Burger RiNo', '2615 Walnut St', ' Denver', ' CO', ' US', '', '11743', '618', '11125', '38563', '11377', '27186', '805', '227', '469', '109'], ['', 'Birdcall', '800 East 26th Avenue', ' Denver', ' CO', ' US', '', '3916', '1187', '2729', '9737', '3683', '6054', '498', '225', '254', '19'], ['', 'Park Burger Pearl', '1890 South Pearl Street', ' Denver', ' CO', ' US', '', '12184', '796', '11388', '30323', '10633', '19690', '943', '269', '524', '150'], ['', 'Park Burger Highlands', '2643 West 32nd Avenue', ' Denver', ' Colorado', ' US', '', '10324', '347', '9977', '25913', '8517', '17396', '547', '181', '287', '79'], ['', 'Homegrown Tap & Dough', '5601 Olde Wadsworth Blvd.', ' Arvada', ' CO', ' US', '', '7466', '802', '6664', '19816', '8200', '11616', '813', '382', '336', '95'], ['', 'Homegrown Tap & Dough - Wash Park', '1001 S Gaylord St', ' Denver', ' Colorado', ' US', '', '3915', '826', '3089', '16839', '4738', '12101', '811', '281', '412', '118'], ['', 'Park Burger Hilltop', '211 S Holly St', ' Denver', ' CO', ' US', '', '8035', '360', '7675', '17359', '7274', '10085', '592', '195', '294', '103'], ['', 'Park Burger RiNo', '2615 Walnut St', ' Denver', ' CO', ' US', '', '13472', '750', '12722', '41960', '12649', '29311', '934', '220', '621', '93'], ['', 'Birdcall', '800 East 26th Avenue', ' Denver', ' CO', ' US', '', '3348', '1098', '2250', '8007', '3097', '4910', '476', '240', '225', '11'], ['', 'Park Burger Pearl', '1890 South Pearl Street', ' Denver', ' CO', ' US', '', '9026', '708', '8318', '25108', '8615', '16493', '678', '152', '447', '79'], ['', 'Park Burger Highlands', '2643 West 32nd Avenue', ' Denver', ' Colorado', ' US', '', '8429', '327', '8102', '23097', '7895', '15202', '434', '91', '265', '78'], ['', 'Homegrown Tap & Dough', '5601 Olde Wadsworth Blvd.', ' Arvada', ' CO', ' US', '', '6077', '620', '5457', '16419', '7030', '9389', '571', '180', '345', '46'], ['', 'Homegrown Tap & Dough - Wash Park', '1001 S Gaylord St', ' Denver', ' Colorado', ' US', '', '3211', '720', '2491', '14955', '4125', '10830', '534', '181', '297', '56'], ['', 'Park Burger Hilltop', '211 S Holly St', ' Denver', ' CO', ' US', '', '6503', '291', '6212', '14941', '6100', '8841', '429', '80', '288', '61'], ['', 'Park Burger RiNo', '2615 Walnut St', ' Denver', ' CO', ' US', '', '11075', '614', '10461', '36003', '10792', '25211', '676', '141', '475', '60'], ['', 'Birdcall', '800 East 26th Avenue', ' Denver', ' CO', ' US', '', '4383', '1251', '3132', '9970', '4229', '5741', '604', '277', '309', '18'], ['', 'Park Burger Pearl', '1890 South Pearl Street', ' Denver', ' CO', ' US', '', '12441', '911', '11530', '31142', '11273', '19869', '1028', '269', '620', '139'], ['', 'Park Burger Highlands', '2643 West 32nd Avenue', ' Denver', ' Colorado', ' US', '', '10375', '353', '10022', '27656', '9375', '18281', '658', '225', '358', '75'], ['', 'Homegrown Tap & Dough', '5601 Olde Wadsworth Blvd.', ' Arvada', ' CO', ' US', '', '7745', '762', '6983', '20302', '8481', '11821', '963', '376', '475', '112'], ['', 'Homegrown Tap & Dough - Wash Park', '1001 S Gaylord St', ' Denver', ' Colorado', ' US', '', '4085', '876', '3209', '16166', '4791', '11375', '825', '282', '439', '104'], ['', 'Park Burger Hilltop', '211 S Holly St', ' Denver', ' CO', ' US', '', '8634', '404', '8230', '18646', '8054', '10592', '674', '216', '362', '96'], ['', 'Park Burger RiNo', '2615 Walnut St', ' Denver', ' CO', ' US', '', '14053', '772', '13281', '43819', '12830', '30989', '1031', '255', '659', '117'], ['', 'Birdcall', '800 East 26th Avenue', ' Denver', ' CO', ' US', '', '4014', '425', '3589', '9841', '3794', '6047', '437', '152', '273', '12'], ['', 'Park Burger Pearl', '1890 South Pearl Street', ' Denver', ' CO', ' US', '', '12258', '770', '11488', '31430', '11082', '20348', '949', '239', '580', '130'], ['', 'Park Burger Highlands', '2643 West 32nd Avenue', ' Denver', ' Colorado', ' US', '', '10384', '318', '10066', '27807', '9365', '18442', '551', '191', '283', '77'], ['', 'Homegrown Tap & Dough', '5601 Olde Wadsworth Blvd.', ' Arvada', ' CO', ' US', '', '7701', '833', '6868', '20917', '8068', '12849', '817', '379', '382', '56'], ['', 'Homegrown Tap & Dough - Wash Park', '1001 S Gaylord St', ' Denver', ' Colorado', ' US', '', '4134', '795', '3339', '17301', '4625', '12676', '807', '271', '399', '137'], ['', 'Park Burger Hilltop', '211 S Holly St', ' Denver', ' CO', ' US', '', '8616', '380', '8236', '19070', '7796', '11274', '599', '197', '316', '86'], ['', 'Park Burger RiNo', '2615 Walnut St', ' Denver', ' CO', ' US', '', '14290', '764', '13526', '47024', '13099', '33925', '971', '252', '628', '91'], ['', 'Birdcall', '800 East 26th Avenue', ' Denver', ' CO', ' US', '', '3283', '344', '2939', '9139', '3243', '5896', '418', '113', '275', '30'], ['', 'Park Burger Pearl', '1890 South Pearl Street', ' Denver', ' CO', ' US', '', '10805', '736', '10069', '28485', '10167', '18318', '914', '238', '535', '141'], ['', 'Park Burger Highlands', '2643 West 32nd Avenue', ' Denver', ' Colorado', ' US', '', '9314', '331', '8983', '24882', '8561', '16321', '483', '188', '218', '77'], ['', 'Homegrown Tap & Dough', '5601 Olde Wadsworth Blvd.', ' Arvada', ' CO', ' US', '', '7245', '743', '6502', '19499', '7747', '11752', '778', '330', '360', '88'], ['', 'Homegrown Tap & Dough - Wash Park', '1001 S Gaylord St', ' Denver', ' Colorado', ' US', '', '3746', '671', '3075', '16103', '4475', '11628', '665', '244', '343', '78'], ['', 'Park Burger Hilltop', '211 S Holly St', ' Denver', ' CO', ' US', '', '7392', '300', '7092', '17046', '6996', '10050', '497', '173', '241', '83'], ['', 'Park Burger RiNo', '2615 Walnut St', ' Denver', ' CO', ' US', '', '12570', '715', '11855', '42312', '11907', '30405', '848', '191', '558', '99'], ['', 'Birdcall', '800 East 26th Avenue', ' Denver', ' CO', ' US', '', '4074', '1304', '2770', '10304', '4020', '6284', '558', '302', '232', '24'], ['', 'Park Burger Pearl', '1890 South Pearl Street', ' Denver', ' CO', ' US', '', '11898', '863', '11035', '32784', '11283', '21501', '818', '208', '494', '116'], ['', 'Park Burger Highlands', '2643 West 32nd Avenue', ' Denver', ' Colorado', ' US', '', '10464', '352', '10112', '29135', '9465', '19670', '515', '197', '242', '76'], ['', 'Homegrown Tap & Dough', '5601 Olde Wadsworth Blvd.', ' Arvada', ' CO', ' US', '', '7515', '841', '6674', '20348', '8432', '11916', '712', '339', '305', '68'], ['', 'Homegrown Tap & Dough - Wash Park', '1001 S Gaylord St', ' Denver', ' Colorado', ' US', '', '3755', '780', '2975', '17208', '4752', '12456', '584', '222', '292', '70'], ['', 'Park Burger Hilltop', '211 S Holly St', ' Denver', ' CO', ' US', '', '8539', '354', '8185', '19369', '8247', '11122', '497', '150', '271', '76'], ['', 'Park Burger RiNo', '2615 Walnut St', ' Denver', ' CO', ' US', '', '13905', '740', '13165', '45614', '13202', '32412', '854', '202', '585', '67'], ['', 'Birdcall', '800 East 26th Avenue', ' Denver', ' CO', ' US', '', '3887', '403', '3484', '10876', '4094', '6782', '431', '151', '268', '12'], ['', 'Park Burger Pearl', '1890 South Pearl Street', ' Denver', ' CO', ' US', '', '11633', '873', '10760', '30538', '10712', '19826', '963', '288', '493', '182'], ['', 'Park Burger Highlands', '2643 West 32nd Avenue', ' Denver', ' Colorado', ' US', '', '9850', '474', '9376', '27258', '9229', '18029', '667', '268', '283', '116'], ['', 'Homegrown Tap & Dough', '5601 Olde Wadsworth Blvd.', ' Arvada', ' CO', ' US', '', '8144', '1033', '7111', '22504', '8750', '13754', '910', '426', '381', '103'], ['', 'Homegrown Tap & Dough - Wash Park', '1001 S Gaylord St', ' Denver', ' Colorado', ' US', '', '4352', '877', '3475', '18952', '4763', '14189', '839', '263', '464', '112'], ['', 'Park Burger Hilltop', '211 S Holly St', ' Denver', ' CO', ' US', '', '7601', '354', '7247', '17584', '7186', '10398', '562', '176', '277', '109'], ['', 'Park Burger RiNo', '2615 Walnut St', ' Denver', ' CO', ' US', '', '13710', '738', '12972', '46468', '13664', '32804', '973', '232', '626', '115'], ['', 'Birdcall', '800 East 26th Avenue', ' Denver', ' CO', ' US', '', '15153', '1558', '13595', '41377', '15056', '26321', '1757', '575', '1122', '60'], ['', 'Park Burger Pearl', '1890 South Pearl Street', ' Denver', ' CO', ' US', '', '45583', '3549', '42034', '120940', '42063', '78877', '4051', '1176', '2147', '728'], ['', 'Park Burger Highlands', '2643 West 32nd Avenue', ' Denver', ' Colorado', ' US', '', '36217', '1592', '34625', '102153', '33691', '68462', '2281', '847', '1012', '422'], ['', 'Homegrown Tap & Dough', '5601 Olde Wadsworth Blvd.', ' Arvada', ' CO', ' US', '', '31786', '3809', '27977', '87443', '32615', '54828', '3498', '1572', '1574', '352'], ['', 'Homegrown Tap & Dough - Wash Park', '1001 S Gaylord St', ' Denver', ' Colorado', ' US', '', '16705', '3282', '13423', '74479', '19265', '55214', '3367', '1111', '1832', '424'], ['', 'Park Burger Hilltop', '211 S Holly St', ' Denver', ' CO', ' US', '', '30096', '1644', '28452', '71171', '27876', '43295', '2519', '818', '1221', '480'], ['', 'Park Burger RiNo', '2615 Walnut St', ' Denver', ' CO', ' US', '', '51372', '3022', '48350', '175105', '49975', '125130', '3744', '910', '2388', '446'], ['', 'Birdcall', '800 East 26th Avenue', ' Denver', ' CO', ' US', '', '3725', '379', '3346', '10051', '3388', '6663', '429', '133', '282', '14'], ['', 'Park Burger Pearl', '1890 South Pearl Street', ' Denver', ' CO', ' US', '', '11154', '841', '10313', '29137', '10276', '18861', '955', '268', '524', '163'], ['', 'Park Burger Highlands', '2643 West 32nd Avenue', ' Denver', ' Colorado', ' US', '', '9051', '416', '8635', '24596', '8167', '16429', '566', '189', '264', '113'], ['', 'Homegrown Tap & Dough', '5601 Olde Wadsworth Blvd.', ' Arvada', ' CO', ' US', '', '7660', '869', '6791', '21029', '7927', '13102', '769', '356', '345', '68'], ['', 'Homegrown Tap & Dough - Wash Park', '1001 S Gaylord St', ' Denver', ' Colorado', ' US', '', '3887', '696', '3191', '16980', '4534', '12446', '755', '264', '411', '80'], ['', 'Park Burger Hilltop', '211 S Holly St', ' Denver', ' CO', ' US', '', '7875', '451', '7424', '18316', '7259', '11057', '627', '202', '309', '116'], ['', 'Park Burger RiNo', '2615 Walnut St', ' Denver', ' CO', ' US', '', '13126', '825', '12301', '43829', '12403', '31426', '1066', '257', '681', '128'], ['', 'Birdcall', '800 East 26th Avenue', ' Denver', ' CO', ' US', '', '3588', '368', '3220', '9662', '3644', '6018', '391', '125', '251', '15'], ['', 'Park Burger Pearl', '1890 South Pearl Street', ' Denver', ' CO', ' US', '', '10692', '900', '9792', '28734', '9629', '19105', '952', '236', '517', '199'], ['', 'Park Burger Highlands', '2643 West 32nd Avenue', ' Denver', ' Colorado', ' US', '', '7821', '287', '7534', '22763', '7062', '15701', '488', '130', '272', '86'], ['', 'Homegrown Tap & Dough', '5601 Olde Wadsworth Blvd.', ' Arvada', ' CO', ' US', '', '7421', '742', '6679', '21037', '7712', '13325', '806', '341', '381', '84'], ['', 'Homegrown Tap & Dough - Wash Park', '1001 S Gaylord St', ' Denver', ' Colorado', ' US', '', '4511', '939', '3572', '19010', '4912', '14098', '911', '298', '494', '119'], ['', 'Park Burger Hilltop', '211 S Holly St', ' Denver', ' CO', ' US', '', '6423', '337', '6086', '15549', '5725', '9824', '641', '173', '305', '163'], ['', 'Park Burger RiNo', '2615 Walnut St', ' Denver', ' CO', ' US', '', '10825', '624', '10201', '38581', '10792', '27789', '676', '161', '445', '70'], ['', 'Birdcall', '800 East 26th Avenue', ' Denver', ' CO', ' US', '', '3998', '366', '3632', '10441', '3857', '6584', '428', '142', '272', '14'], ['', 'Park Burger Pearl', '1890 South Pearl Street', ' Denver', ' CO', ' US', '', '11603', '908', '10695', '30702', '10524', '20178', '971', '294', '524', '153'], ['', 'Park Burger Highlands', '2643 West 32nd Avenue', ' Denver', ' Colorado', ' US', '', '8845', '390', '8455', '25056', '8162', '16894', '551', '205', '258', '88'], ['', 'Homegrown Tap & Dough', '5601 Olde Wadsworth Blvd.', ' Arvada', ' CO', ' US', '', '8399', '1030', '7369', '22166', '8239', '13927', '931', '411', '441', '79'], ['', 'Homegrown Tap & Dough - Wash Park', '1001 S Gaylord St', ' Denver', ' Colorado', ' US', '', '4050', '796', '3254', '18740', '4737', '14003', '849', '270', '471', '108'], ['', 'Park Burger Hilltop', '211 S Holly St', ' Denver', ' CO', ' US', '', '7750', '417', '7333', '18006', '7220', '10786', '602', '206', '274', '122'], ['', 'Park Burger RiNo', '2615 Walnut St', ' Denver', ' CO', ' US', '', '12912', '748', '12164', '43943', '12383', '31560', '865', '211', '543', '111'], ['', 'Birdcall', '800 East 26th Avenue', ' Denver', ' CO', ' US', '', '3521', '361', '3160', '9805', '3223', '6582', '430', '145', '270', '15'], ['', 'Park Burger Pearl', '1890 South Pearl Street', ' Denver', ' CO', ' US', '', '11847', '831', '11016', '30927', '10474', '20453', '1095', '284', '593', '218'], ['', 'Park Burger Highlands', '2643 West 32nd Avenue', ' Denver', ' Colorado', ' US', '', '8248', '281', '7967', '24191', '7329', '16862', '404', '136', '210', '58'], ['', 'Homegrown Tap & Dough', '5601 Olde Wadsworth Blvd.', ' Arvada', ' CO', ' US', '', '8301', '838', '7463', '23211', '8642', '14569', '831', '376', '367', '88'], ['', 'Homegrown Tap & Dough - Wash Park', '1001 S Gaylord St', ' Denver', ' Colorado', ' US', '', '5091', '1031', '4060', '21152', '5994', '15158', '988', '333', '511', '144'], ['', 'Park Burger Hilltop', '211 S Holly St', ' Denver', ' CO', ' US', '', '6908', '373', '6535', '17348', '6243', '11105', '653', '206', '329', '118'], ['', 'Park Burger RiNo', '2615 Walnut St', ' Denver', ' CO', ' US', '', '12095', '728', '11367', '41772', '11868', '29904', '766', '206', '485', '75'], ['', 'Birdcall', '800 East 26th Avenue', ' Denver', ' CO', ' US', '', '3371', '331', '3040', '8981', '3317', '5664', '390', '122', '255', '13'], ['', 'Park Burger Pearl', '1890 South Pearl Street', ' Denver', ' CO', ' US', '', '10716', '926', '9790', '29883', '10735', '19148', '1147', '271', '667', '209'], ['', 'Park Burger Highlands', '2643 West 32nd Avenue', ' Denver', ' Colorado', ' US', '', '8099', '319', '7780', '24336', '7758', '16578', '489', '144', '280', '65'], ['', 'Homegrown Tap & Dough', '5601 Olde Wadsworth Blvd.', ' Arvada', ' CO', ' US', '', '7487', '761', '6726', '20722', '7275', '13447', '817', '348', '399', '70'], ['', 'Homegrown Tap & Dough - Wash Park', '1001 S Gaylord St', ' Denver', ' Colorado', ' US', '', '4908', '1023', '3885', '21488', '5615', '15873', '1073', '304', '606', '163'], ['', 'Park Burger Hilltop', '211 S Holly St', ' Denver', ' CO', ' US', '', '6064', '394', '5670', '16381', '5906', '10475', '557', '157', '306', '94'], ['', 'Park Burger RiNo', '2615 Walnut St', ' Denver', ' CO', ' US', '', '11017', '847', '10170', '40317', '11643', '28674', '889', '199', '590', '100'], ['', 'Birdcall', '800 East 26th Avenue', ' Denver', ' CO', ' US', '', '3373', '361', '3012', '8861', '3329', '5532', '462', '134', '300', '28'], ['', 'Park Burger Pearl', '1890 South Pearl Street', ' Denver', ' CO', ' US', '', '10749', '836', '9913', '30045', '10755', '19290', '1145', '256', '709', '180'], ['', 'Park Burger Highlands', '2643 West 32nd Avenue', ' Denver', ' Colorado', ' US', '', '7815', '295', '7520', '23650', '7751', '15899', '479', '166', '227', '86'], ['', 'Homegrown Tap & Dough', '5601 Olde Wadsworth Blvd.', ' Arvada', ' CO', ' US', '', '7245', '725', '6520', '20506', '7572', '12934', '851', '376', '394', '81'], ['', 'Homegrown Tap & Dough - Wash Park', '1001 S Gaylord St', ' Denver', ' Colorado', ' US', '', '4592', '925', '3667', '19657', '5387', '14270', '1000', '272', '556', '172'], ['', 'Park Burger Hilltop', '211 S Holly St', ' Denver', ' CO', ' US', '', '5715', '390', '5325', '15549', '5938', '9611', '565', '171', '303', '91'], ['', 'Park Burger RiNo', '2615 Walnut St', ' Denver', ' CO', ' US', '', '10418', '788', '9630', '39433', '11738', '27695', '899', '198', '539', '162'], ['', 'Birdcall', '800 East 26th Avenue', ' Denver', ' CO', ' US', '', '3659', '397', '3262', '10127', '3768', '6359', '431', '116', '304', '11'], ['', 'Park Burger Pearl', '1890 South Pearl Street', ' Denver', ' CO', ' US', '', '11236', '926', '10310', '30070', '10435', '19635', '1082', '293', '644', '145'], ['', 'Park Burger Highlands', '2643 West 32nd Avenue', ' Denver', ' Colorado', ' US', '', '8012', '277', '7735', '23929', '7267', '16662', '495', '155', '274', '66'], ['', 'Homegrown Tap & Dough', '5601 Olde Wadsworth Blvd.', ' Arvada', ' CO', ' US', '', '8197', '843', '7354', '22468', '7962', '14506', '844', '363', '373', '108'], ['', 'Homegrown Tap & Dough - Wash Park', '1001 S Gaylord St', ' Denver', ' Colorado', ' US', '', '4873', '932', '3941', '20477', '5540', '14937', '901', '296', '505', '100'], ['', 'Park Burger Hilltop', '211 S Holly St', ' Denver', ' CO', ' US', '', '6620', '427', '6193', '16240', '5795', '10445', '580', '172', '311', '97'], ['', 'Park Burger RiNo', '2615 Walnut St', ' Denver', ' CO', ' US', '', '11877', '700', '11177', '41739', '11731', '30008', '795', '201', '509', '85'], ['', 'Birdcall', '800 East 26th Avenue', ' Denver', ' CO', ' US', '', '3160', '324', '2836', '8540', '3063', '5477', '360', '111', '231', '18'], ['', 'Park Burger Pearl', '1890 South Pearl Street', ' Denver', ' CO', ' US', '', '9178', '742', '8436', '26588', '9307', '17281', '898', '212', '500', '186'], ['', 'Park Burger Highlands', '2643 West 32nd Avenue', ' Denver', ' Colorado', ' US', '', '7186', '299', '6887', '22923', '7221', '15702', '435', '142', '242', '51'], ['', 'Homegrown Tap & Dough', '5601 Olde Wadsworth Blvd.', ' Arvada', ' CO', ' US', '', '6164', '696', '5468', '19116', '7171', '11945', '833', '332', '429', '72'], ['', 'Homegrown Tap & Dough - Wash Park', '1001 S Gaylord St', ' Denver', ' Colorado', ' US', '', '3926', '821', '3105', '18683', '4759', '13924', '810', '283', '445', '82'], ['', 'Park Burger Hilltop', '211 S Holly St', ' Denver', ' CO', ' US', '', '5219', '339', '4880', '15261', '5446', '9815', '560', '155', '311', '94'], ['', 'Park Burger RiNo', '2615 Walnut St', ' Denver', ' CO', ' US', '', '11218', '2292', '8926', '39906', '12334', '27572', '1025', '206', '751', '68'], ['', 'Birdcall', '800 East 26th Avenue', ' Denver', ' CO', ' US', '', '656', '65', '591', '1195', '526', '669', '71', '26', '42', '3'], ['', 'Park Burger Pearl', '1890 South Pearl Street', ' Denver', ' CO', ' US', '', '1932', '137', '1795', '3837', '1751', '2086', '173', '53', '93', '27'], ['', 'Park Burger Highlands', '2643 West 32nd Avenue', ' Denver', ' Colorado', ' US', '', '1475', '77', '1398', '3113', '1258', '1855', '110', '35', '62', '13'], ['', 'Homegrown Tap & Dough', '5601 Olde Wadsworth Blvd.', ' Arvada', ' CO', ' US', '', '1200', '123', '1077', '2907', '1271', '1636', '163', '61', '78', '24'], ['', 'Homegrown Tap & Dough - Wash Park', '1001 S Gaylord St', ' Denver', ' Colorado', ' US', '', '725', '136', '589', '2044', '727', '1317', '137', '48', '67', '22'], ['', 'Park Burger Hilltop', '211 S Holly St', ' Denver', ' CO', ' US', '', '1117', '69', '1048', '2365', '1055', '1310', '109', '36', '54', '19'], ['', 'Park Burger RiNo', '2615 Walnut St', ' Denver', ' CO', ' US', '', '2716', '822', '1894', '5878', '2562', '3316', '465', '65', '378', '22'], ['', 'Birdcall', '800 East 26th Avenue', ' Denver', ' CO', ' US', '', '3428', '378', '3050', '9019', '3193', '5826', '448', '136', '294', '18'], ['', 'Park Burger Pearl', '1890 South Pearl Street', ' Denver', ' CO', ' US', '', '10188', '793', '9395', '29670', '10697', '18973', '1055', '243', '656', '156'], ['', 'Park Burger Highlands', '2643 West 32nd Avenue', ' Denver', ' Colorado', ' US', '', '8194', '323', '7871', '26115', '8328', '17787', '504', '170', '280', '54'], ['', 'Homegrown Tap & Dough', '5601 Olde Wadsworth Blvd.', ' Arvada', ' CO', ' US', '', '7632', '776', '6856', '22199', '8068', '14131', '902', '394', '413', '95'], ['', 'Homegrown Tap & Dough - Wash Park', '1001 S Gaylord St', ' Denver', ' Colorado', ' US', '', '4733', '1047', '3686', '20953', '5603', '15350', '1069', '333', '599', '137'], ['', 'Park Burger Hilltop', '211 S Holly St', ' Denver', ' CO', ' US', '', '5641', '386', '5255', '16234', '5987', '10247', '567', '162', '305', '100'], ['', 'Park Burger RiNo', '2615 Walnut St', ' Denver', ' CO', ' US', '', '10870', '919', '9951', '42354', '11910', '30444', '807', '191', '542', '74']]\n"
     ]
    }
   ],
   "source": [
    "rows = list()\n",
    "\n",
    "for document in range(len(files_in_directory)):\n",
    "    data = manual_parsing(files_in_directory[document], delim = '\\r', dtype=None)\n",
    "    for i in range(2,9):\n",
    "        expr = r\"[\\\"]\"\n",
    "        remove_quotes = re.sub(expr, '', data[i])\n",
    "        a_list = remove_quotes.split(',')\n",
    "        rows.append(a_list)\n",
    "\n",
    "print rows"
   ]
  },
  {
   "cell_type": "code",
   "execution_count": 111,
   "metadata": {
    "collapsed": false
   },
   "outputs": [
    {
     "data": {
      "text/plain": [
       "42"
      ]
     },
     "execution_count": 111,
     "metadata": {},
     "output_type": "execute_result"
    }
   ],
   "source": [
    "len(rows)/7"
   ]
  },
  {
   "cell_type": "code",
   "execution_count": 112,
   "metadata": {
    "collapsed": false
   },
   "outputs": [],
   "source": [
    "transverse = np.array(rows).T"
   ]
  },
  {
   "cell_type": "code",
   "execution_count": 113,
   "metadata": {
    "collapsed": true
   },
   "outputs": [],
   "source": [
    "matrix = dict(zip(names, transverse))"
   ]
  },
  {
   "cell_type": "code",
   "execution_count": 114,
   "metadata": {
    "collapsed": false
   },
   "outputs": [
    {
     "data": {
      "text/html": [
       "<div style=\"max-height:1000px;max-width:1500px;overflow:auto;\"><table frame=\"box\" rules=\"cols\">\n",
       "    <tr>\n",
       "        <th style=\"padding-left: 1em; padding-right: 1em; text-align: center\">Address</th>\n",
       "        <th style=\"padding-left: 1em; padding-right: 1em; text-align: center\">Business name</th>\n",
       "        <th style=\"padding-left: 1em; padding-right: 1em; text-align: center\">City</th>\n",
       "        <th style=\"padding-left: 1em; padding-right: 1em; text-align: center\">Country</th>\n",
       "        <th style=\"padding-left: 1em; padding-right: 1em; text-align: center\">Direct searches</th>\n",
       "        <th style=\"padding-left: 1em; padding-right: 1em; text-align: center\">Directions actions</th>\n",
       "        <th style=\"padding-left: 1em; padding-right: 1em; text-align: center\">Discovery searches</th>\n",
       "    </tr>\n",
       "    <tr>\n",
       "        <td style=\"padding-left: 1em; padding-right: 1em; text-align: center; vertical-align: top\">800 East 26th Avenue</td>\n",
       "        <td style=\"padding-left: 1em; padding-right: 1em; text-align: center; vertical-align: top\">Birdcall</td>\n",
       "        <td style=\"padding-left: 1em; padding-right: 1em; text-align: center; vertical-align: top\"> Denver</td>\n",
       "        <td style=\"padding-left: 1em; padding-right: 1em; text-align: center; vertical-align: top\"> US</td>\n",
       "        <td style=\"padding-left: 1em; padding-right: 1em; text-align: center; vertical-align: top\">1372</td>\n",
       "        <td style=\"padding-left: 1em; padding-right: 1em; text-align: center; vertical-align: top\">287</td>\n",
       "        <td style=\"padding-left: 1em; padding-right: 1em; text-align: center; vertical-align: top\">1376</td>\n",
       "    </tr>\n",
       "    <tr>\n",
       "        <td style=\"padding-left: 1em; padding-right: 1em; text-align: center; vertical-align: top\">1890 South Pearl Street</td>\n",
       "        <td style=\"padding-left: 1em; padding-right: 1em; text-align: center; vertical-align: top\">Park Burger Pearl</td>\n",
       "        <td style=\"padding-left: 1em; padding-right: 1em; text-align: center; vertical-align: top\"> Denver</td>\n",
       "        <td style=\"padding-left: 1em; padding-right: 1em; text-align: center; vertical-align: top\"> US</td>\n",
       "        <td style=\"padding-left: 1em; padding-right: 1em; text-align: center; vertical-align: top\">697</td>\n",
       "        <td style=\"padding-left: 1em; padding-right: 1em; text-align: center; vertical-align: top\">460</td>\n",
       "        <td style=\"padding-left: 1em; padding-right: 1em; text-align: center; vertical-align: top\">9542</td>\n",
       "    </tr>\n",
       "    <tr>\n",
       "        <td style=\"padding-left: 1em; padding-right: 1em; text-align: center; vertical-align: top\">2643 West 32nd Avenue</td>\n",
       "        <td style=\"padding-left: 1em; padding-right: 1em; text-align: center; vertical-align: top\">Park Burger Highlands</td>\n",
       "        <td style=\"padding-left: 1em; padding-right: 1em; text-align: center; vertical-align: top\"> Denver</td>\n",
       "        <td style=\"padding-left: 1em; padding-right: 1em; text-align: center; vertical-align: top\"> US</td>\n",
       "        <td style=\"padding-left: 1em; padding-right: 1em; text-align: center; vertical-align: top\">274</td>\n",
       "        <td style=\"padding-left: 1em; padding-right: 1em; text-align: center; vertical-align: top\">238</td>\n",
       "        <td style=\"padding-left: 1em; padding-right: 1em; text-align: center; vertical-align: top\">9271</td>\n",
       "    </tr>\n",
       "    <tr>\n",
       "        <td style=\"padding-left: 1em; padding-right: 1em; text-align: center; vertical-align: top\">5601 Olde Wadsworth Blvd.</td>\n",
       "        <td style=\"padding-left: 1em; padding-right: 1em; text-align: center; vertical-align: top\">Homegrown Tap &amp; Dough</td>\n",
       "        <td style=\"padding-left: 1em; padding-right: 1em; text-align: center; vertical-align: top\"> Arvada</td>\n",
       "        <td style=\"padding-left: 1em; padding-right: 1em; text-align: center; vertical-align: top\"> US</td>\n",
       "        <td style=\"padding-left: 1em; padding-right: 1em; text-align: center; vertical-align: top\">674</td>\n",
       "        <td style=\"padding-left: 1em; padding-right: 1em; text-align: center; vertical-align: top\">333</td>\n",
       "        <td style=\"padding-left: 1em; padding-right: 1em; text-align: center; vertical-align: top\">5571</td>\n",
       "    </tr>\n",
       "    <tr>\n",
       "        <td style=\"padding-left: 1em; padding-right: 1em; text-align: center; vertical-align: top\">1001 S Gaylord St</td>\n",
       "        <td style=\"padding-left: 1em; padding-right: 1em; text-align: center; vertical-align: top\">Homegrown Tap &amp; Dough -<br>Wash Park ...</td>\n",
       "        <td style=\"padding-left: 1em; padding-right: 1em; text-align: center; vertical-align: top\"> Denver</td>\n",
       "        <td style=\"padding-left: 1em; padding-right: 1em; text-align: center; vertical-align: top\"> US</td>\n",
       "        <td style=\"padding-left: 1em; padding-right: 1em; text-align: center; vertical-align: top\">940</td>\n",
       "        <td style=\"padding-left: 1em; padding-right: 1em; text-align: center; vertical-align: top\">357</td>\n",
       "        <td style=\"padding-left: 1em; padding-right: 1em; text-align: center; vertical-align: top\">2663</td>\n",
       "    </tr>\n",
       "    <tr>\n",
       "        <td style=\"padding-left: 1em; padding-right: 1em; text-align: center; vertical-align: top\">211 S Holly St</td>\n",
       "        <td style=\"padding-left: 1em; padding-right: 1em; text-align: center; vertical-align: top\">Park Burger Hilltop</td>\n",
       "        <td style=\"padding-left: 1em; padding-right: 1em; text-align: center; vertical-align: top\"> Denver</td>\n",
       "        <td style=\"padding-left: 1em; padding-right: 1em; text-align: center; vertical-align: top\"> US</td>\n",
       "        <td style=\"padding-left: 1em; padding-right: 1em; text-align: center; vertical-align: top\">318</td>\n",
       "        <td style=\"padding-left: 1em; padding-right: 1em; text-align: center; vertical-align: top\">266</td>\n",
       "        <td style=\"padding-left: 1em; padding-right: 1em; text-align: center; vertical-align: top\">6493</td>\n",
       "    </tr>\n",
       "    <tr>\n",
       "        <td style=\"padding-left: 1em; padding-right: 1em; text-align: center; vertical-align: top\">2615 Walnut St</td>\n",
       "        <td style=\"padding-left: 1em; padding-right: 1em; text-align: center; vertical-align: top\">Park Burger RiNo</td>\n",
       "        <td style=\"padding-left: 1em; padding-right: 1em; text-align: center; vertical-align: top\"> Denver</td>\n",
       "        <td style=\"padding-left: 1em; padding-right: 1em; text-align: center; vertical-align: top\"> US</td>\n",
       "        <td style=\"padding-left: 1em; padding-right: 1em; text-align: center; vertical-align: top\">688</td>\n",
       "        <td style=\"padding-left: 1em; padding-right: 1em; text-align: center; vertical-align: top\">486</td>\n",
       "        <td style=\"padding-left: 1em; padding-right: 1em; text-align: center; vertical-align: top\">10777</td>\n",
       "    </tr>\n",
       "    <tr>\n",
       "        <td style=\"padding-left: 1em; padding-right: 1em; text-align: center; vertical-align: top\">800 East 26th Avenue</td>\n",
       "        <td style=\"padding-left: 1em; padding-right: 1em; text-align: center; vertical-align: top\">Birdcall</td>\n",
       "        <td style=\"padding-left: 1em; padding-right: 1em; text-align: center; vertical-align: top\"> Denver</td>\n",
       "        <td style=\"padding-left: 1em; padding-right: 1em; text-align: center; vertical-align: top\"> US</td>\n",
       "        <td style=\"padding-left: 1em; padding-right: 1em; text-align: center; vertical-align: top\">1300</td>\n",
       "        <td style=\"padding-left: 1em; padding-right: 1em; text-align: center; vertical-align: top\">267</td>\n",
       "        <td style=\"padding-left: 1em; padding-right: 1em; text-align: center; vertical-align: top\">1519</td>\n",
       "    </tr>\n",
       "    <tr>\n",
       "        <td style=\"padding-left: 1em; padding-right: 1em; text-align: center; vertical-align: top\">1890 South Pearl Street</td>\n",
       "        <td style=\"padding-left: 1em; padding-right: 1em; text-align: center; vertical-align: top\">Park Burger Pearl</td>\n",
       "        <td style=\"padding-left: 1em; padding-right: 1em; text-align: center; vertical-align: top\"> Denver</td>\n",
       "        <td style=\"padding-left: 1em; padding-right: 1em; text-align: center; vertical-align: top\"> US</td>\n",
       "        <td style=\"padding-left: 1em; padding-right: 1em; text-align: center; vertical-align: top\">688</td>\n",
       "        <td style=\"padding-left: 1em; padding-right: 1em; text-align: center; vertical-align: top\">437</td>\n",
       "        <td style=\"padding-left: 1em; padding-right: 1em; text-align: center; vertical-align: top\">9173</td>\n",
       "    </tr>\n",
       "    <tr>\n",
       "        <td style=\"padding-left: 1em; padding-right: 1em; text-align: center; vertical-align: top\">2643 West 32nd Avenue</td>\n",
       "        <td style=\"padding-left: 1em; padding-right: 1em; text-align: center; vertical-align: top\">Park Burger Highlands</td>\n",
       "        <td style=\"padding-left: 1em; padding-right: 1em; text-align: center; vertical-align: top\"> Denver</td>\n",
       "        <td style=\"padding-left: 1em; padding-right: 1em; text-align: center; vertical-align: top\"> US</td>\n",
       "        <td style=\"padding-left: 1em; padding-right: 1em; text-align: center; vertical-align: top\">275</td>\n",
       "        <td style=\"padding-left: 1em; padding-right: 1em; text-align: center; vertical-align: top\">214</td>\n",
       "        <td style=\"padding-left: 1em; padding-right: 1em; text-align: center; vertical-align: top\">8512</td>\n",
       "    </tr>\n",
       "</table>\n",
       "<table frame=\"box\" rules=\"cols\">\n",
       "    <tr>\n",
       "        <th style=\"padding-left: 1em; padding-right: 1em; text-align: center\">Labels</th>\n",
       "        <th style=\"padding-left: 1em; padding-right: 1em; text-align: center\">Maps views</th>\n",
       "        <th style=\"padding-left: 1em; padding-right: 1em; text-align: center\">Phone call actions</th>\n",
       "        <th style=\"padding-left: 1em; padding-right: 1em; text-align: center\">Search views</th>\n",
       "        <th style=\"padding-left: 1em; padding-right: 1em; text-align: center\">State</th>\n",
       "        <th style=\"padding-left: 1em; padding-right: 1em; text-align: center\">Store code</th>\n",
       "        <th style=\"padding-left: 1em; padding-right: 1em; text-align: center\">Total actions</th>\n",
       "        <th style=\"padding-left: 1em; padding-right: 1em; text-align: center\">Total searches</th>\n",
       "    </tr>\n",
       "    <tr>\n",
       "        <td style=\"padding-left: 1em; padding-right: 1em; text-align: center; vertical-align: top\"></td>\n",
       "        <td style=\"padding-left: 1em; padding-right: 1em; text-align: center; vertical-align: top\">4061</td>\n",
       "        <td style=\"padding-left: 1em; padding-right: 1em; text-align: center; vertical-align: top\">14</td>\n",
       "        <td style=\"padding-left: 1em; padding-right: 1em; text-align: center; vertical-align: top\">2857</td>\n",
       "        <td style=\"padding-left: 1em; padding-right: 1em; text-align: center; vertical-align: top\"> CO</td>\n",
       "        <td style=\"padding-left: 1em; padding-right: 1em; text-align: center; vertical-align: top\"></td>\n",
       "        <td style=\"padding-left: 1em; padding-right: 1em; text-align: center; vertical-align: top\">618</td>\n",
       "        <td style=\"padding-left: 1em; padding-right: 1em; text-align: center; vertical-align: top\">2748</td>\n",
       "    </tr>\n",
       "    <tr>\n",
       "        <td style=\"padding-left: 1em; padding-right: 1em; text-align: center; vertical-align: top\"></td>\n",
       "        <td style=\"padding-left: 1em; padding-right: 1em; text-align: center; vertical-align: top\">16675</td>\n",
       "        <td style=\"padding-left: 1em; padding-right: 1em; text-align: center; vertical-align: top\">117</td>\n",
       "        <td style=\"padding-left: 1em; padding-right: 1em; text-align: center; vertical-align: top\">10277</td>\n",
       "        <td style=\"padding-left: 1em; padding-right: 1em; text-align: center; vertical-align: top\"> CO</td>\n",
       "        <td style=\"padding-left: 1em; padding-right: 1em; text-align: center; vertical-align: top\"></td>\n",
       "        <td style=\"padding-left: 1em; padding-right: 1em; text-align: center; vertical-align: top\">698</td>\n",
       "        <td style=\"padding-left: 1em; padding-right: 1em; text-align: center; vertical-align: top\">10239</td>\n",
       "    </tr>\n",
       "    <tr>\n",
       "        <td style=\"padding-left: 1em; padding-right: 1em; text-align: center; vertical-align: top\"></td>\n",
       "        <td style=\"padding-left: 1em; padding-right: 1em; text-align: center; vertical-align: top\">10124</td>\n",
       "        <td style=\"padding-left: 1em; padding-right: 1em; text-align: center; vertical-align: top\">71</td>\n",
       "        <td style=\"padding-left: 1em; padding-right: 1em; text-align: center; vertical-align: top\">8888</td>\n",
       "        <td style=\"padding-left: 1em; padding-right: 1em; text-align: center; vertical-align: top\"> Colorado</td>\n",
       "        <td style=\"padding-left: 1em; padding-right: 1em; text-align: center; vertical-align: top\"></td>\n",
       "        <td style=\"padding-left: 1em; padding-right: 1em; text-align: center; vertical-align: top\">378</td>\n",
       "        <td style=\"padding-left: 1em; padding-right: 1em; text-align: center; vertical-align: top\">9545</td>\n",
       "    </tr>\n",
       "    <tr>\n",
       "        <td style=\"padding-left: 1em; padding-right: 1em; text-align: center; vertical-align: top\"></td>\n",
       "        <td style=\"padding-left: 1em; padding-right: 1em; text-align: center; vertical-align: top\">9586</td>\n",
       "        <td style=\"padding-left: 1em; padding-right: 1em; text-align: center; vertical-align: top\">74</td>\n",
       "        <td style=\"padding-left: 1em; padding-right: 1em; text-align: center; vertical-align: top\">7026</td>\n",
       "        <td style=\"padding-left: 1em; padding-right: 1em; text-align: center; vertical-align: top\"> CO</td>\n",
       "        <td style=\"padding-left: 1em; padding-right: 1em; text-align: center; vertical-align: top\"></td>\n",
       "        <td style=\"padding-left: 1em; padding-right: 1em; text-align: center; vertical-align: top\">621</td>\n",
       "        <td style=\"padding-left: 1em; padding-right: 1em; text-align: center; vertical-align: top\">6245</td>\n",
       "    </tr>\n",
       "    <tr>\n",
       "        <td style=\"padding-left: 1em; padding-right: 1em; text-align: center; vertical-align: top\"></td>\n",
       "        <td style=\"padding-left: 1em; padding-right: 1em; text-align: center; vertical-align: top\">11679</td>\n",
       "        <td style=\"padding-left: 1em; padding-right: 1em; text-align: center; vertical-align: top\">78</td>\n",
       "        <td style=\"padding-left: 1em; padding-right: 1em; text-align: center; vertical-align: top\">4292</td>\n",
       "        <td style=\"padding-left: 1em; padding-right: 1em; text-align: center; vertical-align: top\"> Colorado</td>\n",
       "        <td style=\"padding-left: 1em; padding-right: 1em; text-align: center; vertical-align: top\"></td>\n",
       "        <td style=\"padding-left: 1em; padding-right: 1em; text-align: center; vertical-align: top\">629</td>\n",
       "        <td style=\"padding-left: 1em; padding-right: 1em; text-align: center; vertical-align: top\">3603</td>\n",
       "    </tr>\n",
       "    <tr>\n",
       "        <td style=\"padding-left: 1em; padding-right: 1em; text-align: center; vertical-align: top\"></td>\n",
       "        <td style=\"padding-left: 1em; padding-right: 1em; text-align: center; vertical-align: top\">8907</td>\n",
       "        <td style=\"padding-left: 1em; padding-right: 1em; text-align: center; vertical-align: top\">87</td>\n",
       "        <td style=\"padding-left: 1em; padding-right: 1em; text-align: center; vertical-align: top\">6643</td>\n",
       "        <td style=\"padding-left: 1em; padding-right: 1em; text-align: center; vertical-align: top\"> CO</td>\n",
       "        <td style=\"padding-left: 1em; padding-right: 1em; text-align: center; vertical-align: top\"></td>\n",
       "        <td style=\"padding-left: 1em; padding-right: 1em; text-align: center; vertical-align: top\">446</td>\n",
       "        <td style=\"padding-left: 1em; padding-right: 1em; text-align: center; vertical-align: top\">6811</td>\n",
       "    </tr>\n",
       "    <tr>\n",
       "        <td style=\"padding-left: 1em; padding-right: 1em; text-align: center; vertical-align: top\"></td>\n",
       "        <td style=\"padding-left: 1em; padding-right: 1em; text-align: center; vertical-align: top\">24734</td>\n",
       "        <td style=\"padding-left: 1em; padding-right: 1em; text-align: center; vertical-align: top\">66</td>\n",
       "        <td style=\"padding-left: 1em; padding-right: 1em; text-align: center; vertical-align: top\">11105</td>\n",
       "        <td style=\"padding-left: 1em; padding-right: 1em; text-align: center; vertical-align: top\"> CO</td>\n",
       "        <td style=\"padding-left: 1em; padding-right: 1em; text-align: center; vertical-align: top\"></td>\n",
       "        <td style=\"padding-left: 1em; padding-right: 1em; text-align: center; vertical-align: top\">668</td>\n",
       "        <td style=\"padding-left: 1em; padding-right: 1em; text-align: center; vertical-align: top\">11465</td>\n",
       "    </tr>\n",
       "    <tr>\n",
       "        <td style=\"padding-left: 1em; padding-right: 1em; text-align: center; vertical-align: top\"></td>\n",
       "        <td style=\"padding-left: 1em; padding-right: 1em; text-align: center; vertical-align: top\">3818</td>\n",
       "        <td style=\"padding-left: 1em; padding-right: 1em; text-align: center; vertical-align: top\">11</td>\n",
       "        <td style=\"padding-left: 1em; padding-right: 1em; text-align: center; vertical-align: top\">2571</td>\n",
       "        <td style=\"padding-left: 1em; padding-right: 1em; text-align: center; vertical-align: top\"> CO</td>\n",
       "        <td style=\"padding-left: 1em; padding-right: 1em; text-align: center; vertical-align: top\"></td>\n",
       "        <td style=\"padding-left: 1em; padding-right: 1em; text-align: center; vertical-align: top\">573</td>\n",
       "        <td style=\"padding-left: 1em; padding-right: 1em; text-align: center; vertical-align: top\">2819</td>\n",
       "    </tr>\n",
       "    <tr>\n",
       "        <td style=\"padding-left: 1em; padding-right: 1em; text-align: center; vertical-align: top\"></td>\n",
       "        <td style=\"padding-left: 1em; padding-right: 1em; text-align: center; vertical-align: top\">15811</td>\n",
       "        <td style=\"padding-left: 1em; padding-right: 1em; text-align: center; vertical-align: top\">69</td>\n",
       "        <td style=\"padding-left: 1em; padding-right: 1em; text-align: center; vertical-align: top\">9163</td>\n",
       "        <td style=\"padding-left: 1em; padding-right: 1em; text-align: center; vertical-align: top\"> CO</td>\n",
       "        <td style=\"padding-left: 1em; padding-right: 1em; text-align: center; vertical-align: top\"></td>\n",
       "        <td style=\"padding-left: 1em; padding-right: 1em; text-align: center; vertical-align: top\">614</td>\n",
       "        <td style=\"padding-left: 1em; padding-right: 1em; text-align: center; vertical-align: top\">9861</td>\n",
       "    </tr>\n",
       "    <tr>\n",
       "        <td style=\"padding-left: 1em; padding-right: 1em; text-align: center; vertical-align: top\"></td>\n",
       "        <td style=\"padding-left: 1em; padding-right: 1em; text-align: center; vertical-align: top\">9276</td>\n",
       "        <td style=\"padding-left: 1em; padding-right: 1em; text-align: center; vertical-align: top\">62</td>\n",
       "        <td style=\"padding-left: 1em; padding-right: 1em; text-align: center; vertical-align: top\">7789</td>\n",
       "        <td style=\"padding-left: 1em; padding-right: 1em; text-align: center; vertical-align: top\"> Colorado</td>\n",
       "        <td style=\"padding-left: 1em; padding-right: 1em; text-align: center; vertical-align: top\"></td>\n",
       "        <td style=\"padding-left: 1em; padding-right: 1em; text-align: center; vertical-align: top\">374</td>\n",
       "        <td style=\"padding-left: 1em; padding-right: 1em; text-align: center; vertical-align: top\">8787</td>\n",
       "    </tr>\n",
       "</table>\n",
       "<table frame=\"box\" rules=\"cols\">\n",
       "    <tr>\n",
       "        <th style=\"padding-left: 1em; padding-right: 1em; text-align: center\">Total views</th>\n",
       "        <th style=\"padding-left: 1em; padding-right: 1em; text-align: center\">Website actions</th>\n",
       "    </tr>\n",
       "    <tr>\n",
       "        <td style=\"padding-left: 1em; padding-right: 1em; text-align: center; vertical-align: top\">6918</td>\n",
       "        <td style=\"padding-left: 1em; padding-right: 1em; text-align: center; vertical-align: top\">317</td>\n",
       "    </tr>\n",
       "    <tr>\n",
       "        <td style=\"padding-left: 1em; padding-right: 1em; text-align: center; vertical-align: top\">26952</td>\n",
       "        <td style=\"padding-left: 1em; padding-right: 1em; text-align: center; vertical-align: top\">121</td>\n",
       "    </tr>\n",
       "    <tr>\n",
       "        <td style=\"padding-left: 1em; padding-right: 1em; text-align: center; vertical-align: top\">19012</td>\n",
       "        <td style=\"padding-left: 1em; padding-right: 1em; text-align: center; vertical-align: top\">69</td>\n",
       "    </tr>\n",
       "    <tr>\n",
       "        <td style=\"padding-left: 1em; padding-right: 1em; text-align: center; vertical-align: top\">16612</td>\n",
       "        <td style=\"padding-left: 1em; padding-right: 1em; text-align: center; vertical-align: top\">214</td>\n",
       "    </tr>\n",
       "    <tr>\n",
       "        <td style=\"padding-left: 1em; padding-right: 1em; text-align: center; vertical-align: top\">15971</td>\n",
       "        <td style=\"padding-left: 1em; padding-right: 1em; text-align: center; vertical-align: top\">194</td>\n",
       "    </tr>\n",
       "    <tr>\n",
       "        <td style=\"padding-left: 1em; padding-right: 1em; text-align: center; vertical-align: top\">15550</td>\n",
       "        <td style=\"padding-left: 1em; padding-right: 1em; text-align: center; vertical-align: top\">93</td>\n",
       "    </tr>\n",
       "    <tr>\n",
       "        <td style=\"padding-left: 1em; padding-right: 1em; text-align: center; vertical-align: top\">35839</td>\n",
       "        <td style=\"padding-left: 1em; padding-right: 1em; text-align: center; vertical-align: top\">116</td>\n",
       "    </tr>\n",
       "    <tr>\n",
       "        <td style=\"padding-left: 1em; padding-right: 1em; text-align: center; vertical-align: top\">6389</td>\n",
       "        <td style=\"padding-left: 1em; padding-right: 1em; text-align: center; vertical-align: top\">295</td>\n",
       "    </tr>\n",
       "    <tr>\n",
       "        <td style=\"padding-left: 1em; padding-right: 1em; text-align: center; vertical-align: top\">24974</td>\n",
       "        <td style=\"padding-left: 1em; padding-right: 1em; text-align: center; vertical-align: top\">108</td>\n",
       "    </tr>\n",
       "    <tr>\n",
       "        <td style=\"padding-left: 1em; padding-right: 1em; text-align: center; vertical-align: top\">17065</td>\n",
       "        <td style=\"padding-left: 1em; padding-right: 1em; text-align: center; vertical-align: top\">98</td>\n",
       "    </tr>\n",
       "</table>\n",
       "[294 rows x 17 columns]<br/>Note: Only the head of the SFrame is printed.<br/>You can use print_rows(num_rows=m, num_columns=n) to print more rows and columns.\n",
       "</div>"
      ],
      "text/plain": [
       "Columns:\n",
       "\tAddress\tstr\n",
       "\tBusiness name\tstr\n",
       "\tCity\tstr\n",
       "\tCountry\tstr\n",
       "\tDirect searches\tstr\n",
       "\tDirections actions\tstr\n",
       "\tDiscovery searches\tstr\n",
       "\tLabels\tstr\n",
       "\tMaps views\tstr\n",
       "\tPhone call actions\tstr\n",
       "\tSearch views\tstr\n",
       "\tState\tstr\n",
       "\tStore code\tstr\n",
       "\tTotal actions\tstr\n",
       "\tTotal searches\tstr\n",
       "\tTotal views\tstr\n",
       "\tWebsite actions\tstr\n",
       "\n",
       "Rows: 294\n",
       "\n",
       "Data:\n",
       "+---------------------------+-------------------------------+---------+---------+\n",
       "|          Address          |         Business name         |   City  | Country |\n",
       "+---------------------------+-------------------------------+---------+---------+\n",
       "|    800 East 26th Avenue   |            Birdcall           |  Denver |    US   |\n",
       "|  1890 South Pearl Street  |       Park Burger Pearl       |  Denver |    US   |\n",
       "|   2643 West 32nd Avenue   |     Park Burger Highlands     |  Denver |    US   |\n",
       "| 5601 Olde Wadsworth Blvd. |     Homegrown Tap & Dough     |  Arvada |    US   |\n",
       "|     1001 S Gaylord St     | Homegrown Tap & Dough - Wa... |  Denver |    US   |\n",
       "|       211 S Holly St      |      Park Burger Hilltop      |  Denver |    US   |\n",
       "|       2615 Walnut St      |        Park Burger RiNo       |  Denver |    US   |\n",
       "|    800 East 26th Avenue   |            Birdcall           |  Denver |    US   |\n",
       "|  1890 South Pearl Street  |       Park Burger Pearl       |  Denver |    US   |\n",
       "|   2643 West 32nd Avenue   |     Park Burger Highlands     |  Denver |    US   |\n",
       "+---------------------------+-------------------------------+---------+---------+\n",
       "+-----------------+--------------------+--------------------+--------+------------+\n",
       "| Direct searches | Directions actions | Discovery searches | Labels | Maps views |\n",
       "+-----------------+--------------------+--------------------+--------+------------+\n",
       "|       1372      |        287         |        1376        |        |    4061    |\n",
       "|       697       |        460         |        9542        |        |   16675    |\n",
       "|       274       |        238         |        9271        |        |   10124    |\n",
       "|       674       |        333         |        5571        |        |    9586    |\n",
       "|       940       |        357         |        2663        |        |   11679    |\n",
       "|       318       |        266         |        6493        |        |    8907    |\n",
       "|       688       |        486         |       10777        |        |   24734    |\n",
       "|       1300      |        267         |        1519        |        |    3818    |\n",
       "|       688       |        437         |        9173        |        |   15811    |\n",
       "|       275       |        214         |        8512        |        |    9276    |\n",
       "+-----------------+--------------------+--------------------+--------+------------+\n",
       "+--------------------+--------------+-----------+------------+---------------+\n",
       "| Phone call actions | Search views |   State   | Store code | Total actions |\n",
       "+--------------------+--------------+-----------+------------+---------------+\n",
       "|         14         |     2857     |     CO    |            |      618      |\n",
       "|        117         |    10277     |     CO    |            |      698      |\n",
       "|         71         |     8888     |  Colorado |            |      378      |\n",
       "|         74         |     7026     |     CO    |            |      621      |\n",
       "|         78         |     4292     |  Colorado |            |      629      |\n",
       "|         87         |     6643     |     CO    |            |      446      |\n",
       "|         66         |    11105     |     CO    |            |      668      |\n",
       "|         11         |     2571     |     CO    |            |      573      |\n",
       "|         69         |     9163     |     CO    |            |      614      |\n",
       "|         62         |     7789     |  Colorado |            |      374      |\n",
       "+--------------------+--------------+-----------+------------+---------------+\n",
       "+----------------+-------------+-----------------+\n",
       "| Total searches | Total views | Website actions |\n",
       "+----------------+-------------+-----------------+\n",
       "|      2748      |     6918    |       317       |\n",
       "|     10239      |    26952    |       121       |\n",
       "|      9545      |    19012    |        69       |\n",
       "|      6245      |    16612    |       214       |\n",
       "|      3603      |    15971    |       194       |\n",
       "|      6811      |    15550    |        93       |\n",
       "|     11465      |    35839    |       116       |\n",
       "|      2819      |     6389    |       295       |\n",
       "|      9861      |    24974    |       108       |\n",
       "|      8787      |    17065    |        98       |\n",
       "+----------------+-------------+-----------------+\n",
       "[294 rows x 17 columns]\n",
       "Note: Only the head of the SFrame is printed.\n",
       "You can use print_rows(num_rows=m, num_columns=n) to print more rows and columns."
      ]
     },
     "execution_count": 114,
     "metadata": {},
     "output_type": "execute_result"
    }
   ],
   "source": [
    "sframe = gl.SFrame(matrix)\n",
    "sframe"
   ]
  },
  {
   "cell_type": "code",
   "execution_count": 115,
   "metadata": {
    "collapsed": false
   },
   "outputs": [
    {
     "data": {
      "text/plain": [
       "'GMB insights (Discovery Report) - Heidi Guenther - 2017-10-16 - 2017-10-22.csv'"
      ]
     },
     "execution_count": 115,
     "metadata": {},
     "output_type": "execute_result"
    }
   ],
   "source": [
    "files_in_directory[0]"
   ]
  },
  {
   "cell_type": "code",
   "execution_count": 116,
   "metadata": {
    "collapsed": false
   },
   "outputs": [
    {
     "data": {
      "text/plain": [
       "294"
      ]
     },
     "execution_count": 116,
     "metadata": {},
     "output_type": "execute_result"
    }
   ],
   "source": [
    "len(rows)"
   ]
  },
  {
   "cell_type": "code",
   "execution_count": 117,
   "metadata": {
    "collapsed": false
   },
   "outputs": [
    {
     "data": {
      "text/plain": [
       "294"
      ]
     },
     "execution_count": 117,
     "metadata": {},
     "output_type": "execute_result"
    }
   ],
   "source": [
    "week_code = []\n",
    "for i in range(1, len(rows)/7+1):\n",
    "    week_code.extend([i]*7)\n",
    "len(week_code)"
   ]
  },
  {
   "cell_type": "code",
   "execution_count": 118,
   "metadata": {
    "collapsed": false
   },
   "outputs": [],
   "source": [
    "sframe['Week'] = week_code"
   ]
  },
  {
   "cell_type": "code",
   "execution_count": 119,
   "metadata": {
    "collapsed": false
   },
   "outputs": [
    {
     "data": {
      "text/html": [
       "<div style=\"max-height:1000px;max-width:1500px;overflow:auto;\"><table frame=\"box\" rules=\"cols\">\n",
       "    <tr>\n",
       "        <th style=\"padding-left: 1em; padding-right: 1em; text-align: center\">Address</th>\n",
       "        <th style=\"padding-left: 1em; padding-right: 1em; text-align: center\">Business name</th>\n",
       "        <th style=\"padding-left: 1em; padding-right: 1em; text-align: center\">City</th>\n",
       "        <th style=\"padding-left: 1em; padding-right: 1em; text-align: center\">Country</th>\n",
       "        <th style=\"padding-left: 1em; padding-right: 1em; text-align: center\">Direct searches</th>\n",
       "        <th style=\"padding-left: 1em; padding-right: 1em; text-align: center\">Directions actions</th>\n",
       "        <th style=\"padding-left: 1em; padding-right: 1em; text-align: center\">Discovery searches</th>\n",
       "    </tr>\n",
       "    <tr>\n",
       "        <td style=\"padding-left: 1em; padding-right: 1em; text-align: center; vertical-align: top\">800 East 26th Avenue</td>\n",
       "        <td style=\"padding-left: 1em; padding-right: 1em; text-align: center; vertical-align: top\">Birdcall</td>\n",
       "        <td style=\"padding-left: 1em; padding-right: 1em; text-align: center; vertical-align: top\"> Denver</td>\n",
       "        <td style=\"padding-left: 1em; padding-right: 1em; text-align: center; vertical-align: top\"> US</td>\n",
       "        <td style=\"padding-left: 1em; padding-right: 1em; text-align: center; vertical-align: top\">1372</td>\n",
       "        <td style=\"padding-left: 1em; padding-right: 1em; text-align: center; vertical-align: top\">287</td>\n",
       "        <td style=\"padding-left: 1em; padding-right: 1em; text-align: center; vertical-align: top\">1376</td>\n",
       "    </tr>\n",
       "    <tr>\n",
       "        <td style=\"padding-left: 1em; padding-right: 1em; text-align: center; vertical-align: top\">1890 South Pearl Street</td>\n",
       "        <td style=\"padding-left: 1em; padding-right: 1em; text-align: center; vertical-align: top\">Park Burger Pearl</td>\n",
       "        <td style=\"padding-left: 1em; padding-right: 1em; text-align: center; vertical-align: top\"> Denver</td>\n",
       "        <td style=\"padding-left: 1em; padding-right: 1em; text-align: center; vertical-align: top\"> US</td>\n",
       "        <td style=\"padding-left: 1em; padding-right: 1em; text-align: center; vertical-align: top\">697</td>\n",
       "        <td style=\"padding-left: 1em; padding-right: 1em; text-align: center; vertical-align: top\">460</td>\n",
       "        <td style=\"padding-left: 1em; padding-right: 1em; text-align: center; vertical-align: top\">9542</td>\n",
       "    </tr>\n",
       "    <tr>\n",
       "        <td style=\"padding-left: 1em; padding-right: 1em; text-align: center; vertical-align: top\">2643 West 32nd Avenue</td>\n",
       "        <td style=\"padding-left: 1em; padding-right: 1em; text-align: center; vertical-align: top\">Park Burger Highlands</td>\n",
       "        <td style=\"padding-left: 1em; padding-right: 1em; text-align: center; vertical-align: top\"> Denver</td>\n",
       "        <td style=\"padding-left: 1em; padding-right: 1em; text-align: center; vertical-align: top\"> US</td>\n",
       "        <td style=\"padding-left: 1em; padding-right: 1em; text-align: center; vertical-align: top\">274</td>\n",
       "        <td style=\"padding-left: 1em; padding-right: 1em; text-align: center; vertical-align: top\">238</td>\n",
       "        <td style=\"padding-left: 1em; padding-right: 1em; text-align: center; vertical-align: top\">9271</td>\n",
       "    </tr>\n",
       "    <tr>\n",
       "        <td style=\"padding-left: 1em; padding-right: 1em; text-align: center; vertical-align: top\">5601 Olde Wadsworth Blvd.</td>\n",
       "        <td style=\"padding-left: 1em; padding-right: 1em; text-align: center; vertical-align: top\">Homegrown Tap &amp; Dough</td>\n",
       "        <td style=\"padding-left: 1em; padding-right: 1em; text-align: center; vertical-align: top\"> Arvada</td>\n",
       "        <td style=\"padding-left: 1em; padding-right: 1em; text-align: center; vertical-align: top\"> US</td>\n",
       "        <td style=\"padding-left: 1em; padding-right: 1em; text-align: center; vertical-align: top\">674</td>\n",
       "        <td style=\"padding-left: 1em; padding-right: 1em; text-align: center; vertical-align: top\">333</td>\n",
       "        <td style=\"padding-left: 1em; padding-right: 1em; text-align: center; vertical-align: top\">5571</td>\n",
       "    </tr>\n",
       "    <tr>\n",
       "        <td style=\"padding-left: 1em; padding-right: 1em; text-align: center; vertical-align: top\">1001 S Gaylord St</td>\n",
       "        <td style=\"padding-left: 1em; padding-right: 1em; text-align: center; vertical-align: top\">Homegrown Tap &amp; Dough -<br>Wash Park ...</td>\n",
       "        <td style=\"padding-left: 1em; padding-right: 1em; text-align: center; vertical-align: top\"> Denver</td>\n",
       "        <td style=\"padding-left: 1em; padding-right: 1em; text-align: center; vertical-align: top\"> US</td>\n",
       "        <td style=\"padding-left: 1em; padding-right: 1em; text-align: center; vertical-align: top\">940</td>\n",
       "        <td style=\"padding-left: 1em; padding-right: 1em; text-align: center; vertical-align: top\">357</td>\n",
       "        <td style=\"padding-left: 1em; padding-right: 1em; text-align: center; vertical-align: top\">2663</td>\n",
       "    </tr>\n",
       "    <tr>\n",
       "        <td style=\"padding-left: 1em; padding-right: 1em; text-align: center; vertical-align: top\">211 S Holly St</td>\n",
       "        <td style=\"padding-left: 1em; padding-right: 1em; text-align: center; vertical-align: top\">Park Burger Hilltop</td>\n",
       "        <td style=\"padding-left: 1em; padding-right: 1em; text-align: center; vertical-align: top\"> Denver</td>\n",
       "        <td style=\"padding-left: 1em; padding-right: 1em; text-align: center; vertical-align: top\"> US</td>\n",
       "        <td style=\"padding-left: 1em; padding-right: 1em; text-align: center; vertical-align: top\">318</td>\n",
       "        <td style=\"padding-left: 1em; padding-right: 1em; text-align: center; vertical-align: top\">266</td>\n",
       "        <td style=\"padding-left: 1em; padding-right: 1em; text-align: center; vertical-align: top\">6493</td>\n",
       "    </tr>\n",
       "    <tr>\n",
       "        <td style=\"padding-left: 1em; padding-right: 1em; text-align: center; vertical-align: top\">2615 Walnut St</td>\n",
       "        <td style=\"padding-left: 1em; padding-right: 1em; text-align: center; vertical-align: top\">Park Burger RiNo</td>\n",
       "        <td style=\"padding-left: 1em; padding-right: 1em; text-align: center; vertical-align: top\"> Denver</td>\n",
       "        <td style=\"padding-left: 1em; padding-right: 1em; text-align: center; vertical-align: top\"> US</td>\n",
       "        <td style=\"padding-left: 1em; padding-right: 1em; text-align: center; vertical-align: top\">688</td>\n",
       "        <td style=\"padding-left: 1em; padding-right: 1em; text-align: center; vertical-align: top\">486</td>\n",
       "        <td style=\"padding-left: 1em; padding-right: 1em; text-align: center; vertical-align: top\">10777</td>\n",
       "    </tr>\n",
       "    <tr>\n",
       "        <td style=\"padding-left: 1em; padding-right: 1em; text-align: center; vertical-align: top\">800 East 26th Avenue</td>\n",
       "        <td style=\"padding-left: 1em; padding-right: 1em; text-align: center; vertical-align: top\">Birdcall</td>\n",
       "        <td style=\"padding-left: 1em; padding-right: 1em; text-align: center; vertical-align: top\"> Denver</td>\n",
       "        <td style=\"padding-left: 1em; padding-right: 1em; text-align: center; vertical-align: top\"> US</td>\n",
       "        <td style=\"padding-left: 1em; padding-right: 1em; text-align: center; vertical-align: top\">1300</td>\n",
       "        <td style=\"padding-left: 1em; padding-right: 1em; text-align: center; vertical-align: top\">267</td>\n",
       "        <td style=\"padding-left: 1em; padding-right: 1em; text-align: center; vertical-align: top\">1519</td>\n",
       "    </tr>\n",
       "    <tr>\n",
       "        <td style=\"padding-left: 1em; padding-right: 1em; text-align: center; vertical-align: top\">1890 South Pearl Street</td>\n",
       "        <td style=\"padding-left: 1em; padding-right: 1em; text-align: center; vertical-align: top\">Park Burger Pearl</td>\n",
       "        <td style=\"padding-left: 1em; padding-right: 1em; text-align: center; vertical-align: top\"> Denver</td>\n",
       "        <td style=\"padding-left: 1em; padding-right: 1em; text-align: center; vertical-align: top\"> US</td>\n",
       "        <td style=\"padding-left: 1em; padding-right: 1em; text-align: center; vertical-align: top\">688</td>\n",
       "        <td style=\"padding-left: 1em; padding-right: 1em; text-align: center; vertical-align: top\">437</td>\n",
       "        <td style=\"padding-left: 1em; padding-right: 1em; text-align: center; vertical-align: top\">9173</td>\n",
       "    </tr>\n",
       "    <tr>\n",
       "        <td style=\"padding-left: 1em; padding-right: 1em; text-align: center; vertical-align: top\">2643 West 32nd Avenue</td>\n",
       "        <td style=\"padding-left: 1em; padding-right: 1em; text-align: center; vertical-align: top\">Park Burger Highlands</td>\n",
       "        <td style=\"padding-left: 1em; padding-right: 1em; text-align: center; vertical-align: top\"> Denver</td>\n",
       "        <td style=\"padding-left: 1em; padding-right: 1em; text-align: center; vertical-align: top\"> US</td>\n",
       "        <td style=\"padding-left: 1em; padding-right: 1em; text-align: center; vertical-align: top\">275</td>\n",
       "        <td style=\"padding-left: 1em; padding-right: 1em; text-align: center; vertical-align: top\">214</td>\n",
       "        <td style=\"padding-left: 1em; padding-right: 1em; text-align: center; vertical-align: top\">8512</td>\n",
       "    </tr>\n",
       "</table>\n",
       "<table frame=\"box\" rules=\"cols\">\n",
       "    <tr>\n",
       "        <th style=\"padding-left: 1em; padding-right: 1em; text-align: center\">Maps views</th>\n",
       "        <th style=\"padding-left: 1em; padding-right: 1em; text-align: center\">Phone call actions</th>\n",
       "        <th style=\"padding-left: 1em; padding-right: 1em; text-align: center\">Search views</th>\n",
       "        <th style=\"padding-left: 1em; padding-right: 1em; text-align: center\">State</th>\n",
       "        <th style=\"padding-left: 1em; padding-right: 1em; text-align: center\">Total actions</th>\n",
       "        <th style=\"padding-left: 1em; padding-right: 1em; text-align: center\">Total searches</th>\n",
       "        <th style=\"padding-left: 1em; padding-right: 1em; text-align: center\">Total views</th>\n",
       "        <th style=\"padding-left: 1em; padding-right: 1em; text-align: center\">Website actions</th>\n",
       "    </tr>\n",
       "    <tr>\n",
       "        <td style=\"padding-left: 1em; padding-right: 1em; text-align: center; vertical-align: top\">4061</td>\n",
       "        <td style=\"padding-left: 1em; padding-right: 1em; text-align: center; vertical-align: top\">14</td>\n",
       "        <td style=\"padding-left: 1em; padding-right: 1em; text-align: center; vertical-align: top\">2857</td>\n",
       "        <td style=\"padding-left: 1em; padding-right: 1em; text-align: center; vertical-align: top\"> CO</td>\n",
       "        <td style=\"padding-left: 1em; padding-right: 1em; text-align: center; vertical-align: top\">618</td>\n",
       "        <td style=\"padding-left: 1em; padding-right: 1em; text-align: center; vertical-align: top\">2748</td>\n",
       "        <td style=\"padding-left: 1em; padding-right: 1em; text-align: center; vertical-align: top\">6918</td>\n",
       "        <td style=\"padding-left: 1em; padding-right: 1em; text-align: center; vertical-align: top\">317</td>\n",
       "    </tr>\n",
       "    <tr>\n",
       "        <td style=\"padding-left: 1em; padding-right: 1em; text-align: center; vertical-align: top\">16675</td>\n",
       "        <td style=\"padding-left: 1em; padding-right: 1em; text-align: center; vertical-align: top\">117</td>\n",
       "        <td style=\"padding-left: 1em; padding-right: 1em; text-align: center; vertical-align: top\">10277</td>\n",
       "        <td style=\"padding-left: 1em; padding-right: 1em; text-align: center; vertical-align: top\"> CO</td>\n",
       "        <td style=\"padding-left: 1em; padding-right: 1em; text-align: center; vertical-align: top\">698</td>\n",
       "        <td style=\"padding-left: 1em; padding-right: 1em; text-align: center; vertical-align: top\">10239</td>\n",
       "        <td style=\"padding-left: 1em; padding-right: 1em; text-align: center; vertical-align: top\">26952</td>\n",
       "        <td style=\"padding-left: 1em; padding-right: 1em; text-align: center; vertical-align: top\">121</td>\n",
       "    </tr>\n",
       "    <tr>\n",
       "        <td style=\"padding-left: 1em; padding-right: 1em; text-align: center; vertical-align: top\">10124</td>\n",
       "        <td style=\"padding-left: 1em; padding-right: 1em; text-align: center; vertical-align: top\">71</td>\n",
       "        <td style=\"padding-left: 1em; padding-right: 1em; text-align: center; vertical-align: top\">8888</td>\n",
       "        <td style=\"padding-left: 1em; padding-right: 1em; text-align: center; vertical-align: top\"> Colorado</td>\n",
       "        <td style=\"padding-left: 1em; padding-right: 1em; text-align: center; vertical-align: top\">378</td>\n",
       "        <td style=\"padding-left: 1em; padding-right: 1em; text-align: center; vertical-align: top\">9545</td>\n",
       "        <td style=\"padding-left: 1em; padding-right: 1em; text-align: center; vertical-align: top\">19012</td>\n",
       "        <td style=\"padding-left: 1em; padding-right: 1em; text-align: center; vertical-align: top\">69</td>\n",
       "    </tr>\n",
       "    <tr>\n",
       "        <td style=\"padding-left: 1em; padding-right: 1em; text-align: center; vertical-align: top\">9586</td>\n",
       "        <td style=\"padding-left: 1em; padding-right: 1em; text-align: center; vertical-align: top\">74</td>\n",
       "        <td style=\"padding-left: 1em; padding-right: 1em; text-align: center; vertical-align: top\">7026</td>\n",
       "        <td style=\"padding-left: 1em; padding-right: 1em; text-align: center; vertical-align: top\"> CO</td>\n",
       "        <td style=\"padding-left: 1em; padding-right: 1em; text-align: center; vertical-align: top\">621</td>\n",
       "        <td style=\"padding-left: 1em; padding-right: 1em; text-align: center; vertical-align: top\">6245</td>\n",
       "        <td style=\"padding-left: 1em; padding-right: 1em; text-align: center; vertical-align: top\">16612</td>\n",
       "        <td style=\"padding-left: 1em; padding-right: 1em; text-align: center; vertical-align: top\">214</td>\n",
       "    </tr>\n",
       "    <tr>\n",
       "        <td style=\"padding-left: 1em; padding-right: 1em; text-align: center; vertical-align: top\">11679</td>\n",
       "        <td style=\"padding-left: 1em; padding-right: 1em; text-align: center; vertical-align: top\">78</td>\n",
       "        <td style=\"padding-left: 1em; padding-right: 1em; text-align: center; vertical-align: top\">4292</td>\n",
       "        <td style=\"padding-left: 1em; padding-right: 1em; text-align: center; vertical-align: top\"> Colorado</td>\n",
       "        <td style=\"padding-left: 1em; padding-right: 1em; text-align: center; vertical-align: top\">629</td>\n",
       "        <td style=\"padding-left: 1em; padding-right: 1em; text-align: center; vertical-align: top\">3603</td>\n",
       "        <td style=\"padding-left: 1em; padding-right: 1em; text-align: center; vertical-align: top\">15971</td>\n",
       "        <td style=\"padding-left: 1em; padding-right: 1em; text-align: center; vertical-align: top\">194</td>\n",
       "    </tr>\n",
       "    <tr>\n",
       "        <td style=\"padding-left: 1em; padding-right: 1em; text-align: center; vertical-align: top\">8907</td>\n",
       "        <td style=\"padding-left: 1em; padding-right: 1em; text-align: center; vertical-align: top\">87</td>\n",
       "        <td style=\"padding-left: 1em; padding-right: 1em; text-align: center; vertical-align: top\">6643</td>\n",
       "        <td style=\"padding-left: 1em; padding-right: 1em; text-align: center; vertical-align: top\"> CO</td>\n",
       "        <td style=\"padding-left: 1em; padding-right: 1em; text-align: center; vertical-align: top\">446</td>\n",
       "        <td style=\"padding-left: 1em; padding-right: 1em; text-align: center; vertical-align: top\">6811</td>\n",
       "        <td style=\"padding-left: 1em; padding-right: 1em; text-align: center; vertical-align: top\">15550</td>\n",
       "        <td style=\"padding-left: 1em; padding-right: 1em; text-align: center; vertical-align: top\">93</td>\n",
       "    </tr>\n",
       "    <tr>\n",
       "        <td style=\"padding-left: 1em; padding-right: 1em; text-align: center; vertical-align: top\">24734</td>\n",
       "        <td style=\"padding-left: 1em; padding-right: 1em; text-align: center; vertical-align: top\">66</td>\n",
       "        <td style=\"padding-left: 1em; padding-right: 1em; text-align: center; vertical-align: top\">11105</td>\n",
       "        <td style=\"padding-left: 1em; padding-right: 1em; text-align: center; vertical-align: top\"> CO</td>\n",
       "        <td style=\"padding-left: 1em; padding-right: 1em; text-align: center; vertical-align: top\">668</td>\n",
       "        <td style=\"padding-left: 1em; padding-right: 1em; text-align: center; vertical-align: top\">11465</td>\n",
       "        <td style=\"padding-left: 1em; padding-right: 1em; text-align: center; vertical-align: top\">35839</td>\n",
       "        <td style=\"padding-left: 1em; padding-right: 1em; text-align: center; vertical-align: top\">116</td>\n",
       "    </tr>\n",
       "    <tr>\n",
       "        <td style=\"padding-left: 1em; padding-right: 1em; text-align: center; vertical-align: top\">3818</td>\n",
       "        <td style=\"padding-left: 1em; padding-right: 1em; text-align: center; vertical-align: top\">11</td>\n",
       "        <td style=\"padding-left: 1em; padding-right: 1em; text-align: center; vertical-align: top\">2571</td>\n",
       "        <td style=\"padding-left: 1em; padding-right: 1em; text-align: center; vertical-align: top\"> CO</td>\n",
       "        <td style=\"padding-left: 1em; padding-right: 1em; text-align: center; vertical-align: top\">573</td>\n",
       "        <td style=\"padding-left: 1em; padding-right: 1em; text-align: center; vertical-align: top\">2819</td>\n",
       "        <td style=\"padding-left: 1em; padding-right: 1em; text-align: center; vertical-align: top\">6389</td>\n",
       "        <td style=\"padding-left: 1em; padding-right: 1em; text-align: center; vertical-align: top\">295</td>\n",
       "    </tr>\n",
       "    <tr>\n",
       "        <td style=\"padding-left: 1em; padding-right: 1em; text-align: center; vertical-align: top\">15811</td>\n",
       "        <td style=\"padding-left: 1em; padding-right: 1em; text-align: center; vertical-align: top\">69</td>\n",
       "        <td style=\"padding-left: 1em; padding-right: 1em; text-align: center; vertical-align: top\">9163</td>\n",
       "        <td style=\"padding-left: 1em; padding-right: 1em; text-align: center; vertical-align: top\"> CO</td>\n",
       "        <td style=\"padding-left: 1em; padding-right: 1em; text-align: center; vertical-align: top\">614</td>\n",
       "        <td style=\"padding-left: 1em; padding-right: 1em; text-align: center; vertical-align: top\">9861</td>\n",
       "        <td style=\"padding-left: 1em; padding-right: 1em; text-align: center; vertical-align: top\">24974</td>\n",
       "        <td style=\"padding-left: 1em; padding-right: 1em; text-align: center; vertical-align: top\">108</td>\n",
       "    </tr>\n",
       "    <tr>\n",
       "        <td style=\"padding-left: 1em; padding-right: 1em; text-align: center; vertical-align: top\">9276</td>\n",
       "        <td style=\"padding-left: 1em; padding-right: 1em; text-align: center; vertical-align: top\">62</td>\n",
       "        <td style=\"padding-left: 1em; padding-right: 1em; text-align: center; vertical-align: top\">7789</td>\n",
       "        <td style=\"padding-left: 1em; padding-right: 1em; text-align: center; vertical-align: top\"> Colorado</td>\n",
       "        <td style=\"padding-left: 1em; padding-right: 1em; text-align: center; vertical-align: top\">374</td>\n",
       "        <td style=\"padding-left: 1em; padding-right: 1em; text-align: center; vertical-align: top\">8787</td>\n",
       "        <td style=\"padding-left: 1em; padding-right: 1em; text-align: center; vertical-align: top\">17065</td>\n",
       "        <td style=\"padding-left: 1em; padding-right: 1em; text-align: center; vertical-align: top\">98</td>\n",
       "    </tr>\n",
       "</table>\n",
       "<table frame=\"box\" rules=\"cols\">\n",
       "    <tr>\n",
       "        <th style=\"padding-left: 1em; padding-right: 1em; text-align: center\">Week</th>\n",
       "    </tr>\n",
       "    <tr>\n",
       "        <td style=\"padding-left: 1em; padding-right: 1em; text-align: center; vertical-align: top\">1</td>\n",
       "    </tr>\n",
       "    <tr>\n",
       "        <td style=\"padding-left: 1em; padding-right: 1em; text-align: center; vertical-align: top\">1</td>\n",
       "    </tr>\n",
       "    <tr>\n",
       "        <td style=\"padding-left: 1em; padding-right: 1em; text-align: center; vertical-align: top\">1</td>\n",
       "    </tr>\n",
       "    <tr>\n",
       "        <td style=\"padding-left: 1em; padding-right: 1em; text-align: center; vertical-align: top\">1</td>\n",
       "    </tr>\n",
       "    <tr>\n",
       "        <td style=\"padding-left: 1em; padding-right: 1em; text-align: center; vertical-align: top\">1</td>\n",
       "    </tr>\n",
       "    <tr>\n",
       "        <td style=\"padding-left: 1em; padding-right: 1em; text-align: center; vertical-align: top\">1</td>\n",
       "    </tr>\n",
       "    <tr>\n",
       "        <td style=\"padding-left: 1em; padding-right: 1em; text-align: center; vertical-align: top\">1</td>\n",
       "    </tr>\n",
       "    <tr>\n",
       "        <td style=\"padding-left: 1em; padding-right: 1em; text-align: center; vertical-align: top\">2</td>\n",
       "    </tr>\n",
       "    <tr>\n",
       "        <td style=\"padding-left: 1em; padding-right: 1em; text-align: center; vertical-align: top\">2</td>\n",
       "    </tr>\n",
       "    <tr>\n",
       "        <td style=\"padding-left: 1em; padding-right: 1em; text-align: center; vertical-align: top\">2</td>\n",
       "    </tr>\n",
       "</table>\n",
       "[294 rows x 16 columns]<br/>Note: Only the head of the SFrame is printed.<br/>You can use print_rows(num_rows=m, num_columns=n) to print more rows and columns.\n",
       "</div>"
      ],
      "text/plain": [
       "Columns:\n",
       "\tAddress\tstr\n",
       "\tBusiness name\tstr\n",
       "\tCity\tstr\n",
       "\tCountry\tstr\n",
       "\tDirect searches\tstr\n",
       "\tDirections actions\tstr\n",
       "\tDiscovery searches\tstr\n",
       "\tMaps views\tstr\n",
       "\tPhone call actions\tstr\n",
       "\tSearch views\tstr\n",
       "\tState\tstr\n",
       "\tTotal actions\tstr\n",
       "\tTotal searches\tstr\n",
       "\tTotal views\tstr\n",
       "\tWebsite actions\tstr\n",
       "\tWeek\tint\n",
       "\n",
       "Rows: 294\n",
       "\n",
       "Data:\n",
       "+---------------------------+-------------------------------+---------+---------+\n",
       "|          Address          |         Business name         |   City  | Country |\n",
       "+---------------------------+-------------------------------+---------+---------+\n",
       "|    800 East 26th Avenue   |            Birdcall           |  Denver |    US   |\n",
       "|  1890 South Pearl Street  |       Park Burger Pearl       |  Denver |    US   |\n",
       "|   2643 West 32nd Avenue   |     Park Burger Highlands     |  Denver |    US   |\n",
       "| 5601 Olde Wadsworth Blvd. |     Homegrown Tap & Dough     |  Arvada |    US   |\n",
       "|     1001 S Gaylord St     | Homegrown Tap & Dough - Wa... |  Denver |    US   |\n",
       "|       211 S Holly St      |      Park Burger Hilltop      |  Denver |    US   |\n",
       "|       2615 Walnut St      |        Park Burger RiNo       |  Denver |    US   |\n",
       "|    800 East 26th Avenue   |            Birdcall           |  Denver |    US   |\n",
       "|  1890 South Pearl Street  |       Park Burger Pearl       |  Denver |    US   |\n",
       "|   2643 West 32nd Avenue   |     Park Burger Highlands     |  Denver |    US   |\n",
       "+---------------------------+-------------------------------+---------+---------+\n",
       "+-----------------+--------------------+--------------------+------------+--------------------+\n",
       "| Direct searches | Directions actions | Discovery searches | Maps views | Phone call actions |\n",
       "+-----------------+--------------------+--------------------+------------+--------------------+\n",
       "|       1372      |        287         |        1376        |    4061    |         14         |\n",
       "|       697       |        460         |        9542        |   16675    |        117         |\n",
       "|       274       |        238         |        9271        |   10124    |         71         |\n",
       "|       674       |        333         |        5571        |    9586    |         74         |\n",
       "|       940       |        357         |        2663        |   11679    |         78         |\n",
       "|       318       |        266         |        6493        |    8907    |         87         |\n",
       "|       688       |        486         |       10777        |   24734    |         66         |\n",
       "|       1300      |        267         |        1519        |    3818    |         11         |\n",
       "|       688       |        437         |        9173        |   15811    |         69         |\n",
       "|       275       |        214         |        8512        |    9276    |         62         |\n",
       "+-----------------+--------------------+--------------------+------------+--------------------+\n",
       "+--------------+-----------+---------------+----------------+-------------+-----------------+\n",
       "| Search views |   State   | Total actions | Total searches | Total views | Website actions |\n",
       "+--------------+-----------+---------------+----------------+-------------+-----------------+\n",
       "|     2857     |     CO    |      618      |      2748      |     6918    |       317       |\n",
       "|    10277     |     CO    |      698      |     10239      |    26952    |       121       |\n",
       "|     8888     |  Colorado |      378      |      9545      |    19012    |        69       |\n",
       "|     7026     |     CO    |      621      |      6245      |    16612    |       214       |\n",
       "|     4292     |  Colorado |      629      |      3603      |    15971    |       194       |\n",
       "|     6643     |     CO    |      446      |      6811      |    15550    |        93       |\n",
       "|    11105     |     CO    |      668      |     11465      |    35839    |       116       |\n",
       "|     2571     |     CO    |      573      |      2819      |     6389    |       295       |\n",
       "|     9163     |     CO    |      614      |      9861      |    24974    |       108       |\n",
       "|     7789     |  Colorado |      374      |      8787      |    17065    |        98       |\n",
       "+--------------+-----------+---------------+----------------+-------------+-----------------+\n",
       "+------+\n",
       "| Week |\n",
       "+------+\n",
       "|  1   |\n",
       "|  1   |\n",
       "|  1   |\n",
       "|  1   |\n",
       "|  1   |\n",
       "|  1   |\n",
       "|  1   |\n",
       "|  2   |\n",
       "|  2   |\n",
       "|  2   |\n",
       "+------+\n",
       "[294 rows x 16 columns]\n",
       "Note: Only the head of the SFrame is printed.\n",
       "You can use print_rows(num_rows=m, num_columns=n) to print more rows and columns."
      ]
     },
     "execution_count": 119,
     "metadata": {},
     "output_type": "execute_result"
    }
   ],
   "source": [
    "sframe.remove_column('Store code')\n",
    "sframe.remove_column( 'Labels')"
   ]
  },
  {
   "cell_type": "markdown",
   "metadata": {},
   "source": [
    "## Create a subset for specific Business "
   ]
  },
  {
   "cell_type": "code",
   "execution_count": 123,
   "metadata": {
    "collapsed": false
   },
   "outputs": [],
   "source": [
    "Birdcall_data = sframe[sframe['Business name'] == 'Birdcall']"
   ]
  },
  {
   "cell_type": "markdown",
   "metadata": {},
   "source": [
    "## CSV File export from tidy data matrix"
   ]
  },
  {
   "cell_type": "code",
   "execution_count": 124,
   "metadata": {
    "collapsed": false
   },
   "outputs": [
    {
     "data": {
      "text/plain": [
       "'C:\\\\Users\\\\Heidi\\\\Documents\\\\Python Scripts\\\\weekly sep-june'"
      ]
     },
     "execution_count": 124,
     "metadata": {},
     "output_type": "execute_result"
    }
   ],
   "source": [
    "os.getcwd()"
   ]
  },
  {
   "cell_type": "code",
   "execution_count": 127,
   "metadata": {
    "collapsed": true
   },
   "outputs": [],
   "source": [
    "os.chdir('C:\\\\Users\\\\Heidi\\\\Documents')"
   ]
  },
  {
   "cell_type": "code",
   "execution_count": 128,
   "metadata": {
    "collapsed": false
   },
   "outputs": [
    {
     "data": {
      "text/plain": [
       "'C:\\\\Users\\\\Heidi\\\\Documents'"
      ]
     },
     "execution_count": 128,
     "metadata": {},
     "output_type": "execute_result"
    }
   ],
   "source": [
    "os.getcwd()"
   ]
  },
  {
   "cell_type": "code",
   "execution_count": 129,
   "metadata": {
    "collapsed": false
   },
   "outputs": [
    {
     "data": {
      "text/plain": [
       "['.Rhistory',\n",
       " 'desktop.ini',\n",
       " 'My Music',\n",
       " 'My Pictures',\n",
       " 'My Videos',\n",
       " 'Park Burger',\n",
       " 'Python Scripts',\n",
       " 'R',\n",
       " 'Untitled Folder']"
      ]
     },
     "execution_count": 129,
     "metadata": {},
     "output_type": "execute_result"
    }
   ],
   "source": [
    "os.listdir(os.getcwd())"
   ]
  },
  {
   "cell_type": "code",
   "execution_count": 130,
   "metadata": {
    "collapsed": true
   },
   "outputs": [],
   "source": [
    "os.chdir('C:\\\\Users\\\\Heidi\\\\Documents\\\\Park Burger')"
   ]
  },
  {
   "cell_type": "code",
   "execution_count": 131,
   "metadata": {
    "collapsed": false
   },
   "outputs": [
    {
     "data": {
      "text/plain": [
       "['.Rhistory',\n",
       " 'Adwords Birdcall Campaign Proposal.docx',\n",
       " 'Adwords Birdcall Campaign Proposal.pdf',\n",
       " 'adwords campaigns',\n",
       " 'barplot source day of week new users.R',\n",
       " 'gmb and analytics park burger.csv',\n",
       " 'gmb discovery report.csv',\n",
       " 'gmb regression.R',\n",
       " 'GMB reports',\n",
       " 'Instore cutomer behavior database Proposal.docx',\n",
       " 'instore database.xlsx',\n",
       " 'Keyword Plan.txt',\n",
       " 'New Users www.parkburger.com_Page 2_Table.csv',\n",
       " 'Sales Funnel Database proposal.docx',\n",
       " 'Sales Funnel Database Proposal.pdf',\n",
       " 'sales funnel notes.txt',\n",
       " 'SEO keywords']"
      ]
     },
     "execution_count": 131,
     "metadata": {},
     "output_type": "execute_result"
    }
   ],
   "source": [
    "os.listdir(os.getcwd())"
   ]
  },
  {
   "cell_type": "code",
   "execution_count": 134,
   "metadata": {
    "collapsed": false
   },
   "outputs": [
    {
     "data": {
      "text/plain": [
       "['weekly sep-june']"
      ]
     },
     "execution_count": 134,
     "metadata": {},
     "output_type": "execute_result"
    }
   ],
   "source": [
    "os.chdir('C:\\\\Users\\\\Heidi\\\\Documents\\\\Park Burger\\\\GMB reports')\n",
    "os.listdir(os.getcwd())"
   ]
  },
  {
   "cell_type": "code",
   "execution_count": 139,
   "metadata": {
    "collapsed": true
   },
   "outputs": [],
   "source": [
    "filename = 'C:\\\\Users\\\\Heidi\\\\Documents\\\\Park Burger\\\\GMB reports\\\\gmb matrix.csv'"
   ]
  },
  {
   "cell_type": "code",
   "execution_count": 140,
   "metadata": {
    "collapsed": false
   },
   "outputs": [],
   "source": [
    "sframe.export_csv(filename, delimiter=',', line_terminator='\\n', header=True)"
   ]
  },
  {
   "cell_type": "code",
   "execution_count": 141,
   "metadata": {
    "collapsed": false
   },
   "outputs": [
    {
     "data": {
      "text/plain": [
       "['gmb matrix', 'gmb matrix.csv', 'weekly sep-june']"
      ]
     },
     "execution_count": 141,
     "metadata": {},
     "output_type": "execute_result"
    }
   ],
   "source": [
    "os.listdir(os.getcwd())"
   ]
  }
 ],
 "metadata": {
  "kernelspec": {
   "display_name": "Python 2",
   "language": "python",
   "name": "python2"
  },
  "language_info": {
   "codemirror_mode": {
    "name": "ipython",
    "version": 2
   },
   "file_extension": ".py",
   "mimetype": "text/x-python",
   "name": "python",
   "nbconvert_exporter": "python",
   "pygments_lexer": "ipython2",
   "version": "2.7.11"
  }
 },
 "nbformat": 4,
 "nbformat_minor": 0
}
