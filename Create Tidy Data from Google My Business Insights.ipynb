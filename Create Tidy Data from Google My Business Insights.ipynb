{
 "cells": [
  {
   "cell_type": "code",
   "execution_count": 1,
   "metadata": {
    "collapsed": true
   },
   "outputs": [],
   "source": [
    "import numpy as np\n",
    "import graphlab as gl\n",
    "import re"
   ]
  },
  {
   "cell_type": "markdown",
   "metadata": {},
   "source": [
    "## Test reformatting of untidy GMB data file"
   ]
  },
  {
   "cell_type": "code",
   "execution_count": 2,
   "metadata": {
    "collapsed": true
   },
   "outputs": [],
   "source": [
    "def manual_parsing(filename,delim,dtype):\n",
    "    out = list()\n",
    "    with open(filename,'r') as ins:\n",
    "        for line in ins:\n",
    "            l = line.split(delim)\n",
    "            out.extend(l)\n",
    "    return np.array(out,dtype=dtype)"
   ]
  },
  {
   "cell_type": "code",
   "execution_count": 3,
   "metadata": {
    "collapsed": true
   },
   "outputs": [],
   "source": [
    "test = manual_parsing('GMB insights (Discovery Report) - Heidi Guenther - 2017-9-4 - 2017-9-10.csv',\n",
    "                      delim = '\\r', dtype=None)"
   ]
  },
  {
   "cell_type": "markdown",
   "metadata": {},
   "source": [
    "### look at one line of data"
   ]
  },
  {
   "cell_type": "code",
   "execution_count": 4,
   "metadata": {
    "collapsed": false
   },
   "outputs": [
    {
     "data": {
      "text/plain": [
       "'\"Store code\",\"Business name\",\"Address\",\"Labels\",\"Total searches\",\"Direct searches\",\"Discovery searches\",\"Total views\",\"Search views\",\"Maps views\",\"Total actions\",\"Website actions\",\"Directions actions\",\"Phone call actions\"'"
      ]
     },
     "execution_count": 4,
     "metadata": {},
     "output_type": "execute_result"
    }
   ],
   "source": [
    "test[0]"
   ]
  },
  {
   "cell_type": "markdown",
   "metadata": {},
   "source": [
    "### Remove quotes around each entry"
   ]
  },
  {
   "cell_type": "code",
   "execution_count": 5,
   "metadata": {
    "collapsed": false
   },
   "outputs": [
    {
     "name": "stdout",
     "output_type": "stream",
     "text": [
      "Store code,Business name,Address,Labels,Total searches,Direct searches,Discovery searches,Total views,Search views,Maps views,Total actions,Website actions,Directions actions,Phone call actions\n"
     ]
    }
   ],
   "source": [
    "expr = r\"[\\\"]\"\n",
    "q = re.sub(expr, '', test[0])\n",
    "print q"
   ]
  },
  {
   "cell_type": "markdown",
   "metadata": {},
   "source": [
    "### Turn row into tuple"
   ]
  },
  {
   "cell_type": "code",
   "execution_count": 6,
   "metadata": {
    "collapsed": false
   },
   "outputs": [
    {
     "data": {
      "text/plain": [
       "['Store code',\n",
       " 'Business name',\n",
       " 'Address',\n",
       " 'Labels',\n",
       " 'Total searches',\n",
       " 'Direct searches',\n",
       " 'Discovery searches',\n",
       " 'Total views',\n",
       " 'Search views',\n",
       " 'Maps views',\n",
       " 'Total actions',\n",
       " 'Website actions',\n",
       " 'Directions actions',\n",
       " 'Phone call actions']"
      ]
     },
     "execution_count": 6,
     "metadata": {},
     "output_type": "execute_result"
    }
   ],
   "source": [
    "element_of_list = q.split(',')\n",
    "element_of_list"
   ]
  },
  {
   "cell_type": "markdown",
   "metadata": {},
   "source": [
    "### Append multiple lines into rows of tuples"
   ]
  },
  {
   "cell_type": "code",
   "execution_count": 7,
   "metadata": {
    "collapsed": false
   },
   "outputs": [
    {
     "name": "stdout",
     "output_type": "stream",
     "text": [
      "[['', 'Birdcall', '800 East 26th Avenue', ' Denver', ' CO', ' US', '', '2268', '1213', '1055', '5276', '2278', '2998', '606', '365', '218', '23'], ['', 'Park Burger Pearl', '1890 South Pearl Street', ' Denver', ' CO', ' US', '', '10165', '658', '9507', '24451', '9490', '14961', '680', '120', '445', '115'], ['', 'Park Burger Highlands', '2643 West 32nd Avenue', ' Denver', ' Colorado', ' US', '', '9073', '269', '8804', '18198', '8535', '9663', '395', '100', '229', '66'], ['', 'Homegrown Tap & Dough', '5601 Olde Wadsworth Blvd.', ' Arvada', ' CO', ' US', '', '6223', '564', '5659', '17136', '6567', '10569', '573', '170', '327', '76'], ['', 'Homegrown Tap & Dough - Wash Park', '1001 S Gaylord St', ' Denver', ' Colorado', ' US', '', '3792', '914', '2878', '15561', '4692', '10869', '631', '189', '335', '107'], ['', 'Park Burger Hilltop', '211 S Holly St', ' Denver', ' CO', ' US', '', '7035', '332', '6703', '15863', '6495', '9368', '454', '106', '259', '89'], ['', 'Park Burger RiNo', '2615 Walnut St', ' Denver', ' CO', ' US', '', '10856', '741', '10115', '33012', '9884', '23128', '733', '132', '507', '94']]\n"
     ]
    }
   ],
   "source": [
    "rows = list()\n",
    "\n",
    "#make following rows into lists\n",
    "for i in range(2,9):\n",
    "    expr = r\"[\\\"]\"\n",
    "    remove_quotes = re.sub(expr, '', test[i])\n",
    "    make_a_list = remove_quotes.split(',')\n",
    "    rows.append(make_a_list)\n",
    "    \n",
    "print rows"
   ]
  },
  {
   "cell_type": "code",
   "execution_count": 8,
   "metadata": {
    "collapsed": false
   },
   "outputs": [
    {
     "data": {
      "text/plain": [
       "7"
      ]
     },
     "execution_count": 8,
     "metadata": {},
     "output_type": "execute_result"
    }
   ],
   "source": [
    "len(rows)"
   ]
  },
  {
   "cell_type": "markdown",
   "metadata": {},
   "source": [
    "## Make column names from first line"
   ]
  },
  {
   "cell_type": "markdown",
   "metadata": {
    "collapsed": true
   },
   "source": [
    "names = ['blank','location', 'address', 'city','state', 'country', 'labels', 'total searches', 'direct searches', 'discovery searches', 'total views', \n",
    "                'search views', 'map views', 'total actions', 'website actions', 'direciton actions', 'phone call actions']"
   ]
  },
  {
   "cell_type": "code",
   "execution_count": 9,
   "metadata": {
    "collapsed": true
   },
   "outputs": [],
   "source": [
    "#make header into list from str\n",
    "expr = r\"[\\\"]\"\n",
    "n = re.sub(expr, '', test[0])\n",
    "names = n.split(',')\n",
    "names.insert(3, 'City')\n",
    "names.insert(4, 'State')\n",
    "names.insert(5, 'Country')"
   ]
  },
  {
   "cell_type": "markdown",
   "metadata": {},
   "source": [
    "## Create matrix out of column names and rows"
   ]
  },
  {
   "cell_type": "code",
   "execution_count": 10,
   "metadata": {
    "collapsed": false
   },
   "outputs": [],
   "source": [
    "transverse = np.array(rows).T\n",
    "matrix = dict(zip(names, transverse))"
   ]
  },
  {
   "cell_type": "code",
   "execution_count": 11,
   "metadata": {
    "collapsed": false
   },
   "outputs": [
    {
     "name": "stdout",
     "output_type": "stream",
     "text": [
      "('', 'Birdcall', '800 East 26th Avenue', ' Denver', ' CO', ' US', '', '2268', '1213', '1055', '5276', '2278', '2998', '606', '365', '218', '23')\n"
     ]
    }
   ],
   "source": [
    "print tuple(rows[0])"
   ]
  },
  {
   "cell_type": "code",
   "execution_count": 12,
   "metadata": {
    "collapsed": false
   },
   "outputs": [
    {
     "name": "stderr",
     "output_type": "stream",
     "text": [
      "[INFO] graphlab.cython.cy_server: GraphLab Create v2.1 started. Logging: C:\\Users\\Heidi\\AppData\\Local\\Temp\\graphlab_server_1533879716.log.0\n"
     ]
    },
    {
     "name": "stdout",
     "output_type": "stream",
     "text": [
      "This non-commercial license of GraphLab Create for academic use is assigned to heidijoyguenther@gmail.com and will expire on May 31, 2019.\n"
     ]
    },
    {
     "data": {
      "text/html": [
       "<div style=\"max-height:1000px;max-width:1500px;overflow:auto;\"><table frame=\"box\" rules=\"cols\">\n",
       "    <tr>\n",
       "        <th style=\"padding-left: 1em; padding-right: 1em; text-align: center\">City</th>\n",
       "        <th style=\"padding-left: 1em; padding-right: 1em; text-align: center\">Country</th>\n",
       "        <th style=\"padding-left: 1em; padding-right: 1em; text-align: center\">Direct searches</th>\n",
       "        <th style=\"padding-left: 1em; padding-right: 1em; text-align: center\">Directions actions</th>\n",
       "        <th style=\"padding-left: 1em; padding-right: 1em; text-align: center\">Discovery searches</th>\n",
       "        <th style=\"padding-left: 1em; padding-right: 1em; text-align: center\">Labels</th>\n",
       "        <th style=\"padding-left: 1em; padding-right: 1em; text-align: center\">Maps views</th>\n",
       "        <th style=\"padding-left: 1em; padding-right: 1em; text-align: center\">Phone call actions</th>\n",
       "    </tr>\n",
       "    <tr>\n",
       "        <td style=\"padding-left: 1em; padding-right: 1em; text-align: center; vertical-align: top\"> Denver</td>\n",
       "        <td style=\"padding-left: 1em; padding-right: 1em; text-align: center; vertical-align: top\"> US</td>\n",
       "        <td style=\"padding-left: 1em; padding-right: 1em; text-align: center; vertical-align: top\">1213</td>\n",
       "        <td style=\"padding-left: 1em; padding-right: 1em; text-align: center; vertical-align: top\">218</td>\n",
       "        <td style=\"padding-left: 1em; padding-right: 1em; text-align: center; vertical-align: top\">1055</td>\n",
       "        <td style=\"padding-left: 1em; padding-right: 1em; text-align: center; vertical-align: top\"></td>\n",
       "        <td style=\"padding-left: 1em; padding-right: 1em; text-align: center; vertical-align: top\">2998</td>\n",
       "        <td style=\"padding-left: 1em; padding-right: 1em; text-align: center; vertical-align: top\">23</td>\n",
       "    </tr>\n",
       "    <tr>\n",
       "        <td style=\"padding-left: 1em; padding-right: 1em; text-align: center; vertical-align: top\"> Denver</td>\n",
       "        <td style=\"padding-left: 1em; padding-right: 1em; text-align: center; vertical-align: top\"> US</td>\n",
       "        <td style=\"padding-left: 1em; padding-right: 1em; text-align: center; vertical-align: top\">658</td>\n",
       "        <td style=\"padding-left: 1em; padding-right: 1em; text-align: center; vertical-align: top\">445</td>\n",
       "        <td style=\"padding-left: 1em; padding-right: 1em; text-align: center; vertical-align: top\">9507</td>\n",
       "        <td style=\"padding-left: 1em; padding-right: 1em; text-align: center; vertical-align: top\"></td>\n",
       "        <td style=\"padding-left: 1em; padding-right: 1em; text-align: center; vertical-align: top\">14961</td>\n",
       "        <td style=\"padding-left: 1em; padding-right: 1em; text-align: center; vertical-align: top\">115</td>\n",
       "    </tr>\n",
       "    <tr>\n",
       "        <td style=\"padding-left: 1em; padding-right: 1em; text-align: center; vertical-align: top\"> Denver</td>\n",
       "        <td style=\"padding-left: 1em; padding-right: 1em; text-align: center; vertical-align: top\"> US</td>\n",
       "        <td style=\"padding-left: 1em; padding-right: 1em; text-align: center; vertical-align: top\">269</td>\n",
       "        <td style=\"padding-left: 1em; padding-right: 1em; text-align: center; vertical-align: top\">229</td>\n",
       "        <td style=\"padding-left: 1em; padding-right: 1em; text-align: center; vertical-align: top\">8804</td>\n",
       "        <td style=\"padding-left: 1em; padding-right: 1em; text-align: center; vertical-align: top\"></td>\n",
       "        <td style=\"padding-left: 1em; padding-right: 1em; text-align: center; vertical-align: top\">9663</td>\n",
       "        <td style=\"padding-left: 1em; padding-right: 1em; text-align: center; vertical-align: top\">66</td>\n",
       "    </tr>\n",
       "    <tr>\n",
       "        <td style=\"padding-left: 1em; padding-right: 1em; text-align: center; vertical-align: top\"> Arvada</td>\n",
       "        <td style=\"padding-left: 1em; padding-right: 1em; text-align: center; vertical-align: top\"> US</td>\n",
       "        <td style=\"padding-left: 1em; padding-right: 1em; text-align: center; vertical-align: top\">564</td>\n",
       "        <td style=\"padding-left: 1em; padding-right: 1em; text-align: center; vertical-align: top\">327</td>\n",
       "        <td style=\"padding-left: 1em; padding-right: 1em; text-align: center; vertical-align: top\">5659</td>\n",
       "        <td style=\"padding-left: 1em; padding-right: 1em; text-align: center; vertical-align: top\"></td>\n",
       "        <td style=\"padding-left: 1em; padding-right: 1em; text-align: center; vertical-align: top\">10569</td>\n",
       "        <td style=\"padding-left: 1em; padding-right: 1em; text-align: center; vertical-align: top\">76</td>\n",
       "    </tr>\n",
       "    <tr>\n",
       "        <td style=\"padding-left: 1em; padding-right: 1em; text-align: center; vertical-align: top\"> Denver</td>\n",
       "        <td style=\"padding-left: 1em; padding-right: 1em; text-align: center; vertical-align: top\"> US</td>\n",
       "        <td style=\"padding-left: 1em; padding-right: 1em; text-align: center; vertical-align: top\">914</td>\n",
       "        <td style=\"padding-left: 1em; padding-right: 1em; text-align: center; vertical-align: top\">335</td>\n",
       "        <td style=\"padding-left: 1em; padding-right: 1em; text-align: center; vertical-align: top\">2878</td>\n",
       "        <td style=\"padding-left: 1em; padding-right: 1em; text-align: center; vertical-align: top\"></td>\n",
       "        <td style=\"padding-left: 1em; padding-right: 1em; text-align: center; vertical-align: top\">10869</td>\n",
       "        <td style=\"padding-left: 1em; padding-right: 1em; text-align: center; vertical-align: top\">107</td>\n",
       "    </tr>\n",
       "    <tr>\n",
       "        <td style=\"padding-left: 1em; padding-right: 1em; text-align: center; vertical-align: top\"> Denver</td>\n",
       "        <td style=\"padding-left: 1em; padding-right: 1em; text-align: center; vertical-align: top\"> US</td>\n",
       "        <td style=\"padding-left: 1em; padding-right: 1em; text-align: center; vertical-align: top\">332</td>\n",
       "        <td style=\"padding-left: 1em; padding-right: 1em; text-align: center; vertical-align: top\">259</td>\n",
       "        <td style=\"padding-left: 1em; padding-right: 1em; text-align: center; vertical-align: top\">6703</td>\n",
       "        <td style=\"padding-left: 1em; padding-right: 1em; text-align: center; vertical-align: top\"></td>\n",
       "        <td style=\"padding-left: 1em; padding-right: 1em; text-align: center; vertical-align: top\">9368</td>\n",
       "        <td style=\"padding-left: 1em; padding-right: 1em; text-align: center; vertical-align: top\">89</td>\n",
       "    </tr>\n",
       "    <tr>\n",
       "        <td style=\"padding-left: 1em; padding-right: 1em; text-align: center; vertical-align: top\"> Denver</td>\n",
       "        <td style=\"padding-left: 1em; padding-right: 1em; text-align: center; vertical-align: top\"> US</td>\n",
       "        <td style=\"padding-left: 1em; padding-right: 1em; text-align: center; vertical-align: top\">741</td>\n",
       "        <td style=\"padding-left: 1em; padding-right: 1em; text-align: center; vertical-align: top\">507</td>\n",
       "        <td style=\"padding-left: 1em; padding-right: 1em; text-align: center; vertical-align: top\">10115</td>\n",
       "        <td style=\"padding-left: 1em; padding-right: 1em; text-align: center; vertical-align: top\"></td>\n",
       "        <td style=\"padding-left: 1em; padding-right: 1em; text-align: center; vertical-align: top\">23128</td>\n",
       "        <td style=\"padding-left: 1em; padding-right: 1em; text-align: center; vertical-align: top\">94</td>\n",
       "    </tr>\n",
       "</table>\n",
       "<table frame=\"box\" rules=\"cols\">\n",
       "    <tr>\n",
       "        <th style=\"padding-left: 1em; padding-right: 1em; text-align: center\">Search views</th>\n",
       "        <th style=\"padding-left: 1em; padding-right: 1em; text-align: center\">State</th>\n",
       "        <th style=\"padding-left: 1em; padding-right: 1em; text-align: center\">Store code</th>\n",
       "        <th style=\"padding-left: 1em; padding-right: 1em; text-align: center\">Total actions</th>\n",
       "        <th style=\"padding-left: 1em; padding-right: 1em; text-align: center\">Total searches</th>\n",
       "        <th style=\"padding-left: 1em; padding-right: 1em; text-align: center\">Total views</th>\n",
       "        <th style=\"padding-left: 1em; padding-right: 1em; text-align: center\">Website actions</th>\n",
       "    </tr>\n",
       "    <tr>\n",
       "        <td style=\"padding-left: 1em; padding-right: 1em; text-align: center; vertical-align: top\">2278</td>\n",
       "        <td style=\"padding-left: 1em; padding-right: 1em; text-align: center; vertical-align: top\"> CO</td>\n",
       "        <td style=\"padding-left: 1em; padding-right: 1em; text-align: center; vertical-align: top\"></td>\n",
       "        <td style=\"padding-left: 1em; padding-right: 1em; text-align: center; vertical-align: top\">606</td>\n",
       "        <td style=\"padding-left: 1em; padding-right: 1em; text-align: center; vertical-align: top\">2268</td>\n",
       "        <td style=\"padding-left: 1em; padding-right: 1em; text-align: center; vertical-align: top\">5276</td>\n",
       "        <td style=\"padding-left: 1em; padding-right: 1em; text-align: center; vertical-align: top\">365</td>\n",
       "    </tr>\n",
       "    <tr>\n",
       "        <td style=\"padding-left: 1em; padding-right: 1em; text-align: center; vertical-align: top\">9490</td>\n",
       "        <td style=\"padding-left: 1em; padding-right: 1em; text-align: center; vertical-align: top\"> CO</td>\n",
       "        <td style=\"padding-left: 1em; padding-right: 1em; text-align: center; vertical-align: top\"></td>\n",
       "        <td style=\"padding-left: 1em; padding-right: 1em; text-align: center; vertical-align: top\">680</td>\n",
       "        <td style=\"padding-left: 1em; padding-right: 1em; text-align: center; vertical-align: top\">10165</td>\n",
       "        <td style=\"padding-left: 1em; padding-right: 1em; text-align: center; vertical-align: top\">24451</td>\n",
       "        <td style=\"padding-left: 1em; padding-right: 1em; text-align: center; vertical-align: top\">120</td>\n",
       "    </tr>\n",
       "    <tr>\n",
       "        <td style=\"padding-left: 1em; padding-right: 1em; text-align: center; vertical-align: top\">8535</td>\n",
       "        <td style=\"padding-left: 1em; padding-right: 1em; text-align: center; vertical-align: top\"> Colorado</td>\n",
       "        <td style=\"padding-left: 1em; padding-right: 1em; text-align: center; vertical-align: top\"></td>\n",
       "        <td style=\"padding-left: 1em; padding-right: 1em; text-align: center; vertical-align: top\">395</td>\n",
       "        <td style=\"padding-left: 1em; padding-right: 1em; text-align: center; vertical-align: top\">9073</td>\n",
       "        <td style=\"padding-left: 1em; padding-right: 1em; text-align: center; vertical-align: top\">18198</td>\n",
       "        <td style=\"padding-left: 1em; padding-right: 1em; text-align: center; vertical-align: top\">100</td>\n",
       "    </tr>\n",
       "    <tr>\n",
       "        <td style=\"padding-left: 1em; padding-right: 1em; text-align: center; vertical-align: top\">6567</td>\n",
       "        <td style=\"padding-left: 1em; padding-right: 1em; text-align: center; vertical-align: top\"> CO</td>\n",
       "        <td style=\"padding-left: 1em; padding-right: 1em; text-align: center; vertical-align: top\"></td>\n",
       "        <td style=\"padding-left: 1em; padding-right: 1em; text-align: center; vertical-align: top\">573</td>\n",
       "        <td style=\"padding-left: 1em; padding-right: 1em; text-align: center; vertical-align: top\">6223</td>\n",
       "        <td style=\"padding-left: 1em; padding-right: 1em; text-align: center; vertical-align: top\">17136</td>\n",
       "        <td style=\"padding-left: 1em; padding-right: 1em; text-align: center; vertical-align: top\">170</td>\n",
       "    </tr>\n",
       "    <tr>\n",
       "        <td style=\"padding-left: 1em; padding-right: 1em; text-align: center; vertical-align: top\">4692</td>\n",
       "        <td style=\"padding-left: 1em; padding-right: 1em; text-align: center; vertical-align: top\"> Colorado</td>\n",
       "        <td style=\"padding-left: 1em; padding-right: 1em; text-align: center; vertical-align: top\"></td>\n",
       "        <td style=\"padding-left: 1em; padding-right: 1em; text-align: center; vertical-align: top\">631</td>\n",
       "        <td style=\"padding-left: 1em; padding-right: 1em; text-align: center; vertical-align: top\">3792</td>\n",
       "        <td style=\"padding-left: 1em; padding-right: 1em; text-align: center; vertical-align: top\">15561</td>\n",
       "        <td style=\"padding-left: 1em; padding-right: 1em; text-align: center; vertical-align: top\">189</td>\n",
       "    </tr>\n",
       "    <tr>\n",
       "        <td style=\"padding-left: 1em; padding-right: 1em; text-align: center; vertical-align: top\">6495</td>\n",
       "        <td style=\"padding-left: 1em; padding-right: 1em; text-align: center; vertical-align: top\"> CO</td>\n",
       "        <td style=\"padding-left: 1em; padding-right: 1em; text-align: center; vertical-align: top\"></td>\n",
       "        <td style=\"padding-left: 1em; padding-right: 1em; text-align: center; vertical-align: top\">454</td>\n",
       "        <td style=\"padding-left: 1em; padding-right: 1em; text-align: center; vertical-align: top\">7035</td>\n",
       "        <td style=\"padding-left: 1em; padding-right: 1em; text-align: center; vertical-align: top\">15863</td>\n",
       "        <td style=\"padding-left: 1em; padding-right: 1em; text-align: center; vertical-align: top\">106</td>\n",
       "    </tr>\n",
       "    <tr>\n",
       "        <td style=\"padding-left: 1em; padding-right: 1em; text-align: center; vertical-align: top\">9884</td>\n",
       "        <td style=\"padding-left: 1em; padding-right: 1em; text-align: center; vertical-align: top\"> CO</td>\n",
       "        <td style=\"padding-left: 1em; padding-right: 1em; text-align: center; vertical-align: top\"></td>\n",
       "        <td style=\"padding-left: 1em; padding-right: 1em; text-align: center; vertical-align: top\">733</td>\n",
       "        <td style=\"padding-left: 1em; padding-right: 1em; text-align: center; vertical-align: top\">10856</td>\n",
       "        <td style=\"padding-left: 1em; padding-right: 1em; text-align: center; vertical-align: top\">33012</td>\n",
       "        <td style=\"padding-left: 1em; padding-right: 1em; text-align: center; vertical-align: top\">132</td>\n",
       "    </tr>\n",
       "</table>\n",
       "[7 rows x 15 columns]<br/>\n",
       "</div>"
      ],
      "text/plain": [
       "Columns:\n",
       "\tCity\tstr\n",
       "\tCountry\tstr\n",
       "\tDirect searches\tstr\n",
       "\tDirections actions\tstr\n",
       "\tDiscovery searches\tstr\n",
       "\tLabels\tstr\n",
       "\tMaps views\tstr\n",
       "\tPhone call actions\tstr\n",
       "\tSearch views\tstr\n",
       "\tState\tstr\n",
       "\tStore code\tstr\n",
       "\tTotal actions\tstr\n",
       "\tTotal searches\tstr\n",
       "\tTotal views\tstr\n",
       "\tWebsite actions\tstr\n",
       "\n",
       "Rows: 7\n",
       "\n",
       "Data:\n",
       "+---------+---------+-----------------+--------------------+--------------------+\n",
       "|   City  | Country | Direct searches | Directions actions | Discovery searches |\n",
       "+---------+---------+-----------------+--------------------+--------------------+\n",
       "|  Denver |    US   |       1213      |        218         |        1055        |\n",
       "|  Denver |    US   |       658       |        445         |        9507        |\n",
       "|  Denver |    US   |       269       |        229         |        8804        |\n",
       "|  Arvada |    US   |       564       |        327         |        5659        |\n",
       "|  Denver |    US   |       914       |        335         |        2878        |\n",
       "|  Denver |    US   |       332       |        259         |        6703        |\n",
       "|  Denver |    US   |       741       |        507         |       10115        |\n",
       "+---------+---------+-----------------+--------------------+--------------------+\n",
       "+--------+------------+--------------------+--------------+-----------+------------+\n",
       "| Labels | Maps views | Phone call actions | Search views |   State   | Store code |\n",
       "+--------+------------+--------------------+--------------+-----------+------------+\n",
       "|        |    2998    |         23         |     2278     |     CO    |            |\n",
       "|        |   14961    |        115         |     9490     |     CO    |            |\n",
       "|        |    9663    |         66         |     8535     |  Colorado |            |\n",
       "|        |   10569    |         76         |     6567     |     CO    |            |\n",
       "|        |   10869    |        107         |     4692     |  Colorado |            |\n",
       "|        |    9368    |         89         |     6495     |     CO    |            |\n",
       "|        |   23128    |         94         |     9884     |     CO    |            |\n",
       "+--------+------------+--------------------+--------------+-----------+------------+\n",
       "+---------------+----------------+-------------+-----------------+\n",
       "| Total actions | Total searches | Total views | Website actions |\n",
       "+---------------+----------------+-------------+-----------------+\n",
       "|      606      |      2268      |     5276    |       365       |\n",
       "|      680      |     10165      |    24451    |       120       |\n",
       "|      395      |      9073      |    18198    |       100       |\n",
       "|      573      |      6223      |    17136    |       170       |\n",
       "|      631      |      3792      |    15561    |       189       |\n",
       "|      454      |      7035      |    15863    |       106       |\n",
       "|      733      |     10856      |    33012    |       132       |\n",
       "+---------------+----------------+-------------+-----------------+\n",
       "[7 rows x 15 columns]"
      ]
     },
     "execution_count": 12,
     "metadata": {},
     "output_type": "execute_result"
    }
   ],
   "source": [
    "gl.SFrame(matrix).remove_columns(['Address' ,'Business name'])"
   ]
  },
  {
   "cell_type": "markdown",
   "metadata": {},
   "source": [
    "## Mass import of all files in folder"
   ]
  },
  {
   "cell_type": "code",
   "execution_count": 13,
   "metadata": {
    "collapsed": false
   },
   "outputs": [
    {
     "data": {
      "text/plain": [
       "'C:\\\\Users\\\\Heidi\\\\Documents\\\\Python Scripts'"
      ]
     },
     "execution_count": 13,
     "metadata": {},
     "output_type": "execute_result"
    }
   ],
   "source": [
    "import os\n",
    "my_working_directory = os.getcwd()\n",
    "my_working_directory"
   ]
  },
  {
   "cell_type": "code",
   "execution_count": 14,
   "metadata": {
    "collapsed": false
   },
   "outputs": [
    {
     "data": {
      "text/plain": [
       "['.ipynb_checkpoints',\n",
       " '0_nearest-neighbors-features-and-metrics_blank.ipynb',\n",
       " 'ab test data.txt',\n",
       " 'amazon_baby.gl',\n",
       " 'amazon_baby_subset.gl',\n",
       " 'Analyzing product sentiment.ipynb',\n",
       " 'Comparing Differences in Proportions with  Z-tests.ipynb',\n",
       " 'Create Tidy Data from Google My Business Insights.ipynb',\n",
       " 'Deep Features for image retreival.ipynb',\n",
       " 'Document Retrieval week 4.ipynb',\n",
       " 'Feature Engineering with Google My Business data.ipynb',\n",
       " 'Getting started with iPython Notebook.ipynb',\n",
       " 'Getting started with SFrame.ipynb',\n",
       " 'gmb discovery report.csv',\n",
       " 'GMB insights (Discovery Report) - Heidi Guenther - 2017-9-4 - 2017-9-10.csv',\n",
       " 'Guenther Cover Letter.docx',\n",
       " 'Homegrown GMB sep-june - Sheet1.csv',\n",
       " 'home_data.gl',\n",
       " 'Image classification with deep features 2017.ipynb',\n",
       " 'image_test_data',\n",
       " 'image_train_data',\n",
       " 'important_words.json',\n",
       " 'kc_house_data.gl',\n",
       " 'kc_house_data_small.gl',\n",
       " 'lending-club-data.gl',\n",
       " 'Machine Learning Coursera',\n",
       " 'mcChrystal RA application.txt',\n",
       " 'module-10-online-learning-assignment-blank.ipynb',\n",
       " 'module-2-linear-classifier-assignment-blank.ipynb',\n",
       " 'module-3-linear-classifier-learning-assignment-blank.ipynb',\n",
       " 'module-4-linear-classifier-regularization-assignment-blank.ipynb',\n",
       " 'module-5-decision-tree-assignment-1-blank.ipynb',\n",
       " 'module-5-decision-tree-assignment-2-blank.ipynb',\n",
       " 'module-6-decision-tree-practical-assignment-blank.ipynb',\n",
       " 'module-8-boosting-assignment-1-blank.ipynb',\n",
       " 'module-8-boosting-assignment-2-blank.ipynb',\n",
       " 'module-9-precision-recall-assignment-blank.ipynb',\n",
       " 'numpy-tutorial.ipynb',\n",
       " 'Overfitting_Demo_Ridge_Lasso.ipynb',\n",
       " 'p1.py',\n",
       " 'Park Burger multiple regression.ipynb',\n",
       " 'Park Burger Regression Training.ipynb',\n",
       " 'people_wiki.gl',\n",
       " 'Predicting house prices.ipynb',\n",
       " 'quiz-1 week 1 clustering.ipynb',\n",
       " 'retaildataset',\n",
       " 'Song Recommender.ipynb',\n",
       " 'song_data.gl',\n",
       " 'Testing GMB downloads.ipynb',\n",
       " 'testing.txt',\n",
       " 'Text Analyzer.ipynb',\n",
       " 'Untitled.ipynb',\n",
       " 'week-1-simple-regression-assignment-blank.ipynb',\n",
       " 'week-2-multiple-regression-assignment-2-blank.ipynb',\n",
       " 'week-3-polynomial-regression-assignment-blank.ipynb',\n",
       " 'week-4-ridge-regression-assignment-1-blank.ipynb',\n",
       " 'week-4-ridge-regression-assignment-2-blank.ipynb',\n",
       " 'week-5-lasso-assignment-1-blank.ipynb',\n",
       " 'week-5-lasso-assignment-2-blank.ipynb',\n",
       " 'week-6-local-regression-assignment-blank.ipynb',\n",
       " 'weekly sep-june',\n",
       " 'Wrangling Retail Data from Kaggle.ipynb']"
      ]
     },
     "execution_count": 14,
     "metadata": {},
     "output_type": "execute_result"
    }
   ],
   "source": [
    "files_in_directory = os.listdir(os.getcwd())\n",
    "files_in_directory"
   ]
  },
  {
   "cell_type": "code",
   "execution_count": 15,
   "metadata": {
    "collapsed": false
   },
   "outputs": [
    {
     "data": {
      "text/plain": [
       "'C:\\\\Users\\\\Heidi\\\\Documents\\\\Python Scripts\\\\weekly sep-june'"
      ]
     },
     "execution_count": 15,
     "metadata": {},
     "output_type": "execute_result"
    }
   ],
   "source": [
    "folder_name = 'weekly sep-june'\n",
    "pathname = os.path.join(my_working_directory, folder_name)\n",
    "pathname"
   ]
  },
  {
   "cell_type": "code",
   "execution_count": 16,
   "metadata": {
    "collapsed": false
   },
   "outputs": [],
   "source": [
    "os.chdir(pathname)"
   ]
  },
  {
   "cell_type": "code",
   "execution_count": 17,
   "metadata": {
    "collapsed": false
   },
   "outputs": [
    {
     "data": {
      "text/plain": [
       "'C:\\\\Users\\\\Heidi\\\\Documents\\\\Python Scripts\\\\weekly sep-june'"
      ]
     },
     "execution_count": 17,
     "metadata": {},
     "output_type": "execute_result"
    }
   ],
   "source": [
    "os.getcwd()"
   ]
  },
  {
   "cell_type": "code",
   "execution_count": 18,
   "metadata": {
    "collapsed": false
   },
   "outputs": [
    {
     "data": {
      "text/plain": [
       "['GMB insights (Discovery Report) - Heidi Guenther - 2017-10-16 - 2017-10-22.csv',\n",
       " 'GMB insights (Discovery Report) - Heidi Guenther - 2017-10-2 - 2017-10-8.csv',\n",
       " 'GMB insights (Discovery Report) - Heidi Guenther - 2017-10-23 - 2017-10-29.csv',\n",
       " 'GMB insights (Discovery Report) - Heidi Guenther - 2017-10-30 - 2017-11-5.csv',\n",
       " 'GMB insights (Discovery Report) - Heidi Guenther - 2017-10-9 - 2017-10-15.csv',\n",
       " 'GMB insights (Discovery Report) - Heidi Guenther - 2017-11-13 - 2017-11-19.csv',\n",
       " 'GMB insights (Discovery Report) - Heidi Guenther - 2017-11-20 - 2017-11-26.csv',\n",
       " 'GMB insights (Discovery Report) - Heidi Guenther - 2017-11-27 - 2017-12-3.csv',\n",
       " 'GMB insights (Discovery Report) - Heidi Guenther - 2017-11-6 - 2017-11-12.csv',\n",
       " 'GMB insights (Discovery Report) - Heidi Guenther - 2017-12-11 - 2017-12-17.csv',\n",
       " 'GMB insights (Discovery Report) - Heidi Guenther - 2017-12-18 - 2017-12-24.csv',\n",
       " 'GMB insights (Discovery Report) - Heidi Guenther - 2017-12-25 - 2017-12-31.csv',\n",
       " 'GMB insights (Discovery Report) - Heidi Guenther - 2017-12-4 - 2017-12-10.csv',\n",
       " 'GMB insights (Discovery Report) - Heidi Guenther - 2017-9-11 - 2017-9-17.csv',\n",
       " 'GMB insights (Discovery Report) - Heidi Guenther - 2017-9-18 - 2017-9-24.csv',\n",
       " 'GMB insights (Discovery Report) - Heidi Guenther - 2017-9-25 - 2017-10-1.csv',\n",
       " 'GMB insights (Discovery Report) - Heidi Guenther - 2017-9-4 - 2017-9-10.csv',\n",
       " 'GMB insights (Discovery Report) - Heidi Guenther - 2018-1-1 - 2018-1-7.csv',\n",
       " 'GMB insights (Discovery Report) - Heidi Guenther - 2018-1-15 - 2018-1-21.csv',\n",
       " 'GMB insights (Discovery Report) - Heidi Guenther - 2018-1-22 - 2018-1-28.csv',\n",
       " 'GMB insights (Discovery Report) - Heidi Guenther - 2018-1-29 - 2018-2-4.csv',\n",
       " 'GMB insights (Discovery Report) - Heidi Guenther - 2018-1-8 - 2018-1-14.csv',\n",
       " 'GMB insights (Discovery Report) - Heidi Guenther - 2018-2-12 - 2018-2-18.csv',\n",
       " 'GMB insights (Discovery Report) - Heidi Guenther - 2018-2-19 - 2018-2-25.csv',\n",
       " 'GMB insights (Discovery Report) - Heidi Guenther - 2018-2-26 - 2018-3-4.csv',\n",
       " 'GMB insights (Discovery Report) - Heidi Guenther - 2018-2-5 - 2018-2-11.csv',\n",
       " 'GMB insights (Discovery Report) - Heidi Guenther - 2018-3-12 - 2018-3-18.csv',\n",
       " 'GMB insights (Discovery Report) - Heidi Guenther - 2018-3-19 - 2018-3-25.csv',\n",
       " 'GMB insights (Discovery Report) - Heidi Guenther - 2018-3-26 - 2018-4-1.csv',\n",
       " 'GMB insights (Discovery Report) - Heidi Guenther - 2018-3-5 - 2018-3-11.csv',\n",
       " 'GMB insights (Discovery Report) - Heidi Guenther - 2018-4-16 - 2018-4-22.csv',\n",
       " 'GMB insights (Discovery Report) - Heidi Guenther - 2018-4-2 - 2018-4-29.csv',\n",
       " 'GMB insights (Discovery Report) - Heidi Guenther - 2018-4-2 - 2018-4-8.csv',\n",
       " 'GMB insights (Discovery Report) - Heidi Guenther - 2018-4-30 - 2018-5-6.csv',\n",
       " 'GMB insights (Discovery Report) - Heidi Guenther - 2018-4-9 - 2018-4-15.csv',\n",
       " 'GMB insights (Discovery Report) - Heidi Guenther - 2018-5-14 - 2018-5-20.csv',\n",
       " 'GMB insights (Discovery Report) - Heidi Guenther - 2018-5-21 - 2018-5-27.csv',\n",
       " 'GMB insights (Discovery Report) - Heidi Guenther - 2018-5-28 - 2018-6-3.csv',\n",
       " 'GMB insights (Discovery Report) - Heidi Guenther - 2018-5-7 - 2018-5-13.csv',\n",
       " 'GMB insights (Discovery Report) - Heidi Guenther - 2018-6-11 - 2018-6-17.csv',\n",
       " 'GMB insights (Discovery Report) - Heidi Guenther - 2018-6-16 - 2018-6-17.csv',\n",
       " 'GMB insights (Discovery Report) - Heidi Guenther - 2018-6-4 - 2018-6-10.csv']"
      ]
     },
     "execution_count": 18,
     "metadata": {},
     "output_type": "execute_result"
    }
   ],
   "source": [
    "files_in_directory = os.listdir(os.getcwd())\n",
    "files_in_directory"
   ]
  },
  {
   "cell_type": "code",
   "execution_count": 19,
   "metadata": {
    "collapsed": false
   },
   "outputs": [
    {
     "data": {
      "text/plain": [
       "['GMB insights (Discovery Report) - Heidi Guenther - 2017-10-2 - 2017-10-8.csv',\n",
       " 'GMB insights (Discovery Report) - Heidi Guenther - 2017-10-23 - 2017-10-29.csv',\n",
       " 'GMB insights (Discovery Report) - Heidi Guenther - 2017-10-30 - 2017-11-5.csv',\n",
       " 'GMB insights (Discovery Report) - Heidi Guenther - 2017-10-9 - 2017-10-15.csv']"
      ]
     },
     "execution_count": 19,
     "metadata": {},
     "output_type": "execute_result"
    }
   ],
   "source": [
    "len(files_in_directory)\n",
    "files_in_directory[1:5]"
   ]
  },
  {
   "cell_type": "code",
   "execution_count": 20,
   "metadata": {
    "collapsed": false
   },
   "outputs": [
    {
     "name": "stdout",
     "output_type": "stream",
     "text": [
      "\n"
     ]
    }
   ],
   "source": [
    "expr = r\"[\\\"]\"\n",
    "n = re.sub(expr, '', test[0])\n",
    "names = n.split(',')\n",
    "names.insert(3, 'City')\n",
    "names.insert(4, 'State')\n",
    "names.insert(5, 'Country')\n",
    "print"
   ]
  },
  {
   "cell_type": "code",
   "execution_count": 21,
   "metadata": {
    "collapsed": false
   },
   "outputs": [
    {
     "data": {
      "text/plain": [
       "array([ '\"Store code\",\"Business name\",\"Address\",\"Labels\",\"Total searches\",\"Direct searches\",\"Discovery searches\",\"Total views\",\"Search views\",\"Maps views\",\"Total actions\",\"Website actions\",\"Directions actions\",\"Phone call actions\"',\n",
       "       ',,,,\"Number of times customers found this listing by searching on Google Search or Maps\",\"Number of times customers found this listing by searching for the business name or address on Google Search or Maps\",\"Number of times customers found this listing by searching for the category, product or service on Google Search or Maps\",\"Number of times this listing has been viewed on Google Search or Maps\",\"Number of times this listing has been viewed on Google Search\",\"Number of times this listing has been viewed on Google Maps\",\"Number of times customers have taken action on this listing on Google Search or Maps\",\"Number of times customers have visited the website from this listing\",\"Number of times customers have requested directions from this listing\",\"Number of times customers have called the business from this listing\"',\n",
       "       ',\"Birdcall\",\"800 East 26th Avenue, Denver, CO, US\",,2748,1372,1376,6918,2857,4061,618,317,287,14',\n",
       "       ',\"Park Burger Pearl\",\"1890 South Pearl Street, Denver, CO, US\",,10239,697,9542,26952,10277,16675,698,121,460,117',\n",
       "       ',\"Park Burger Highlands\",\"2643 West 32nd Avenue, Denver, Colorado, US\",,9545,274,9271,19012,8888,10124,378,69,238,71',\n",
       "       ',\"Homegrown Tap & Dough\",\"5601 Olde Wadsworth Blvd., Arvada, CO, US\",,6245,674,5571,16612,7026,9586,621,214,333,74',\n",
       "       ',\"Homegrown Tap & Dough - Wash Park\",\"1001 S Gaylord St, Denver, Colorado, US\",,3603,940,2663,15971,4292,11679,629,194,357,78',\n",
       "       ',\"Park Burger Hilltop\",\"211 S Holly St, Denver, CO, US\",,6811,318,6493,15550,6643,8907,446,93,266,87',\n",
       "       ',\"Park Burger RiNo\",\"2615 Walnut St, Denver, CO, US\",,11465,688,10777,35839,11105,24734,668,116,486,66'], \n",
       "      dtype='|S827')"
      ]
     },
     "execution_count": 21,
     "metadata": {},
     "output_type": "execute_result"
    }
   ],
   "source": [
    "data = manual_parsing(files_in_directory[0], delim = '\\r', dtype=None)\n",
    "data"
   ]
  },
  {
   "cell_type": "code",
   "execution_count": 22,
   "metadata": {
    "collapsed": false
   },
   "outputs": [
    {
     "name": "stdout",
     "output_type": "stream",
     "text": [
      "[['', 'Birdcall', '800 East 26th Avenue', ' Denver', ' CO', ' US', '', '2748', '1372', '1376', '6918', '2857', '4061', '618', '317', '287', '14'], ['', 'Park Burger Pearl', '1890 South Pearl Street', ' Denver', ' CO', ' US', '', '10239', '697', '9542', '26952', '10277', '16675', '698', '121', '460', '117'], ['', 'Park Burger Highlands', '2643 West 32nd Avenue', ' Denver', ' Colorado', ' US', '', '9545', '274', '9271', '19012', '8888', '10124', '378', '69', '238', '71'], ['', 'Homegrown Tap & Dough', '5601 Olde Wadsworth Blvd.', ' Arvada', ' CO', ' US', '', '6245', '674', '5571', '16612', '7026', '9586', '621', '214', '333', '74'], ['', 'Homegrown Tap & Dough - Wash Park', '1001 S Gaylord St', ' Denver', ' Colorado', ' US', '', '3603', '940', '2663', '15971', '4292', '11679', '629', '194', '357', '78'], ['', 'Park Burger Hilltop', '211 S Holly St', ' Denver', ' CO', ' US', '', '6811', '318', '6493', '15550', '6643', '8907', '446', '93', '266', '87'], ['', 'Park Burger RiNo', '2615 Walnut St', ' Denver', ' CO', ' US', '', '11465', '688', '10777', '35839', '11105', '24734', '668', '116', '486', '66'], ['', 'Birdcall', '800 East 26th Avenue', ' Denver', ' CO', ' US', '', '2819', '1300', '1519', '6389', '2571', '3818', '573', '295', '267', '11'], ['', 'Park Burger Pearl', '1890 South Pearl Street', ' Denver', ' CO', ' US', '', '9861', '688', '9173', '24974', '9163', '15811', '614', '108', '437', '69'], ['', 'Park Burger Highlands', '2643 West 32nd Avenue', ' Denver', ' Colorado', ' US', '', '8787', '275', '8512', '17065', '7789', '9276', '374', '98', '214', '62']]\n"
     ]
    }
   ],
   "source": [
    "rows = list()\n",
    "\n",
    "for document in range(len(files_in_directory)):\n",
    "    data = manual_parsing(files_in_directory[document], delim = '\\r', dtype=None)\n",
    "    for i in range(2,9):\n",
    "        expr = r\"[\\\"]\"\n",
    "        remove_quotes = re.sub(expr, '', data[i])\n",
    "        a_list = remove_quotes.split(',')\n",
    "        rows.append(a_list)\n",
    "\n",
    "print rows[0:10]"
   ]
  },
  {
   "cell_type": "code",
   "execution_count": 23,
   "metadata": {
    "collapsed": false
   },
   "outputs": [
    {
     "data": {
      "text/plain": [
       "42"
      ]
     },
     "execution_count": 23,
     "metadata": {},
     "output_type": "execute_result"
    }
   ],
   "source": [
    "len(rows)/7"
   ]
  },
  {
   "cell_type": "code",
   "execution_count": 24,
   "metadata": {
    "collapsed": false
   },
   "outputs": [],
   "source": [
    "transverse = np.array(rows).T"
   ]
  },
  {
   "cell_type": "code",
   "execution_count": 25,
   "metadata": {
    "collapsed": true
   },
   "outputs": [],
   "source": [
    "matrix2 = dict(zip(names, transverse))"
   ]
  },
  {
   "cell_type": "code",
   "execution_count": 26,
   "metadata": {
    "collapsed": false
   },
   "outputs": [],
   "source": [
    "sframe = gl.SFrame(matrix2).remove_columns(['Labels', 'Store code']) #remove empty columns permanently"
   ]
  },
  {
   "cell_type": "code",
   "execution_count": 27,
   "metadata": {
    "collapsed": false
   },
   "outputs": [
    {
     "data": {
      "text/plain": [
       "'GMB insights (Discovery Report) - Heidi Guenther - 2017-10-16 - 2017-10-22.csv'"
      ]
     },
     "execution_count": 27,
     "metadata": {},
     "output_type": "execute_result"
    }
   ],
   "source": [
    "files_in_directory[0]"
   ]
  },
  {
   "cell_type": "code",
   "execution_count": 28,
   "metadata": {
    "collapsed": false
   },
   "outputs": [
    {
     "data": {
      "text/plain": [
       "294"
      ]
     },
     "execution_count": 28,
     "metadata": {},
     "output_type": "execute_result"
    }
   ],
   "source": [
    "len(rows)"
   ]
  },
  {
   "cell_type": "code",
   "execution_count": 29,
   "metadata": {
    "collapsed": false
   },
   "outputs": [
    {
     "data": {
      "text/plain": [
       "294"
      ]
     },
     "execution_count": 29,
     "metadata": {},
     "output_type": "execute_result"
    }
   ],
   "source": [
    "week_code = []\n",
    "for i in range(1, len(rows)/7+1):\n",
    "    week_code.extend([i]*7)\n",
    "len(week_code)"
   ]
  },
  {
   "cell_type": "code",
   "execution_count": 30,
   "metadata": {
    "collapsed": false
   },
   "outputs": [],
   "source": [
    "sframe['Week'] = week_code"
   ]
  },
  {
   "cell_type": "markdown",
   "metadata": {},
   "source": [
    "## Create a subset for specific Business "
   ]
  },
  {
   "cell_type": "code",
   "execution_count": 31,
   "metadata": {
    "collapsed": false
   },
   "outputs": [],
   "source": [
    "Birdcall_data = sframe[sframe['Business name'] == 'Birdcall']"
   ]
  },
  {
   "cell_type": "markdown",
   "metadata": {},
   "source": [
    "## CSV File export from tidy data matrix"
   ]
  },
  {
   "cell_type": "code",
   "execution_count": 32,
   "metadata": {
    "collapsed": false
   },
   "outputs": [
    {
     "data": {
      "text/plain": [
       "'C:\\\\Users\\\\Heidi\\\\Documents\\\\Python Scripts\\\\weekly sep-june'"
      ]
     },
     "execution_count": 32,
     "metadata": {},
     "output_type": "execute_result"
    }
   ],
   "source": [
    "os.getcwd()"
   ]
  },
  {
   "cell_type": "code",
   "execution_count": 33,
   "metadata": {
    "collapsed": true
   },
   "outputs": [],
   "source": [
    "os.chdir('C:\\\\Users\\\\Heidi\\\\Documents')"
   ]
  },
  {
   "cell_type": "code",
   "execution_count": 34,
   "metadata": {
    "collapsed": false
   },
   "outputs": [
    {
     "data": {
      "text/plain": [
       "'C:\\\\Users\\\\Heidi\\\\Documents'"
      ]
     },
     "execution_count": 34,
     "metadata": {},
     "output_type": "execute_result"
    }
   ],
   "source": [
    "os.getcwd()"
   ]
  },
  {
   "cell_type": "code",
   "execution_count": 35,
   "metadata": {
    "collapsed": false
   },
   "outputs": [
    {
     "data": {
      "text/plain": [
       "['.ipynb_checkpoints',\n",
       " '.Rhistory',\n",
       " 'codewars sets.ipynb',\n",
       " 'desktop.ini',\n",
       " 'excel',\n",
       " 'Exploring how to build text analyzer.ipynb',\n",
       " 'My Music',\n",
       " 'My Pictures',\n",
       " 'My Videos',\n",
       " 'Park Burger',\n",
       " 'Python Scripts',\n",
       " 'R',\n",
       " 'signature_themes.txt',\n",
       " 'SQL scripts',\n",
       " 'SQL Server Management Studio',\n",
       " 'Untitled Folder',\n",
       " 'Visa docs',\n",
       " 'Visual Studio 2010',\n",
       " 'Visual Studio 2015',\n",
       " 'WindowsPowerShell',\n",
       " 'word']"
      ]
     },
     "execution_count": 35,
     "metadata": {},
     "output_type": "execute_result"
    }
   ],
   "source": [
    "os.listdir(os.getcwd())"
   ]
  },
  {
   "cell_type": "code",
   "execution_count": 36,
   "metadata": {
    "collapsed": true
   },
   "outputs": [],
   "source": [
    "os.chdir('C:\\\\Users\\\\Heidi\\\\Documents\\\\Park Burger')"
   ]
  },
  {
   "cell_type": "code",
   "execution_count": 37,
   "metadata": {
    "collapsed": false
   },
   "outputs": [
    {
     "data": {
      "text/plain": [
       "['weekly sep-june']"
      ]
     },
     "execution_count": 37,
     "metadata": {},
     "output_type": "execute_result"
    }
   ],
   "source": [
    "os.chdir('C:\\\\Users\\\\Heidi\\\\Documents\\\\Park Burger\\\\GMB reports')\n",
    "os.listdir(os.getcwd())"
   ]
  },
  {
   "cell_type": "code",
   "execution_count": 38,
   "metadata": {
    "collapsed": true
   },
   "outputs": [],
   "source": [
    "filename = 'C:\\\\Users\\\\Heidi\\\\Documents\\\\Park Burger\\\\GMB reports\\\\gmb matrix.csv'"
   ]
  },
  {
   "cell_type": "code",
   "execution_count": 39,
   "metadata": {
    "collapsed": false
   },
   "outputs": [],
   "source": [
    "sframe.export_csv(filename, delimiter=',', line_terminator='\\n', header=True)"
   ]
  },
  {
   "cell_type": "code",
   "execution_count": 40,
   "metadata": {
    "collapsed": false
   },
   "outputs": [
    {
     "data": {
      "text/plain": [
       "['gmb matrix.csv', 'weekly sep-june']"
      ]
     },
     "execution_count": 40,
     "metadata": {},
     "output_type": "execute_result"
    }
   ],
   "source": [
    "os.listdir(os.getcwd())\n",
    "#you can now see that gmb matrix.csv was now created"
   ]
  }
 ],
 "metadata": {
  "kernelspec": {
   "display_name": "Python 2",
   "language": "python",
   "name": "python2"
  },
  "language_info": {
   "codemirror_mode": {
    "name": "ipython",
    "version": 2
   },
   "file_extension": ".py",
   "mimetype": "text/x-python",
   "name": "python",
   "nbconvert_exporter": "python",
   "pygments_lexer": "ipython2",
   "version": "2.7.13"
  }
 },
 "nbformat": 4,
 "nbformat_minor": 0
}
